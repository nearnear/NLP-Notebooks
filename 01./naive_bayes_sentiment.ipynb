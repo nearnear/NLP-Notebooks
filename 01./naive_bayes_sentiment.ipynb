{
 "cells": [
  {
   "cell_type": "markdown",
   "id": "551c6b0f",
   "metadata": {},
   "source": [
    "# Naive Bayes Model for Binary Classification\n",
    "\n",
    "This notebook performs `binary sentiment classification` with `Naive Bayes model`.\n",
    "\n",
    "The dataset used is `GoEmotions` which contains 58k comments from Reddit provided by Google.\n",
    "- It is taken directly from here (https://github.com/google-research/google-research/tree/master/goemotions).\n",
    "\n",
    "Flow of the notebook is as follows:\n",
    "1. Data Processing\n",
    "2. Model Training\n",
    "3. Making Predictions\n",
    "4. Evaluation"
   ]
  },
  {
   "cell_type": "markdown",
   "id": "7a210669",
   "metadata": {},
   "source": [
    "First, import libraries."
   ]
  },
  {
   "cell_type": "code",
   "execution_count": 1,
   "id": "b7fe22b6",
   "metadata": {},
   "outputs": [],
   "source": [
    "# download packages if they are not installed\n",
    "# !pip install nltk\n",
    "# !pip install emoji"
   ]
  },
  {
   "cell_type": "code",
   "execution_count": 2,
   "id": "29e6e7fd",
   "metadata": {},
   "outputs": [
    {
     "name": "stdout",
     "output_type": "stream",
     "text": [
      "Data path: /Users/hjy/nlp_models/naive_bayes/nb_data\n"
     ]
    }
   ],
   "source": [
    "import numpy as np\n",
    "import pandas as pd\n",
    "\n",
    "import matplotlib.pyplot as plt\n",
    "\n",
    "import nltk\n",
    "from nltk.tokenize import RegexpTokenizer\n",
    "import emoji\n",
    "\n",
    "from collections import defaultdict\n",
    "\n",
    "import os\n",
    "import json\n",
    "\n",
    "path = os.getcwd() + '/nb_data'\n",
    "print(f'Data path: {path}')"
   ]
  },
  {
   "cell_type": "markdown",
   "id": "7a4ab09c",
   "metadata": {},
   "source": [
    "## 1. Data Processing\n",
    "\n",
    "For the simplicity of the model (that is to perform binary classification),\n",
    "- Take the first emotion if there are several emotions labeled.\n",
    "- Convert sentiments to either `positive(1)` or `negative(0)`. \n"
   ]
  },
  {
   "cell_type": "code",
   "execution_count": 3,
   "id": "d5898da9",
   "metadata": {},
   "outputs": [
    {
     "name": "stdout",
     "output_type": "stream",
     "text": [
      "['admiration', 'amusement', 'anger', 'annoyance', 'approval', 'caring', 'confusion', 'curiosity', 'desire', 'disappointment', 'disapproval', 'disgust', 'embarrassment', 'excitement', 'fear', 'gratitude', 'grief', 'joy', 'love', 'nervousness', 'optimism', 'pride', 'realization', 'relief', 'remorse', 'sadness', 'surprise', 'neutral']\n",
      "\n",
      " {'positive': ['amusement', 'excitement', 'joy', 'love', 'desire', 'optimism', 'caring', 'pride', 'admiration', 'gratitude', 'relief', 'approval'], 'negative': ['fear', 'nervousness', 'remorse', 'embarrassment', 'disappointment', 'sadness', 'grief', 'disgust', 'anger', 'annoyance', 'disapproval'], 'ambiguous': ['realization', 'surprise', 'curiosity', 'confusion']}\n"
     ]
    }
   ],
   "source": [
    "# call data\n",
    "columns = ('text', 'emotion', 'id')\n",
    "\n",
    "train = pd.read_csv(path + '/train.csv', sep='\\t', names=columns)\n",
    "test = pd.read_csv(path + '/test.csv', sep='\\t', names=columns)\n",
    "\n",
    "\n",
    "# get emotion mapping data\n",
    "emotions = []\n",
    "with open(path + '/emotions.txt', 'r') as file:\n",
    "    for line in file.readlines():\n",
    "        emotions.append(line.strip('\\n'))\n",
    "    \n",
    "print(emotions)\n",
    "\n",
    "# get sentiment dictionary\n",
    "with open(path + '/sentiment_dict.json', 'r') as file:\n",
    "    sent_dict = json.load(file)\n",
    "    \n",
    "print('\\n', sent_dict)"
   ]
  },
  {
   "cell_type": "code",
   "execution_count": 4,
   "id": "a608e5e2",
   "metadata": {},
   "outputs": [],
   "source": [
    "def num2sent(numbs, emotions=emotions, sent_dict=sent_dict):\n",
    "    '''\n",
    "    return 1 if the first emotion is positive, 0 if emotion is negative, and -1 if ambiguous\n",
    "    '''\n",
    "    # get the first emotion\n",
    "    numb = int(numbs.split(',')[0])\n",
    "    \n",
    "    # set label to 1 if positive, 0 if negative and -1 if ambiguous\n",
    "    sent2num = {'positive':int(1), 'negative':int(0), 'ambiguous':int(-1)}\n",
    "    \n",
    "    for senti in sent_dict.keys():\n",
    "        if emotions[numb] in sent_dict[senti]:\n",
    "            return sent2num[senti]\n",
    "\n",
    "        \n",
    "train['emotion'] = train['emotion'].map(num2sent)\n",
    "test['emotion'] = test['emotion'].map(num2sent)\n",
    "\n",
    "train = train[train['emotion'] > -1]\n",
    "test = test[test['emotion'] > -1]\n",
    "\n",
    "\n",
    "train_x = train['text'].to_numpy()\n",
    "train_y = train['emotion'].to_numpy()\n",
    "\n",
    "test_x = test['text'].to_numpy()\n",
    "test_y = test['emotion'].to_numpy()\n",
    "\n",
    "del train, test"
   ]
  },
  {
   "cell_type": "code",
   "execution_count": 5,
   "id": "118aa8da",
   "metadata": {},
   "outputs": [
    {
     "name": "stdout",
     "output_type": "stream",
     "text": [
      "Number of train examples: 26098 \n",
      "Number of test examples: 3248\n",
      "\n",
      "Training data examples:\n",
      "\n",
      "Text data: WHY THE FUCK IS BAYLESS ISOING\n",
      "Label: 0.0\n",
      "\n",
      "Text data: To make her feel threatened\n",
      "Label: 0.0\n",
      "\n",
      "Text data: Dirty Southern Wankers\n",
      "Label: 0.0\n",
      "\n",
      "Text data: Yes I heard abt the f bombs! That has to be why. Thanks for your reply:) until then hubby and I will anxiously wait 😝\n",
      "Label: 1.0\n",
      "\n",
      "Text data: We need more boards and to create a bit more space for [NAME]. Then we’ll be good.\n",
      "Label: 1.0\n",
      "\n",
      "Text data: Damn youtube and outrage drama is super lucrative for reddit\n",
      "Label: 1.0\n",
      "\n",
      "Text data: Aww... she'll probably come around eventually, I'm sure she was just jealous of [NAME]... I mean, what woman wouldn't be! lol \n",
      "Label: 1.0\n",
      "\n",
      "Text data: R/sleeptrain Might be time for some sleep training. Take a look and try to feel out what's right for your family.\n",
      "Label: 1.0\n",
      "\n",
      "Text data: [NAME] - same fucking problem, slightly better command of the English language.\n",
      "Label: 0.0\n",
      "\n",
      "Text data: Shit, I guess I accidentally bought a Pay-Per-View boxing match\n",
      "Label: 0.0\n",
      "\n"
     ]
    }
   ],
   "source": [
    "# print number of train and test examples\n",
    "print(f'Number of train examples: {len(train_x)} \\nNumber of test examples: {len(test_x)}')\n",
    "\n",
    "# print n examples\n",
    "n = 10\n",
    "\n",
    "print('\\nTraining data examples:\\n')\n",
    "for i in range(n):\n",
    "    print(f'Text data: {train_x[i]}\\nLabel: {train_y[i]}\\n')"
   ]
  },
  {
   "cell_type": "markdown",
   "id": "ba7e9ed1",
   "metadata": {},
   "source": [
    "There are more data which is positive than negative. Later, we will multiply prior to compensate the imbalance."
   ]
  },
  {
   "cell_type": "code",
   "execution_count": 6,
   "id": "ffedf2d5",
   "metadata": {},
   "outputs": [
    {
     "data": {
      "image/png": "[encoded data removed]",
      "text/plain": [
       "<Figure size 432x288 with 2 Axes>"
      ]
     },
     "metadata": {},
     "output_type": "display_data"
    }
   ],
   "source": [
    "# count the ratio of positive and negative sentiment in train and test data\n",
    "\n",
    "# get data\n",
    "def len_pos_neg(np_arr):\n",
    "    len_pos = len(np_arr[np_arr == 1])\n",
    "    return [len_pos, len(np_arr) - len_pos]\n",
    "\n",
    "train_ratio = len_pos_neg(train_y)\n",
    "test_ratio = len_pos_neg(test_y)\n",
    "\n",
    "labels = ['Positive', 'Negative']\n",
    "colors = ['#ff9999', '#ffc000']\n",
    "\n",
    "# draw plots\n",
    "plt.subplot(1, 2, 1)\n",
    "plt.pie(train_ratio, labels=labels, autopct='%.1f%%', startangle=260, counterclock=False, colors=colors)\n",
    "plt.title('Train data')\n",
    "\n",
    "plt.subplot(1, 2, 2)\n",
    "plt.pie(test_ratio, labels=labels, autopct='%.1f%%', startangle=260, counterclock=False, colors=colors)\n",
    "plt.title('Test data')\n",
    "\n",
    "plt.tight_layout()\n",
    "plt.show()"
   ]
  },
  {
   "cell_type": "code",
   "execution_count": 7,
   "id": "8614d2c6",
   "metadata": {},
   "outputs": [],
   "source": [
    "# set data pipeline\n",
    "def process(s):\n",
    "    '''process a string sentence data in to a list of tokenized words'''\n",
    "    \n",
    "    # First, delete '[NAME]' entities\n",
    "    s = s.replace('[NAME]', '')\n",
    "    s = s.replace('[RELIGION]', '')\n",
    "    \n",
    "    # set every letter to lower case\n",
    "    s = s.lower()\n",
    "    \n",
    "    # process emojis\n",
    "    s = emoji.demojize(s)\n",
    "    \n",
    "    # tokenize the sentence with RegexpTokenizer\n",
    "    tokenizer = RegexpTokenizer('\\w+|\\$[\\d\\.]+|\\S+')\n",
    "    s_token = tokenizer.tokenize(s)\n",
    "    \n",
    "    return s_token"
   ]
  },
  {
   "cell_type": "code",
   "execution_count": 8,
   "id": "d9b6eaa7",
   "metadata": {},
   "outputs": [
    {
     "name": "stdout",
     "output_type": "stream",
     "text": [
      "Raw text: WHY THE FUCK IS BAYLESS ISOING \n",
      "processed : ['why', 'the', 'fuck', 'is', 'bayless', 'isoing'] \n",
      "\n",
      "Raw text: To make her feel threatened \n",
      "processed : ['to', 'make', 'her', 'feel', 'threatened'] \n",
      "\n",
      "Raw text: Dirty Southern Wankers \n",
      "processed : ['dirty', 'southern', 'wankers'] \n",
      "\n",
      "Raw text: Yes I heard abt the f bombs! That has to be why. Thanks for your reply:) until then hubby and I will anxiously wait 😝 \n",
      "processed : ['yes', 'i', 'heard', 'abt', 'the', 'f', 'bombs', '!', 'that', 'has', 'to', 'be', 'why', '.', 'thanks', 'for', 'your', 'reply', ':)', 'until', 'then', 'hubby', 'and', 'i', 'will', 'anxiously', 'wait', ':squinting_face_with_tongue:'] \n",
      "\n",
      "Raw text: We need more boards and to create a bit more space for [NAME]. Then we’ll be good. \n",
      "processed : ['we', 'need', 'more', 'boards', 'and', 'to', 'create', 'a', 'bit', 'more', 'space', 'for', '.', 'then', 'we', '’ll', 'be', 'good', '.'] \n",
      "\n",
      "Raw text: Damn youtube and outrage drama is super lucrative for reddit \n",
      "processed : ['damn', 'youtube', 'and', 'outrage', 'drama', 'is', 'super', 'lucrative', 'for', 'reddit'] \n",
      "\n",
      "Raw text: Aww... she'll probably come around eventually, I'm sure she was just jealous of [NAME]... I mean, what woman wouldn't be! lol  \n",
      "processed : ['aww', '...', 'she', \"'ll\", 'probably', 'come', 'around', 'eventually', ',', 'i', \"'m\", 'sure', 'she', 'was', 'just', 'jealous', 'of', '...', 'i', 'mean', ',', 'what', 'woman', 'wouldn', \"'t\", 'be', '!', 'lol'] \n",
      "\n",
      "Raw text: R/sleeptrain Might be time for some sleep training. Take a look and try to feel out what's right for your family. \n",
      "processed : ['r', '/sleeptrain', 'might', 'be', 'time', 'for', 'some', 'sleep', 'training', '.', 'take', 'a', 'look', 'and', 'try', 'to', 'feel', 'out', 'what', \"'s\", 'right', 'for', 'your', 'family', '.'] \n",
      "\n",
      "Raw text: [NAME] - same fucking problem, slightly better command of the English language. \n",
      "processed : ['-', 'same', 'fucking', 'problem', ',', 'slightly', 'better', 'command', 'of', 'the', 'english', 'language', '.'] \n",
      "\n",
      "Raw text: Shit, I guess I accidentally bought a Pay-Per-View boxing match \n",
      "processed : ['shit', ',', 'i', 'guess', 'i', 'accidentally', 'bought', 'a', 'pay', '-per-view', 'boxing', 'match'] \n",
      "\n"
     ]
    }
   ],
   "source": [
    "# test process function\n",
    "for i in range(n):\n",
    "    example_s = train_x[i]\n",
    "    print(f'Raw text: {example_s} \\nprocessed : {process(example_s)} \\n')"
   ]
  },
  {
   "cell_type": "markdown",
   "id": "c6afa76a",
   "metadata": {},
   "source": [
    "## 2. Model Training\n",
    "\n",
    "To get the frequency of `(word, class)` pair from the train data, I implemented `get_freq` but `utils.build_freqs` does the same job."
   ]
  },
  {
   "cell_type": "code",
   "execution_count": 9,
   "id": "795477a4",
   "metadata": {},
   "outputs": [],
   "source": [
    "def get_freq(dd, train_x, train_y):\n",
    "    '''\n",
    "    Get frequency dictionary from the training data.\n",
    "    input:\n",
    "        dd : a defaultdict of integer.\n",
    "        train_x : list of tokened sentences of training data.\n",
    "        train_y : list of 0 or 1 corresponding to the train_x. \n",
    "    return:\n",
    "        result : dictionary of (key, value) = (word label pair, frequency).\n",
    "    '''\n",
    "    for sentence, label in zip(train_x, train_y):\n",
    "        for word in process(sentence):\n",
    "            dd[(word, label)] += 1\n",
    "\n",
    "    return dd\n",
    "\n",
    "# count frequency dictionary from train_x and train_y.\n",
    "freqs = get_freq(defaultdict(int), train_x, train_y)"
   ]
  },
  {
   "cell_type": "markdown",
   "id": "f5bd8dcd",
   "metadata": {},
   "source": [
    "To train Naive model is to compute `log_prior` and `log_likelihood` from the training data.  \n",
    "\n",
    "Let's compute the Naive Bayes in the form:\n",
    "$$\n",
    "NB(s) = log\\frac{P(Pos)}{P(Neg)} + \\sum^{m}_{i=1} log\\frac{P(w_i|Pos)}{P(w_i|Neg)}\n",
    "$$\n",
    "with Laplacian smoothing on conditional probability:\n",
    "$$\n",
    "P(w|class) = \\frac{freq(w, class) + 1}{N_{class} + V_{class}}\n",
    "$$"
   ]
  },
  {
   "cell_type": "code",
   "execution_count": 10,
   "id": "22dcc8f0",
   "metadata": {},
   "outputs": [],
   "source": [
    "def train_naive_bayes(freqs, train_x, train_y):\n",
    "    '''\n",
    "    Train Naive Bayes model, that is, get prior and likelihood from the training data.\n",
    "    return:\n",
    "        log_prior : an integer. P(Pos) / P(Neg) value.\n",
    "        log_likelihood : a dictionary of (key, value) = (word, log likelihood)\n",
    "    '''\n",
    "    # log_likelihood relies on words\n",
    "    log_likelihood = dict()\n",
    "    # log prior value relies on the corpus\n",
    "    log_prior = 0\n",
    "\n",
    "    # get unique words from the frequency dict\n",
    "    vocab = list(set([k[0] for k in freqs.keys()]))\n",
    "    V = len(vocab)\n",
    "\n",
    "    # get N_pos and N_neg\n",
    "    N_pos = N_neg = 0\n",
    "    for pair in freqs.keys():\n",
    "        # if label is 1, the word is positive.\n",
    "        if pair[1] == 1:\n",
    "            N_pos += freqs[pair]\n",
    "        # if label is 0, the word is negative.\n",
    "        else:\n",
    "            N_neg += freqs[pair]\n",
    "\n",
    "    # get log likelihood\n",
    "    for w in vocab:\n",
    "        # get positive and negative frequency of word w.\n",
    "        freq_pos = freqs.get((w, 1), 0)\n",
    "        freq_neg = freqs.get((w, 0), 0)\n",
    "\n",
    "        # get P(w|Pos) and P(w|Neg).\n",
    "        p_w_pos = (freq_pos + 1) / (N_pos + V)\n",
    "        p_w_neg = (freq_neg + 1) / (N_neg + V)\n",
    "\n",
    "        log_likelihood[w] = np.log(p_w_pos) - np.log(p_w_neg)\n",
    "\n",
    "    # to compute log_prior,\n",
    "    # get the number of positive and negative labels\n",
    "    num_label = len(train_y)\n",
    "    num_pos = len(train_y[train_y == 1])\n",
    "    num_neg = len(train_y[train_y == 0])\n",
    "\n",
    "    # log prior = log(P(Pos)) - log(P(Neg))\n",
    "    log_prior = np.log(num_pos / num_label) - np.log(num_neg / num_label)\n",
    "\n",
    "    return log_prior, log_likelihood, vocab"
   ]
  },
  {
   "cell_type": "code",
   "execution_count": 11,
   "id": "30a10c6e",
   "metadata": {},
   "outputs": [
    {
     "name": "stdout",
     "output_type": "stream",
     "text": [
      "log prior: 0.6163959534768829\n",
      "log likelihood for pair (bottle, 1): -0.6573034506496942\n",
      "log likelihood for pair (figured, 1): 0.7206226607996786\n",
      "log likelihood for pair (globally, 1): 0.18999440973750836\n",
      "log likelihood for pair (sales, 1): -0.5031527708224353\n",
      "log likelihood for pair (civilizations, 1): -1.6017650594905462\n",
      "log likelihood for pair (yaaaaaas, 1): 0.18999440973750836\n",
      "log likelihood for pair (*), 1): 0.18999440973750836\n",
      "log likelihood for pair (tdagarim, 1): 0.18999440973750836\n",
      "log likelihood for pair (us, 1): -0.03859874634426497\n",
      "log likelihood for pair (scarecrow, 1): 0.5954595178456721\n"
     ]
    }
   ],
   "source": [
    "# get log prior and log likelihood from the training data\n",
    "# so that we can train on test data.\n",
    "log_prior, log_likelihood, vocab = train_naive_bayes(freqs, train_x, train_y)\n",
    "\n",
    "print(f'log prior: {log_prior}')\n",
    "\n",
    "for i in range(n):\n",
    "    print(f'log likelihood for pair ({vocab[i]}, 1): {log_likelihood[(vocab[i])]}')"
   ]
  },
  {
   "cell_type": "markdown",
   "id": "6b592ec9",
   "metadata": {},
   "source": [
    "## 3. Making Predictions"
   ]
  },
  {
   "cell_type": "code",
   "execution_count": 12,
   "id": "b182d2ab",
   "metadata": {},
   "outputs": [],
   "source": [
    "def predict_naive_bayes(s, log_prior, log_likelihood):\n",
    "    '''\n",
    "    input:\n",
    "        s : a list. Input sentence.\n",
    "        log_prior : log prior from trained naive bayes.\n",
    "        log_likelihood : log likelihood from trained naive bayes.\n",
    "    return:\n",
    "        log_prob : float between 0 and 1. probability that s is positive.\n",
    "    '''    \n",
    "\n",
    "    words = process(s)\n",
    "    log_prob = 0\n",
    "\n",
    "    for w in words:\n",
    "        if w in log_likelihood:\n",
    "            log_prob += log_likelihood[w]\n",
    "\n",
    "    log_prob += log_prior\n",
    "\n",
    "    return log_prob"
   ]
  },
  {
   "cell_type": "markdown",
   "id": "c33eeb5f",
   "metadata": {},
   "source": [
    "Now let's run some tests with the trained model."
   ]
  },
  {
   "cell_type": "code",
   "execution_count": 13,
   "id": "f14f26db",
   "metadata": {},
   "outputs": [
    {
     "name": "stdout",
     "output_type": "stream",
     "text": [
      "prediction: 3.5899659770696997\n"
     ]
    }
   ],
   "source": [
    "# predict probability on some test data.\n",
    "test_data = 'hope you get well soon. it hurts to see you ill 😢'\n",
    "print('prediction:', predict_naive_bayes(test_data, log_prior, log_likelihood))"
   ]
  },
  {
   "cell_type": "markdown",
   "id": "95913d57",
   "metadata": {},
   "source": [
    "This example seems to predict right. Let's look at the following examples."
   ]
  },
  {
   "cell_type": "code",
   "execution_count": 14,
   "id": "c406ce9c",
   "metadata": {},
   "outputs": [
    {
     "name": "stdout",
     "output_type": "stream",
     "text": [
      "prediction: -0.9631403029841944\n"
     ]
    }
   ],
   "source": [
    "test_data = 'the class was in a terrible mood...'\n",
    "print('prediction:', predict_naive_bayes(test_data, log_prior, log_likelihood))"
   ]
  },
  {
   "cell_type": "code",
   "execution_count": 15,
   "id": "18f38c6d",
   "metadata": {},
   "outputs": [
    {
     "name": "stdout",
     "output_type": "stream",
     "text": [
      "prediction: 1.7861563324372813\n"
     ]
    }
   ],
   "source": [
    "test_data = 'the class was in a terrible mood... haha...'\n",
    "print('prediction:', predict_naive_bayes(test_data, log_prior, log_likelihood))"
   ]
  },
  {
   "cell_type": "markdown",
   "id": "22ede4fa",
   "metadata": {},
   "source": [
    "#### The model takes it hard to predict sarcastic or euphemistic contexts."
   ]
  },
  {
   "cell_type": "code",
   "execution_count": 16,
   "id": "c18f582e",
   "metadata": {},
   "outputs": [
    {
     "name": "stdout",
     "output_type": "stream",
     "text": [
      "prediction: 0.6163959534768829\n",
      "Are \"boooooring\" and \"log_prior\" the same in their value?: True\n"
     ]
    }
   ],
   "source": [
    "test_data = 'boooooring'\n",
    "prob = predict_naive_bayes(test_data, log_prior, log_likelihood)\n",
    "\n",
    "print('prediction:', prob)\n",
    "print(f'Are \"{test_data}\" and \"log_prior\" the same in their value?: {prob == log_prior}')"
   ]
  },
  {
   "cell_type": "markdown",
   "id": "42ccf566",
   "metadata": {},
   "source": [
    "#### Note that the word which do not appear in the corpus is not actually computed. \n",
    "\n",
    "This is because Naive Bayes rely on word frequency of the given corpus. In later models, this without-vocab words are named 'unknown words' and dealt with fresh ideas."
   ]
  },
  {
   "cell_type": "markdown",
   "id": "665b6a56",
   "metadata": {},
   "source": [
    "## 4. Evaluation\n",
    "\n",
    "To evaluate the model, we need to transform the data into a labeled form. That is, we need to convert the data gained by `predict_naive_bayes` into binary (`1` or `0`) form. \n",
    "\n",
    "Note that the neutral value of `log_prob` is `0`, not `1`."
   ]
  },
  {
   "cell_type": "code",
   "execution_count": 17,
   "id": "6d8a200c",
   "metadata": {},
   "outputs": [],
   "source": [
    "def sign(log_prob):\n",
    "    return 1 if log_prob > 0 else 0\n",
    "\n",
    "def get_accuracy(test_x, test_y, log_prior, log_likelihood):\n",
    "    '''return accuracy of the prediction on test data'''\n",
    "    \n",
    "    matches = 0\n",
    "\n",
    "    for s, label in zip(test_x, test_y):\n",
    "        l_prob = predict_naive_bayes(s, log_prior, log_likelihood)\n",
    "        if sign(l_prob) == label:\n",
    "            matches += 1\n",
    "            \n",
    "    return matches / len(test_x) * 100"
   ]
  },
  {
   "cell_type": "code",
   "execution_count": 18,
   "id": "cb69aa06",
   "metadata": {},
   "outputs": [
    {
     "name": "stdout",
     "output_type": "stream",
     "text": [
      "81.71182266009852\n"
     ]
    }
   ],
   "source": [
    "# get model accuray on the test data\n",
    "accuracy = get_accuracy(test_x, test_y, log_prior, log_likelihood)\n",
    "print(accuracy)"
   ]
  },
  {
   "cell_type": "markdown",
   "id": "0229c4a2",
   "metadata": {},
   "source": [
    "#### We have achieved 81% accuracy with Naive Bayes Model!"
   ]
  }
 ],
 "metadata": {
  "kernelspec": {
   "display_name": "Python 3 (ipykernel)",
   "language": "python",
   "name": "python3"
  },
  "language_info": {
   "codemirror_mode": {
    "name": "ipython",
    "version": 3
   },
   "file_extension": ".py",
   "mimetype": "text/x-python",
   "name": "python",
   "nbconvert_exporter": "python",
   "pygments_lexer": "ipython3",
   "version": "3.8.12"
  }
 },
 "nbformat": 4,
 "nbformat_minor": 5
}
