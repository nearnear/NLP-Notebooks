{
 "cells": [
  {
   "cell_type": "markdown",
   "id": "0ec93999",
   "metadata": {
    "papermill": {
     "duration": 0.029039,
     "end_time": "2022-05-12T02:01:07.230552",
     "exception": false,
     "start_time": "2022-05-12T02:01:07.201513",
     "status": "completed"
    },
    "tags": []
   },
   "source": [
    "## NBME Competition Notebook\n",
    "\n",
    "### Notebook Features\n",
    "- HuggingFace API, PyTorch\n",
    "- Sequence Classification\n",
    "- Binary Token Classification for character multi-span"
   ]
  },
  {
   "cell_type": "markdown",
   "id": "bfb19450",
   "metadata": {
    "papermill": {
     "duration": 0.029149,
     "end_time": "2022-05-12T02:01:07.287122",
     "exception": false,
     "start_time": "2022-05-12T02:01:07.257973",
     "status": "completed"
    },
    "tags": []
   },
   "source": [
    "## 0. Load Dependencies\n",
    "Load `datasets` library offline. The method refer to:\n",
    "- https://www.kaggle.com/code/samuelepino/pip-downloading-packages-to-your-local-machine/notebook?scriptVersionId=29576961"
   ]
  },
  {
   "cell_type": "code",
   "execution_count": 1,
   "id": "4857cdaf",
   "metadata": {
    "execution": {
     "iopub.execute_input": "2022-05-12T02:01:07.350532Z",
     "iopub.status.busy": "2022-05-12T02:01:07.349995Z",
     "iopub.status.idle": "2022-05-12T02:01:08.103077Z",
     "shell.execute_reply": "2022-05-12T02:01:08.102243Z"
    },
    "papermill": {
     "duration": 0.787225,
     "end_time": "2022-05-12T02:01:08.105230",
     "exception": false,
     "start_time": "2022-05-12T02:01:07.318005",
     "status": "completed"
    },
    "tags": []
   },
   "outputs": [
    {
     "name": "stdout",
     "output_type": "stream",
     "text": [
      "PyYAML-6.0-cp37-cp37m-manylinux_2_5_x86_64.manylinux1_x86_64.manylinux_2_12_x86_64.manylinux2010_x86_64.whl\r\n",
      "aiohttp-3.8.1-cp37-cp37m-manylinux_2_5_x86_64.manylinux1_x86_64.manylinux_2_12_x86_64.manylinux2010_x86_64.whl\r\n",
      "aiosignal-1.2.0-py3-none-any.whl\r\n",
      "async_timeout-4.0.2-py3-none-any.whl\r\n",
      "asynctest-0.13.0-py3-none-any.whl\r\n",
      "attrs-21.4.0-py2.py3-none-any.whl\r\n",
      "certifi-2021.10.8-py2.py3-none-any.whl\r\n",
      "charset_normalizer-2.0.12-py3-none-any.whl\r\n",
      "datasets-2.1.0-py3-none-any.whl\r\n",
      "dill-0.3.4-py2.py3-none-any.whl\r\n",
      "filelock-3.6.0-py3-none-any.whl\r\n",
      "frozenlist-1.3.0-cp37-cp37m-manylinux_2_5_x86_64.manylinux1_x86_64.manylinux_2_17_x86_64.manylinux2014_x86_64.whl\r\n",
      "fsspec-2022.3.0-py3-none-any.whl\r\n",
      "huggingface_hub-0.5.1-py3-none-any.whl\r\n",
      "idna-3.3-py3-none-any.whl\r\n",
      "importlib_metadata-4.11.3-py3-none-any.whl\r\n",
      "multidict-6.0.2-cp37-cp37m-manylinux_2_17_x86_64.manylinux2014_x86_64.whl\r\n",
      "multiprocess-0.70.12.2-py37-none-any.whl\r\n",
      "numpy-1.21.6-cp37-cp37m-manylinux_2_12_x86_64.manylinux2010_x86_64.whl\r\n",
      "packaging-21.3-py3-none-any.whl\r\n",
      "pandas-1.3.5-cp37-cp37m-manylinux_2_17_x86_64.manylinux2014_x86_64.whl\r\n",
      "pyarrow-7.0.0-cp37-cp37m-manylinux_2_17_x86_64.manylinux2014_x86_64.whl\r\n",
      "pyparsing-3.0.8-py3-none-any.whl\r\n",
      "python_dateutil-2.8.2-py2.py3-none-any.whl\r\n",
      "pytz-2022.1-py2.py3-none-any.whl\r\n",
      "requests-2.27.1-py2.py3-none-any.whl\r\n",
      "responses-0.18.0-py3-none-any.whl\r\n",
      "six-1.16.0-py2.py3-none-any.whl\r\n",
      "tqdm-4.64.0-py2.py3-none-any.whl\r\n",
      "typing_extensions-4.2.0-py3-none-any.whl\r\n",
      "urllib3-1.26.9-py2.py3-none-any.whl\r\n",
      "xxhash-3.0.0-cp37-cp37m-manylinux_2_17_x86_64.manylinux2014_x86_64.whl\r\n",
      "yarl-1.7.2-cp37-cp37m-manylinux_2_5_x86_64.manylinux1_x86_64.manylinux_2_12_x86_64.manylinux2010_x86_64.whl\r\n",
      "zipp-3.8.0-py3-none-any.whl\r\n"
     ]
    }
   ],
   "source": [
    "!ls ../input/nbme-pre-trained-models/datasets"
   ]
  },
  {
   "cell_type": "code",
   "execution_count": 2,
   "id": "db58466d",
   "metadata": {
    "execution": {
     "iopub.execute_input": "2022-05-12T02:01:08.167765Z",
     "iopub.status.busy": "2022-05-12T02:01:08.166917Z",
     "iopub.status.idle": "2022-05-12T02:01:18.941130Z",
     "shell.execute_reply": "2022-05-12T02:01:18.940188Z"
    },
    "papermill": {
     "duration": 10.805599,
     "end_time": "2022-05-12T02:01:18.943514",
     "exception": false,
     "start_time": "2022-05-12T02:01:08.137915",
     "status": "completed"
    },
    "tags": []
   },
   "outputs": [
    {
     "name": "stdout",
     "output_type": "stream",
     "text": [
      "Looking in links: file:///kaggle/input/nbme-pre-trained-models/datasets\r\n",
      "Processing /kaggle/input/nbme-pre-trained-models/datasets/datasets-2.1.0-py3-none-any.whl\r\n",
      "Requirement already satisfied: packaging in /opt/conda/lib/python3.7/site-packages (from datasets) (21.3)\r\n",
      "Processing /kaggle/input/nbme-pre-trained-models/datasets/responses-0.18.0-py3-none-any.whl\r\n",
      "Requirement already satisfied: requests>=2.19.0 in /opt/conda/lib/python3.7/site-packages (from datasets) (2.27.1)\r\n",
      "Requirement already satisfied: aiohttp in /opt/conda/lib/python3.7/site-packages (from datasets) (3.8.1)\r\n",
      "Requirement already satisfied: importlib-metadata in /opt/conda/lib/python3.7/site-packages (from datasets) (4.11.3)\r\n",
      "Requirement already satisfied: numpy>=1.17 in /opt/conda/lib/python3.7/site-packages (from datasets) (1.21.6)\r\n",
      "Requirement already satisfied: pyarrow>=5.0.0 in /opt/conda/lib/python3.7/site-packages (from datasets) (7.0.0)\r\n",
      "Processing /kaggle/input/nbme-pre-trained-models/datasets/xxhash-3.0.0-cp37-cp37m-manylinux_2_17_x86_64.manylinux2014_x86_64.whl\r\n",
      "Requirement already satisfied: multiprocess in /opt/conda/lib/python3.7/site-packages (from datasets) (0.70.12.2)\r\n",
      "Requirement already satisfied: fsspec[http]>=2021.05.0 in /opt/conda/lib/python3.7/site-packages (from datasets) (2022.3.0)\r\n",
      "Requirement already satisfied: pandas in /opt/conda/lib/python3.7/site-packages (from datasets) (1.3.5)\r\n",
      "Requirement already satisfied: huggingface-hub<1.0.0,>=0.1.0 in /opt/conda/lib/python3.7/site-packages (from datasets) (0.5.1)\r\n",
      "Requirement already satisfied: dill in /opt/conda/lib/python3.7/site-packages (from datasets) (0.3.4)\r\n",
      "Requirement already satisfied: tqdm>=4.62.1 in /opt/conda/lib/python3.7/site-packages (from datasets) (4.63.0)\r\n",
      "Requirement already satisfied: filelock in /opt/conda/lib/python3.7/site-packages (from huggingface-hub<1.0.0,>=0.1.0->datasets) (3.6.0)\r\n",
      "Requirement already satisfied: typing-extensions>=3.7.4.3 in /opt/conda/lib/python3.7/site-packages (from huggingface-hub<1.0.0,>=0.1.0->datasets) (4.2.0)\r\n",
      "Requirement already satisfied: pyyaml in /opt/conda/lib/python3.7/site-packages (from huggingface-hub<1.0.0,>=0.1.0->datasets) (6.0)\r\n",
      "Requirement already satisfied: pyparsing!=3.0.5,>=2.0.2 in /opt/conda/lib/python3.7/site-packages (from packaging->datasets) (3.0.7)\r\n",
      "Requirement already satisfied: idna<4,>=2.5 in /opt/conda/lib/python3.7/site-packages (from requests>=2.19.0->datasets) (3.3)\r\n",
      "Requirement already satisfied: certifi>=2017.4.17 in /opt/conda/lib/python3.7/site-packages (from requests>=2.19.0->datasets) (2021.10.8)\r\n",
      "Requirement already satisfied: charset-normalizer~=2.0.0 in /opt/conda/lib/python3.7/site-packages (from requests>=2.19.0->datasets) (2.0.12)\r\n",
      "Requirement already satisfied: urllib3<1.27,>=1.21.1 in /opt/conda/lib/python3.7/site-packages (from requests>=2.19.0->datasets) (1.26.8)\r\n",
      "Requirement already satisfied: attrs>=17.3.0 in /opt/conda/lib/python3.7/site-packages (from aiohttp->datasets) (21.4.0)\r\n",
      "Requirement already satisfied: multidict<7.0,>=4.5 in /opt/conda/lib/python3.7/site-packages (from aiohttp->datasets) (6.0.2)\r\n",
      "Requirement already satisfied: async-timeout<5.0,>=4.0.0a3 in /opt/conda/lib/python3.7/site-packages (from aiohttp->datasets) (4.0.2)\r\n",
      "Requirement already satisfied: aiosignal>=1.1.2 in /opt/conda/lib/python3.7/site-packages (from aiohttp->datasets) (1.2.0)\r\n",
      "Requirement already satisfied: frozenlist>=1.1.1 in /opt/conda/lib/python3.7/site-packages (from aiohttp->datasets) (1.3.0)\r\n",
      "Requirement already satisfied: yarl<2.0,>=1.0 in /opt/conda/lib/python3.7/site-packages (from aiohttp->datasets) (1.7.2)\r\n",
      "Requirement already satisfied: asynctest==0.13.0 in /opt/conda/lib/python3.7/site-packages (from aiohttp->datasets) (0.13.0)\r\n",
      "Requirement already satisfied: zipp>=0.5 in /opt/conda/lib/python3.7/site-packages (from importlib-metadata->datasets) (3.7.0)\r\n",
      "Requirement already satisfied: python-dateutil>=2.7.3 in /opt/conda/lib/python3.7/site-packages (from pandas->datasets) (2.8.2)\r\n",
      "Requirement already satisfied: pytz>=2017.3 in /opt/conda/lib/python3.7/site-packages (from pandas->datasets) (2021.3)\r\n",
      "Requirement already satisfied: six>=1.5 in /opt/conda/lib/python3.7/site-packages (from python-dateutil>=2.7.3->pandas->datasets) (1.16.0)\r\n",
      "Installing collected packages: xxhash, responses, datasets\r\n",
      "Successfully installed datasets-2.1.0 responses-0.18.0 xxhash-3.0.0\r\n",
      "\u001b[33mWARNING: Running pip as the 'root' user can result in broken permissions and conflicting behaviour with the system package manager. It is recommended to use a virtual environment instead: https://pip.pypa.io/warnings/venv\u001b[0m\u001b[33m\r\n",
      "\u001b[0m"
     ]
    }
   ],
   "source": [
    "!pip install datasets --no-index --find-links=file:///kaggle/input/nbme-pre-trained-models/datasets"
   ]
  },
  {
   "cell_type": "code",
   "execution_count": 3,
   "id": "905f33d3",
   "metadata": {
    "execution": {
     "iopub.execute_input": "2022-05-12T02:01:19.008468Z",
     "iopub.status.busy": "2022-05-12T02:01:19.008206Z",
     "iopub.status.idle": "2022-05-12T02:01:27.168876Z",
     "shell.execute_reply": "2022-05-12T02:01:27.168041Z"
    },
    "papermill": {
     "duration": 8.195796,
     "end_time": "2022-05-12T02:01:27.171002",
     "exception": false,
     "start_time": "2022-05-12T02:01:18.975206",
     "status": "completed"
    },
    "tags": []
   },
   "outputs": [
    {
     "name": "stdout",
     "output_type": "stream",
     "text": [
      "14300 Index(['id', 'case_num', 'pn_num', 'feature_num', 'annotation', 'location'], dtype='object')\n",
      "143 Index(['feature_num', 'case_num', 'feature_text'], dtype='object')\n",
      "42146 Index(['pn_num', 'case_num', 'pn_history'], dtype='object')\n",
      "5 Index(['id', 'case_num', 'pn_num', 'feature_num'], dtype='object')\n",
      "5 Index(['id', 'location'], dtype='object')\n",
      "\n",
      "Current Device:  cuda:0\n",
      "Number of CUDA device:  1\n",
      "Device name:  Tesla P100-PCIE-16GB\n"
     ]
    }
   ],
   "source": [
    "import re\n",
    "import numpy as np \n",
    "import pandas as pd\n",
    "import tensorflow as tf\n",
    "\n",
    "import os\n",
    "import torch\n",
    "from torch import nn\n",
    "\n",
    "from datasets import load_dataset, Dataset\n",
    "from transformers import AutoTokenizer, AutoModelForSequenceClassification, AutoModelForTokenClassification\n",
    "from transformers import DataCollatorWithPadding, DataCollatorForTokenClassification\n",
    "from transformers import TrainingArguments, Trainer\n",
    "\n",
    "path = '../input/nbme-score-clinical-patient-notes'\n",
    "\n",
    "train = pd.read_csv(path + '/train.csv')\n",
    "features = pd.read_csv(path + '/features.csv')\n",
    "pns = pd.read_csv(path + '/patient_notes.csv')\n",
    "\n",
    "test = pd.read_csv(path + '/test.csv')\n",
    "submission = pd.read_csv(path + '/sample_submission.csv')\n",
    "\n",
    "print(len(train), train.columns)\n",
    "print(len(features), features.columns)\n",
    "print(len(pns), pns.columns)\n",
    "\n",
    "print(len(test), test.columns)\n",
    "print(len(submission), submission.columns)\n",
    "\n",
    "print()\n",
    "device = torch.device(\"cuda:0\" if torch.cuda.is_available() else \"cpu\")\n",
    "print(\"Current Device: \", device)\n",
    "if torch.cuda.is_available():\n",
    "    print(\"Number of CUDA device: \", torch.cuda.device_count())\n",
    "    print(\"Device name: \", torch.cuda.get_device_name(0))"
   ]
  },
  {
   "cell_type": "code",
   "execution_count": 4,
   "id": "034da2d9",
   "metadata": {
    "execution": {
     "iopub.execute_input": "2022-05-12T02:01:27.234446Z",
     "iopub.status.busy": "2022-05-12T02:01:27.234219Z",
     "iopub.status.idle": "2022-05-12T02:01:27.325424Z",
     "shell.execute_reply": "2022-05-12T02:01:27.324018Z"
    },
    "papermill": {
     "duration": 0.12531,
     "end_time": "2022-05-12T02:01:27.327529",
     "exception": false,
     "start_time": "2022-05-12T02:01:27.202219",
     "status": "completed"
    },
    "tags": []
   },
   "outputs": [
    {
     "name": "stdout",
     "output_type": "stream",
     "text": [
      "Character Length of feature text: MAX - 68, MIN - 3\n",
      "Character Length of patient note: MAX - 950, MIN - 30\n",
      "Character Length of annotation: MAX - 298, MIN - 2\n"
     ]
    }
   ],
   "source": [
    "len_feature_text = features[\"feature_text\"].apply(lambda x: len(x.strip()))\n",
    "print(f\"Character Length of feature text: MAX - {max(len_feature_text)}, MIN - {min(len_feature_text)}\")\n",
    "\n",
    "len_pn_history = pns[\"pn_history\"].apply(lambda x: len(x))\n",
    "print(f\"Character Length of patient note: MAX - {max(len_pn_history)}, MIN - {min(len_pn_history)}\")\n",
    "\n",
    "max_len_annotation = train[\"annotation\"].apply(lambda x: max(list(map(len, x.split(';')))))\n",
    "min_len_annotation = train[\"annotation\"].apply(lambda x: min(list(map(len, x.split(';')))))\n",
    "print(f\"Character Length of annotation: MAX - {max(max_len_annotation)}, MIN - {min(min_len_annotation)}\")"
   ]
  },
  {
   "cell_type": "markdown",
   "id": "f46017b2",
   "metadata": {
    "papermill": {
     "duration": 0.03239,
     "end_time": "2022-05-12T02:01:27.393008",
     "exception": false,
     "start_time": "2022-05-12T02:01:27.360618",
     "status": "completed"
    },
    "tags": []
   },
   "source": [
    "## 1. Prepare Datasets"
   ]
  },
  {
   "cell_type": "code",
   "execution_count": 5,
   "id": "4efd2b5b",
   "metadata": {
    "execution": {
     "iopub.execute_input": "2022-05-12T02:01:27.459944Z",
     "iopub.status.busy": "2022-05-12T02:01:27.459441Z",
     "iopub.status.idle": "2022-05-12T02:01:27.551342Z",
     "shell.execute_reply": "2022-05-12T02:01:27.549808Z"
    },
    "papermill": {
     "duration": 0.128088,
     "end_time": "2022-05-12T02:01:27.553671",
     "exception": false,
     "start_time": "2022-05-12T02:01:27.425583",
     "status": "completed"
    },
    "tags": []
   },
   "outputs": [
    {
     "name": "stdout",
     "output_type": "stream",
     "text": [
      "Example Tokens: \n",
      " ['17', '-', 'year', '-', 'old', 'male', ',', 'has', 'come', 'to', 'the', 'student', 'health', 'clinic', 'complaining', 'of', 'heart', 'pounding', '.', 'mr', '.', 'cleveland', \"'\", 's', 'mother', 'has', 'given', 'verbal', 'consent', 'for', 'a', 'history', ',', 'physical', 'examination', ',', 'and', 'treatment', '-', 'began', '2', '-', '3', 'months', 'ago', ',', 'sudden', ',', 'intermittent', 'for', '2', 'days', '(', 'lasting', '3', '-', '4', 'min', ')', ',', 'worse', '##ning', ',', 'non', '-', 'all', '##ev', '/', 'ag', '##gra', '##v', '-', 'associated', 'with', 'di', '##sp', '##nea', 'on', 'ex', '##ers', '##ion', 'and', 'rest', ',', 'stressed', 'out', 'about', 'school', '-', 'reports', 'fe', 'feels', 'like', 'his', 'heart', 'is', 'jumping', 'out', 'of', 'his', 'chest', '-', 'ro', '##s', ':', 'denies', 'chest', 'pain', ',', 'd', '##ya', '##ph', '##ores', '##is', ',', 'w', '##t', 'loss', ',', 'chill', '##s', ',', 'fever', ',', 'nausea', ',', 'vomiting', ',', 'pedal', 'ed', '##ea', '##m', '-', 'pm', '##h', ':', 'non', ',', 'med', '##s', ':', 'ad', '##ero', '##l', '(', 'from', 'a', 'friend', ')', ',', 'nk', '##da', '-', 'f', '##h', ':', 'father', 'had', 'mi', 'recently', ',', 'mother', 'has', 'thyroid', 'd', '##z', '-', 'sh', ':', 'non', '-', 'smoke', '##r', ',', 'mari', '##gua', '##na', '5', '-', '6', 'months', 'ago', ',', '3', 'beers', 'on', 'the', 'weekend', ',', 'basketball', 'at', 'school', '-', 'sh', ':', 'no', 'st', '##d']\n"
     ]
    }
   ],
   "source": [
    "tokenizer = AutoTokenizer.from_pretrained(\"../input/nbme-pre-trained-models/tokenizer\")\n",
    "\n",
    "def tokenize(text):\n",
    "    \"\"\"Tokenize a sequence.\"\"\"\n",
    "    return tokenizer.tokenize(text, add_special_tokens=False)\n",
    "\n",
    "example_text = pns.iloc[0].at['pn_history']\n",
    "print(\"Example Tokens: \\n\", tokenize(example_text))"
   ]
  },
  {
   "cell_type": "markdown",
   "id": "bfe4d7fe",
   "metadata": {
    "papermill": {
     "duration": 0.032352,
     "end_time": "2022-05-12T02:01:27.619750",
     "exception": false,
     "start_time": "2022-05-12T02:01:27.587398",
     "status": "completed"
    },
    "tags": []
   },
   "source": [
    "### 1-1. Prepare sequence training dataset."
   ]
  },
  {
   "cell_type": "code",
   "execution_count": 6,
   "id": "6e83281d",
   "metadata": {
    "execution": {
     "iopub.execute_input": "2022-05-12T02:01:27.685321Z",
     "iopub.status.busy": "2022-05-12T02:01:27.685083Z",
     "iopub.status.idle": "2022-05-12T02:01:57.719645Z",
     "shell.execute_reply": "2022-05-12T02:01:57.718952Z"
    },
    "papermill": {
     "duration": 30.104082,
     "end_time": "2022-05-12T02:01:57.755915",
     "exception": false,
     "start_time": "2022-05-12T02:01:27.651833",
     "status": "completed"
    },
    "tags": []
   },
   "outputs": [
    {
     "name": "stderr",
     "output_type": "stream",
     "text": [
      "/opt/conda/lib/python3.7/site-packages/pandas/core/frame.py:5047: SettingWithCopyWarning: \n",
      "A value is trying to be set on a copy of a slice from a DataFrame\n",
      "\n",
      "See the caveats in the documentation: https://pandas.pydata.org/pandas-docs/stable/user_guide/indexing.html#returning-a-view-versus-a-copy\n",
      "  errors=errors,\n"
     ]
    },
    {
     "name": "stdout",
     "output_type": "stream",
     "text": [
      "Token length: MAX - 312, MIN - 11\n",
      "Number of Cases: 10\n",
      "Length of Train data: 41724\n",
      "Length of Validation data: 422\n"
     ]
    },
    {
     "name": "stderr",
     "output_type": "stream",
     "text": [
      "/opt/conda/lib/python3.7/site-packages/ipykernel_launcher.py:3: SettingWithCopyWarning: \n",
      "A value is trying to be set on a copy of a slice from a DataFrame.\n",
      "Try using .loc[row_indexer,col_indexer] = value instead\n",
      "\n",
      "See the caveats in the documentation: https://pandas.pydata.org/pandas-docs/stable/user_guide/indexing.html#returning-a-view-versus-a-copy\n",
      "  This is separate from the ipykernel package so we can avoid doing imports until\n"
     ]
    },
    {
     "data": {
      "text/html": [
       "<div>\n",
       "<style scoped>\n",
       "    .dataframe tbody tr th:only-of-type {\n",
       "        vertical-align: middle;\n",
       "    }\n",
       "\n",
       "    .dataframe tbody tr th {\n",
       "        vertical-align: top;\n",
       "    }\n",
       "\n",
       "    .dataframe thead th {\n",
       "        text-align: right;\n",
       "    }\n",
       "</style>\n",
       "<table border=\"1\" class=\"dataframe\">\n",
       "  <thead>\n",
       "    <tr style=\"text-align: right;\">\n",
       "      <th></th>\n",
       "      <th>sequence</th>\n",
       "      <th>labels</th>\n",
       "    </tr>\n",
       "  </thead>\n",
       "  <tbody>\n",
       "    <tr>\n",
       "      <th>422</th>\n",
       "      <td>[mr, ., h, ##nas, ##on, is, a, 35, year, old, ...</td>\n",
       "      <td>3</td>\n",
       "    </tr>\n",
       "    <tr>\n",
       "      <th>423</th>\n",
       "      <td>[pt, is, a, 26, yo, f, with, a, cc, of, pal, #...</td>\n",
       "      <td>5</td>\n",
       "    </tr>\n",
       "    <tr>\n",
       "      <th>424</th>\n",
       "      <td>[26, -, year, -, old, female, ,, has, come, to...</td>\n",
       "      <td>5</td>\n",
       "    </tr>\n",
       "    <tr>\n",
       "      <th>425</th>\n",
       "      <td>[periods, have, been, unpredictable, over, las...</td>\n",
       "      <td>2</td>\n",
       "    </tr>\n",
       "    <tr>\n",
       "      <th>426</th>\n",
       "      <td>[ed, ##ie, w, ##hel, ##an, is, a, 26, yo, f, w...</td>\n",
       "      <td>5</td>\n",
       "    </tr>\n",
       "    <tr>\n",
       "      <th>...</th>\n",
       "      <td>...</td>\n",
       "      <td>...</td>\n",
       "    </tr>\n",
       "    <tr>\n",
       "      <th>42141</th>\n",
       "      <td>[patient, is, a, 44, year, old, woman, who, is...</td>\n",
       "      <td>2</td>\n",
       "    </tr>\n",
       "    <tr>\n",
       "      <th>42142</th>\n",
       "      <td>[hp, ##i, :, 20, yo, f, c, /, o, headache, fro...</td>\n",
       "      <td>9</td>\n",
       "    </tr>\n",
       "    <tr>\n",
       "      <th>42143</th>\n",
       "      <td>[20, yo, f, c, /, o, of, ha, since, yesterday,...</td>\n",
       "      <td>9</td>\n",
       "    </tr>\n",
       "    <tr>\n",
       "      <th>42144</th>\n",
       "      <td>[17, y, /, o, m, complain, ##s, of, sudden, on...</td>\n",
       "      <td>6</td>\n",
       "    </tr>\n",
       "    <tr>\n",
       "      <th>42145</th>\n",
       "      <td>[35, yo, m, c, /, o, ep, ##iga, ##st, ##ric, p...</td>\n",
       "      <td>3</td>\n",
       "    </tr>\n",
       "  </tbody>\n",
       "</table>\n",
       "<p>41724 rows × 2 columns</p>\n",
       "</div>"
      ],
      "text/plain": [
       "                                                sequence  labels\n",
       "422    [mr, ., h, ##nas, ##on, is, a, 35, year, old, ...       3\n",
       "423    [pt, is, a, 26, yo, f, with, a, cc, of, pal, #...       5\n",
       "424    [26, -, year, -, old, female, ,, has, come, to...       5\n",
       "425    [periods, have, been, unpredictable, over, las...       2\n",
       "426    [ed, ##ie, w, ##hel, ##an, is, a, 26, yo, f, w...       5\n",
       "...                                                  ...     ...\n",
       "42141  [patient, is, a, 44, year, old, woman, who, is...       2\n",
       "42142  [hp, ##i, :, 20, yo, f, c, /, o, headache, fro...       9\n",
       "42143  [20, yo, f, c, /, o, of, ha, since, yesterday,...       9\n",
       "42144  [17, y, /, o, m, complain, ##s, of, sudden, on...       6\n",
       "42145  [35, yo, m, c, /, o, ep, ##iga, ##st, ##ric, p...       3\n",
       "\n",
       "[41724 rows x 2 columns]"
      ]
     },
     "metadata": {},
     "output_type": "display_data"
    }
   ],
   "source": [
    "seq_train = pns[['pn_history', 'case_num']]\n",
    "seq_train.rename(columns = {'pn_history':'sequence', 'case_num':'labels'}, inplace = True)\n",
    "seq_train['sequence'] = seq_train['sequence'].apply(lambda text: tokenize(text))\n",
    "\n",
    "token_len = seq_train['sequence'].apply(lambda x: len(x))\n",
    "print(f'Token length: MAX - {max(token_len)}, MIN - {min(token_len)}')\n",
    "\n",
    "num_labels = pns[\"case_num\"].nunique()\n",
    "print(f\"Number of Cases: {num_labels}\")\n",
    "\n",
    "seq_train_shuffled = seq_train.sample(frac=1).reset_index(drop=True)\n",
    "seq_valid = seq_train_shuffled.loc[: len(seq_train) * 0.01]\n",
    "seq_train = seq_train_shuffled.loc[len(seq_train) * 0.01:]\n",
    "\n",
    "print(f'Length of Train data: {len(seq_train)}')\n",
    "print(f'Length of Validation data: {len(seq_valid)}')\n",
    "\n",
    "display(seq_train)"
   ]
  },
  {
   "cell_type": "markdown",
   "id": "223e6175",
   "metadata": {
    "papermill": {
     "duration": 0.033801,
     "end_time": "2022-05-12T02:01:57.824687",
     "exception": false,
     "start_time": "2022-05-12T02:01:57.790886",
     "status": "completed"
    },
    "tags": []
   },
   "source": [
    "### 1-2. Prepare token classification training dataset.\n",
    "First, define functions to encode from character indices to token labels and decode the other way round."
   ]
  },
  {
   "cell_type": "code",
   "execution_count": 7,
   "id": "a1e58960",
   "metadata": {
    "execution": {
     "iopub.execute_input": "2022-05-12T02:01:57.893428Z",
     "iopub.status.busy": "2022-05-12T02:01:57.893191Z",
     "iopub.status.idle": "2022-05-12T02:01:57.989985Z",
     "shell.execute_reply": "2022-05-12T02:01:57.988260Z"
    },
    "papermill": {
     "duration": 0.133838,
     "end_time": "2022-05-12T02:01:57.992171",
     "exception": false,
     "start_time": "2022-05-12T02:01:57.858333",
     "status": "completed"
    },
    "tags": []
   },
   "outputs": [
    {
     "name": "stdout",
     "output_type": "stream",
     "text": [
      "['17 yo']\n",
      "Example Location: ['0 5']\n",
      "Example Token Label: [1, 1, 0, 0, 0, 0, 0, 0, 0, 0, 0, 0, 0, 0, 0, 0, 0, 0, 0, 0, 0, 0, 0, 0, 0, 0, 0, 0, 0, 0, 0, 0, 0, 0, 0, 0, 0, 0, 0, 0, 0, 0, 0, 0, 0, 0, 0, 0, 0, 0, 0, 0, 0, 0, 0, 0, 0, 0, 0, 0, 0, 0, 0, 0, 0, 0, 0, 0, 0, 0, 0, 0, 0, 0, 0, 0, 0, 0, 0, 0, 0, 0, 0, 0, 0, 0, 0, 0, 0, 0, 0, 0, 0, 0, 0, 0, 0, 0, 0, 0, 0, 0, 0, 0, 0, 0, 0, 0, 0, 0, 0, 0, 0, 0, 0, 0, 0, 0, 0, 0, 0, 0, 0, 0, 0, 0, 0, 0, 0, 0, 0, 0, 0, 0, 0, 0, 0, 0, 0, 0, 0, 0, 0, 0, 0, 0, 0, 0, 0, 0, 0, 0, 0, 0, 0, 0, 0, 0, 0, 0, 0, 0, 0, 0, 0, 0, 0, 0, 0, 0, 0, 0, 0, 0, 0, 0, 0, 0, 0, 0, 0, 0, 0, 0, 0, 0, 0, 0, 0, 0, 0, 0, 0, 0, 0, 0, 0, 0, 0, 0, 0, 0, 0]\n",
      "Example Decoding: 0 5\n",
      "\n",
      "['M']\n",
      "Example Location: ['6 7']\n",
      "Example Token Label: [0, 0, 1, 0, 0, 0, 0, 0, 0, 0, 0, 0, 0, 0, 0, 0, 0, 0, 0, 0, 0, 0, 0, 0, 0, 0, 0, 0, 0, 0, 0, 0, 0, 0, 0, 0, 0, 0, 0, 0, 0, 0, 0, 0, 0, 0, 0, 0, 0, 0, 0, 0, 0, 0, 0, 0, 0, 0, 0, 0, 0, 0, 0, 0, 0, 0, 0, 0, 0, 0, 0, 0, 0, 0, 0, 0, 0, 0, 0, 0, 0, 0, 0, 0, 0, 0, 0, 0, 0, 0, 0, 0, 0, 0, 0, 0, 0, 0, 0, 0, 0, 0, 0, 0, 0, 0, 0, 0, 0, 0, 0, 0, 0, 0, 0, 0, 0, 0, 0, 0, 0, 0, 0, 0, 0, 0, 0, 0, 0, 0, 0, 0, 0, 0, 0, 0, 0, 0, 0, 0, 0, 0, 0, 0, 0, 0, 0, 0, 0, 0, 0, 0, 0, 0, 0, 0, 0, 0, 0, 0, 0, 0, 0, 0, 0, 0, 0, 0, 0, 0, 0, 0, 0, 0, 0, 0, 0, 0, 0, 0, 0, 0, 0, 0, 0, 0, 0, 0, 0, 0, 0, 0, 0, 0, 0, 0, 0, 0, 0, 0, 0, 0, 0]\n",
      "Example Decoding: 6 7\n",
      "\n",
      "['Dad-MI']\n",
      "Example Location: ['735 741']\n",
      "Example Token Label: [0, 0, 0, 0, 0, 0, 0, 0, 0, 0, 0, 0, 0, 0, 0, 0, 0, 0, 0, 0, 0, 0, 0, 0, 0, 0, 0, 0, 0, 0, 0, 0, 0, 0, 0, 0, 0, 0, 0, 0, 0, 0, 0, 0, 0, 0, 0, 0, 0, 0, 0, 0, 0, 0, 0, 0, 0, 0, 0, 0, 0, 0, 0, 0, 0, 0, 0, 0, 0, 0, 0, 0, 0, 0, 0, 0, 0, 0, 0, 0, 0, 0, 0, 0, 0, 0, 0, 0, 0, 0, 0, 0, 0, 0, 0, 0, 0, 0, 0, 0, 0, 0, 0, 0, 0, 0, 0, 0, 0, 0, 0, 0, 0, 0, 0, 0, 0, 0, 0, 0, 0, 0, 0, 0, 0, 0, 0, 0, 0, 0, 0, 0, 0, 0, 0, 0, 0, 0, 0, 0, 0, 0, 0, 0, 0, 0, 0, 0, 0, 0, 0, 0, 0, 0, 0, 0, 0, 0, 0, 0, 0, 0, 0, 0, 0, 0, 0, 0, 0, 0, 0, 0, 0, 0, 0, 0, 0, 0, 0, 0, 0, 0, 1, 1, 1, 0, 0]\n",
      "Example Decoding: 735 741\n",
      "\n",
      "['Mom-thyroid problem']\n",
      "Example Location: ['714 733']\n",
      "Example Token Label: [0, 0, 0, 0, 0, 0, 0, 0, 0, 0, 0, 0, 0, 0, 0, 0, 0, 0, 0, 0, 0, 0, 0, 0, 0, 0, 0, 0, 0, 0, 0, 0, 0, 0, 0, 0, 0, 0, 0, 0, 0, 0, 0, 0, 0, 0, 0, 0, 0, 0, 0, 0, 0, 0, 0, 0, 0, 0, 0, 0, 0, 0, 0, 0, 0, 0, 0, 0, 0, 0, 0, 0, 0, 0, 0, 0, 0, 0, 0, 0, 0, 0, 0, 0, 0, 0, 0, 0, 0, 0, 0, 0, 0, 0, 0, 0, 0, 0, 0, 0, 0, 0, 0, 0, 0, 0, 0, 0, 0, 0, 0, 0, 0, 0, 0, 0, 0, 0, 0, 0, 0, 0, 0, 0, 0, 0, 0, 0, 0, 0, 0, 0, 0, 0, 0, 0, 0, 0, 0, 0, 0, 0, 0, 0, 0, 0, 0, 0, 0, 0, 0, 0, 0, 0, 0, 0, 0, 0, 0, 0, 0, 0, 0, 0, 0, 0, 0, 0, 0, 0, 0, 0, 0, 0, 0, 0, 0, 1, 1, 1, 1, 0, 0, 0, 0, 0, 0]\n",
      "Example Decoding: 714 733\n",
      "\n",
      "['chest pressure']\n",
      "Example Location: ['310 324']\n",
      "Example Token Label: [0, 0, 0, 0, 0, 0, 0, 0, 0, 0, 0, 0, 0, 0, 0, 0, 0, 0, 0, 0, 0, 0, 0, 0, 0, 0, 0, 0, 0, 0, 0, 0, 0, 0, 0, 0, 0, 0, 0, 0, 0, 0, 0, 0, 0, 0, 0, 0, 0, 0, 0, 0, 0, 0, 0, 0, 0, 0, 0, 0, 0, 0, 0, 0, 0, 0, 0, 0, 0, 0, 1, 1, 0, 0, 0, 0, 0, 0, 0, 0, 0, 0, 0, 0, 0, 0, 0, 0, 0, 0, 0, 0, 0, 0, 0, 0, 0, 0, 0, 0, 0, 0, 0, 0, 0, 0, 0, 0, 0, 0, 0, 0, 0, 0, 0, 0, 0, 0, 0, 0, 0, 0, 0, 0, 0, 0, 0, 0, 0, 0, 0, 0, 0, 0, 0, 0, 0, 0, 0, 0, 0, 0, 0, 0, 0, 0, 0, 0, 0, 0, 0, 0, 0, 0, 0, 0, 0, 0, 0, 0, 0, 0, 0, 0, 0, 0, 0, 0, 0, 0, 0, 0, 0, 0, 0, 0, 0, 0, 0, 0, 0, 0, 0, 0, 0, 0, 0]\n",
      "Example Decoding: 310 324\n",
      "\n",
      "['5-6 times']\n",
      "Example Location: ['247 256']\n",
      "Example Token Label: [0, 0, 0, 0, 0, 0, 0, 0, 0, 0, 0, 0, 0, 0, 0, 0, 0, 0, 0, 0, 0, 0, 0, 0, 0, 0, 0, 0, 0, 0, 0, 0, 0, 0, 0, 0, 0, 0, 0, 0, 0, 0, 0, 0, 0, 0, 0, 0, 0, 0, 0, 1, 1, 1, 1, 0, 0, 0, 0, 0, 0, 0, 0, 0, 0, 0, 0, 0, 0, 0, 0, 0, 0, 0, 0, 0, 0, 0, 0, 0, 0, 0, 0, 0, 0, 0, 0, 0, 0, 0, 0, 0, 0, 0, 0, 0, 0, 0, 0, 0, 0, 0, 0, 0, 0, 0, 0, 0, 0, 0, 0, 0, 0, 0, 0, 0, 0, 0, 0, 0, 0, 0, 0, 0, 0, 0, 0, 0, 0, 0, 0, 0, 0, 0, 0, 0, 0, 0, 0, 0, 0, 0, 0, 0, 0, 0, 0, 0, 0, 0, 0, 0, 0, 0, 0, 0, 0, 0, 0, 0, 0, 0, 0, 0, 0, 0, 0, 0, 0, 0, 0, 0, 0, 0, 0, 0, 0, 0, 0, 0, 0, 0, 0, 0, 0, 0, 0]\n",
      "Example Decoding: 247 256\n",
      "\n",
      "['light headedness']\n",
      "Example Location: ['292 308']\n",
      "Example Token Label: [0, 0, 0, 0, 0, 0, 0, 0, 0, 0, 0, 0, 0, 0, 0, 0, 0, 0, 0, 0, 0, 0, 0, 0, 0, 0, 0, 0, 0, 0, 0, 0, 0, 0, 0, 0, 0, 0, 0, 0, 0, 0, 0, 0, 0, 0, 0, 0, 0, 0, 0, 0, 0, 0, 0, 0, 0, 0, 0, 0, 0, 0, 0, 0, 0, 0, 1, 1, 1, 0, 0, 0, 0, 0, 0, 0, 0, 0, 0, 0, 0, 0, 0, 0, 0, 0, 0, 0, 0, 0, 0, 0, 0, 0, 0, 0, 0, 0, 0, 0, 0, 0, 0, 0, 0, 0, 0, 0, 0, 0, 0, 0, 0, 0, 0, 0, 0, 0, 0, 0, 0, 0, 0, 0, 0, 0, 0, 0, 0, 0, 0, 0, 0, 0, 0, 0, 0, 0, 0, 0, 0, 0, 0, 0, 0, 0, 0, 0, 0, 0, 0, 0, 0, 0, 0, 0, 0, 0, 0, 0, 0, 0, 0, 0, 0, 0, 0, 0, 0, 0, 0, 0, 0, 0, 0, 0, 0, 0, 0, 0, 0, 0, 0, 0, 0, 0, 0]\n",
      "Example Decoding: 292 308\n",
      "\n",
      "[]\n",
      "Example Location: []\n",
      "Example Token Label: [0, 0, 0, 0, 0, 0, 0, 0, 0, 0, 0, 0, 0, 0, 0, 0, 0, 0, 0, 0, 0, 0, 0, 0, 0, 0, 0, 0, 0, 0, 0, 0, 0, 0, 0, 0, 0, 0, 0, 0, 0, 0, 0, 0, 0, 0, 0, 0, 0, 0, 0, 0, 0, 0, 0, 0, 0, 0, 0, 0, 0, 0, 0, 0, 0, 0, 0, 0, 0, 0, 0, 0, 0, 0, 0, 0, 0, 0, 0, 0, 0, 0, 0, 0, 0, 0, 0, 0, 0, 0, 0, 0, 0, 0, 0, 0, 0, 0, 0, 0, 0, 0, 0, 0, 0, 0, 0, 0, 0, 0, 0, 0, 0, 0, 0, 0, 0, 0, 0, 0, 0, 0, 0, 0, 0, 0, 0, 0, 0, 0, 0, 0, 0, 0, 0, 0, 0, 0, 0, 0, 0, 0, 0, 0, 0, 0, 0, 0, 0, 0, 0, 0, 0, 0, 0, 0, 0, 0, 0, 0, 0, 0, 0, 0, 0, 0, 0, 0, 0, 0, 0, 0, 0, 0, 0, 0, 0, 0, 0, 0, 0, 0, 0, 0, 0, 0, 0]\n",
      "Example Decoding: \n",
      "\n",
      "['adderall']\n",
      "Example Location: ['595 603']\n",
      "Example Token Label: [0, 0, 0, 0, 0, 0, 0, 0, 0, 0, 0, 0, 0, 0, 0, 0, 0, 0, 0, 0, 0, 0, 0, 0, 0, 0, 0, 0, 0, 0, 0, 0, 0, 0, 0, 0, 0, 0, 0, 0, 0, 0, 0, 0, 0, 0, 0, 0, 0, 0, 0, 0, 0, 0, 0, 0, 0, 0, 0, 0, 0, 0, 0, 0, 0, 0, 0, 0, 0, 0, 0, 0, 0, 0, 0, 0, 0, 0, 0, 0, 0, 0, 0, 0, 0, 0, 0, 0, 0, 0, 0, 0, 0, 0, 0, 0, 0, 0, 0, 0, 0, 0, 0, 0, 0, 0, 0, 0, 0, 0, 0, 0, 0, 0, 0, 0, 0, 0, 0, 0, 0, 0, 0, 0, 0, 0, 0, 0, 0, 0, 0, 0, 0, 0, 0, 0, 0, 0, 0, 0, 0, 0, 1, 1, 1, 0, 0, 0, 0, 0, 0, 0, 0, 0, 0, 0, 0, 0, 0, 0, 0, 0, 0, 0, 0, 0, 0, 0, 0, 0, 0, 0, 0, 0, 0, 0, 0, 0, 0, 0, 0, 0, 0, 0, 0, 0, 0]\n",
      "Example Decoding: 595 603\n",
      "\n",
      "[]\n",
      "Example Location: []\n",
      "Example Token Label: [0, 0, 0, 0, 0, 0, 0, 0, 0, 0, 0, 0, 0, 0, 0, 0, 0, 0, 0, 0, 0, 0, 0, 0, 0, 0, 0, 0, 0, 0, 0, 0, 0, 0, 0, 0, 0, 0, 0, 0, 0, 0, 0, 0, 0, 0, 0, 0, 0, 0, 0, 0, 0, 0, 0, 0, 0, 0, 0, 0, 0, 0, 0, 0, 0, 0, 0, 0, 0, 0, 0, 0, 0, 0, 0, 0, 0, 0, 0, 0, 0, 0, 0, 0, 0, 0, 0, 0, 0, 0, 0, 0, 0, 0, 0, 0, 0, 0, 0, 0, 0, 0, 0, 0, 0, 0, 0, 0, 0, 0, 0, 0, 0, 0, 0, 0, 0, 0, 0, 0, 0, 0, 0, 0, 0, 0, 0, 0, 0, 0, 0, 0, 0, 0, 0, 0, 0, 0, 0, 0, 0, 0, 0, 0, 0, 0, 0, 0, 0, 0, 0, 0, 0, 0, 0, 0, 0, 0, 0, 0, 0, 0, 0, 0, 0, 0, 0, 0, 0, 0, 0, 0, 0, 0, 0, 0, 0, 0, 0, 0, 0, 0, 0, 0, 0, 0, 0]\n",
      "Example Decoding: \n",
      "\n",
      "[]\n",
      "Example Location: []\n",
      "Example Token Label: [0, 0, 0, 0, 0, 0, 0, 0, 0, 0, 0, 0, 0, 0, 0, 0, 0, 0, 0, 0, 0, 0, 0, 0, 0, 0, 0, 0, 0, 0, 0, 0, 0, 0, 0, 0, 0, 0, 0, 0, 0, 0, 0, 0, 0, 0, 0, 0, 0, 0, 0, 0, 0, 0, 0, 0, 0, 0, 0, 0, 0, 0, 0, 0, 0, 0, 0, 0, 0, 0, 0, 0, 0, 0, 0, 0, 0, 0, 0, 0, 0, 0, 0, 0, 0, 0, 0, 0, 0, 0, 0, 0, 0, 0, 0, 0, 0, 0, 0, 0, 0, 0, 0, 0, 0, 0, 0, 0, 0, 0, 0, 0, 0, 0, 0, 0, 0, 0, 0, 0, 0, 0, 0, 0, 0, 0, 0, 0, 0, 0, 0, 0, 0, 0, 0, 0, 0, 0, 0, 0, 0, 0, 0, 0, 0, 0, 0, 0, 0, 0, 0, 0, 0, 0, 0, 0, 0, 0, 0, 0, 0, 0, 0, 0, 0, 0, 0, 0, 0, 0, 0, 0, 0, 0, 0, 0, 0, 0, 0, 0, 0, 0, 0, 0, 0, 0, 0]\n",
      "Example Decoding: \n",
      "\n",
      "['pounding heart', 'pounding heart']\n",
      "Example Location: ['87 101', '372 386']\n",
      "Example Token Label: [0, 0, 0, 0, 0, 0, 0, 0, 0, 0, 0, 0, 0, 0, 0, 0, 0, 1, 1, 0, 0, 0, 0, 0, 0, 0, 0, 0, 0, 0, 0, 0, 0, 0, 0, 0, 0, 0, 0, 0, 0, 0, 0, 0, 0, 0, 0, 0, 0, 0, 0, 0, 0, 0, 0, 0, 0, 0, 0, 0, 0, 0, 0, 0, 0, 0, 0, 0, 0, 0, 0, 0, 0, 0, 0, 0, 0, 0, 0, 0, 0, 0, 0, 1, 1, 0, 0, 0, 0, 0, 0, 0, 0, 0, 0, 0, 0, 0, 0, 0, 0, 0, 0, 0, 0, 0, 0, 0, 0, 0, 0, 0, 0, 0, 0, 0, 0, 0, 0, 0, 0, 0, 0, 0, 0, 0, 0, 0, 0, 0, 0, 0, 0, 0, 0, 0, 0, 0, 0, 0, 0, 0, 0, 0, 0, 0, 0, 0, 0, 0, 0, 0, 0, 0, 0, 0, 0, 0, 0, 0, 0, 0, 0, 0, 0, 0, 0, 0, 0, 0, 0, 0, 0, 0, 0, 0, 0, 0, 0, 0, 0, 0, 0, 0, 0, 0, 0]\n",
      "Example Decoding: 87 101;372 386\n",
      "\n",
      "['2-3 months', '2-3 months']\n",
      "Example Location: ['111 121', '267 277']\n",
      "Example Token Label: [0, 0, 0, 0, 0, 0, 0, 0, 0, 0, 0, 0, 0, 0, 0, 0, 0, 0, 0, 0, 0, 1, 1, 1, 1, 0, 0, 0, 0, 0, 0, 0, 0, 0, 0, 0, 0, 0, 0, 0, 0, 0, 0, 0, 0, 0, 0, 0, 0, 0, 0, 0, 0, 0, 0, 0, 0, 1, 1, 1, 1, 0, 0, 0, 0, 0, 0, 0, 0, 0, 0, 0, 0, 0, 0, 0, 0, 0, 0, 0, 0, 0, 0, 0, 0, 0, 0, 0, 0, 0, 0, 0, 0, 0, 0, 0, 0, 0, 0, 0, 0, 0, 0, 0, 0, 0, 0, 0, 0, 0, 0, 0, 0, 0, 0, 0, 0, 0, 0, 0, 0, 0, 0, 0, 0, 0, 0, 0, 0, 0, 0, 0, 0, 0, 0, 0, 0, 0, 0, 0, 0, 0, 0, 0, 0, 0, 0, 0, 0, 0, 0, 0, 0, 0, 0, 0, 0, 0, 0, 0, 0, 0, 0, 0, 0, 0, 0, 0, 0, 0, 0, 0, 0, 0, 0, 0, 0, 0, 0, 0, 0, 0, 0, 0, 0, 0, 0]\n",
      "Example Decoding: 111 121;267 277\n",
      "\n",
      "['17 year old']\n",
      "Example Location: ['46 57']\n",
      "Example Token Label: [0, 0, 0, 0, 0, 0, 0, 0, 0, 1, 1, 1, 0, 0, 0, 0, 0, 0, 0, 0, 0, 0, 0, 0, 0, 0, 0, 0, 0, 0, 0, 0, 0, 0, 0, 0, 0, 0, 0, 0, 0, 0, 0, 0, 0, 0, 0, 0, 0, 0, 0, 0, 0, 0, 0, 0, 0, 0, 0, 0, 0, 0, 0, 0, 0, 0, 0, 0, 0, 0, 0, 0, 0, 0, 0, 0, 0, 0, 0, 0, 0, 0, 0, 0, 0, 0, 0, 0, 0, 0, 0, 0, 0, 0, 0, 0, 0, 0, 0, 0, 0, 0, 0, 0, 0, 0, 0, 0, 0, 0, 0, 0, 0, 0, 0, 0, 0, 0, 0, 0, 0, 0, 0, 0, 0, 0, 0, 0, 0, 0, 0, 0, 0, 0, 0, 0, 0, 0, 0, 0, 0, 0, 0, 0, 0, 0, 0, 0, 0, 0, 0, 0, 0, 0, 0, 0, 0, 0, 0, 0, 0, 0, 0, 0, 0, 0, 0, 0, 0, 0, 0, 0, 0, 0, 0, 0, 0, 0, 0, 0, 0, 0, 0, 0, 0, 0, 0]\n",
      "Example Decoding: 46 57\n",
      "\n",
      "['male']\n",
      "Example Location: ['58 62']\n",
      "Example Token Label: [0, 0, 0, 0, 0, 0, 0, 0, 0, 0, 0, 0, 1, 0, 0, 0, 0, 0, 0, 0, 0, 0, 0, 0, 0, 0, 0, 0, 0, 0, 0, 0, 0, 0, 0, 0, 0, 0, 0, 0, 0, 0, 0, 0, 0, 0, 0, 0, 0, 0, 0, 0, 0, 0, 0, 0, 0, 0, 0, 0, 0, 0, 0, 0, 0, 0, 0, 0, 0, 0, 0, 0, 0, 0, 0, 0, 0, 0, 0, 0, 0, 0, 0, 0, 0, 0, 0, 0, 0, 0, 0, 0, 0, 0, 0, 0, 0, 0, 0, 0, 0, 0, 0, 0, 0, 0, 0, 0, 0, 0, 0, 0, 0, 0, 0, 0, 0, 0, 0, 0, 0, 0, 0, 0, 0, 0, 0, 0, 0, 0, 0, 0, 0, 0, 0, 0, 0, 0, 0, 0, 0, 0, 0, 0, 0, 0, 0, 0, 0, 0, 0, 0, 0, 0, 0, 0, 0, 0, 0, 0, 0, 0, 0, 0, 0, 0, 0, 0, 0, 0, 0, 0, 0, 0, 0, 0, 0, 0, 0, 0, 0, 0, 0, 0, 0, 0, 0]\n",
      "Example Decoding: 58 62\n",
      "\n",
      "['father had acute MI']\n",
      "Example Location: ['601 620']\n",
      "Example Token Label: [0, 0, 0, 0, 0, 0, 0, 0, 0, 0, 0, 0, 0, 0, 0, 0, 0, 0, 0, 0, 0, 0, 0, 0, 0, 0, 0, 0, 0, 0, 0, 0, 0, 0, 0, 0, 0, 0, 0, 0, 0, 0, 0, 0, 0, 0, 0, 0, 0, 0, 0, 0, 0, 0, 0, 0, 0, 0, 0, 0, 0, 0, 0, 0, 0, 0, 0, 0, 0, 0, 0, 0, 0, 0, 0, 0, 0, 0, 0, 0, 0, 0, 0, 0, 0, 0, 0, 0, 0, 0, 0, 0, 0, 0, 0, 0, 0, 0, 0, 0, 0, 0, 0, 0, 0, 0, 0, 0, 0, 0, 0, 0, 0, 0, 0, 0, 0, 0, 0, 0, 0, 0, 0, 0, 0, 0, 0, 0, 0, 0, 0, 0, 0, 0, 0, 0, 0, 0, 0, 0, 0, 0, 0, 0, 0, 0, 0, 0, 0, 0, 0, 0, 0, 0, 0, 0, 0, 0, 0, 0, 0, 0, 0, 0, 0, 0, 0, 0, 0, 0, 1, 1, 1, 1, 0, 0, 0, 0, 0, 0, 0, 0, 0, 0, 0, 0, 0, 0, 0, 0, 0, 0, 0, 0, 0, 0, 0, 0, 0]\n",
      "Example Decoding: 601 620\n",
      "\n",
      "['Mother has thyroid condition']\n",
      "Example Location: ['571 599']\n",
      "Example Token Label: [0, 0, 0, 0, 0, 0, 0, 0, 0, 0, 0, 0, 0, 0, 0, 0, 0, 0, 0, 0, 0, 0, 0, 0, 0, 0, 0, 0, 0, 0, 0, 0, 0, 0, 0, 0, 0, 0, 0, 0, 0, 0, 0, 0, 0, 0, 0, 0, 0, 0, 0, 0, 0, 0, 0, 0, 0, 0, 0, 0, 0, 0, 0, 0, 0, 0, 0, 0, 0, 0, 0, 0, 0, 0, 0, 0, 0, 0, 0, 0, 0, 0, 0, 0, 0, 0, 0, 0, 0, 0, 0, 0, 0, 0, 0, 0, 0, 0, 0, 0, 0, 0, 0, 0, 0, 0, 0, 0, 0, 0, 0, 0, 0, 0, 0, 0, 0, 0, 0, 0, 0, 0, 0, 0, 0, 0, 0, 0, 0, 0, 0, 0, 0, 0, 0, 0, 0, 0, 0, 0, 0, 0, 0, 0, 0, 0, 0, 0, 0, 0, 0, 0, 0, 0, 0, 0, 0, 0, 0, 0, 0, 0, 0, 0, 0, 1, 1, 1, 1, 0, 0, 0, 0, 0, 0, 0, 0, 0, 0, 0, 0, 0, 0, 0, 0, 0, 0, 0, 0, 0, 0, 0, 0, 0, 0, 0, 0, 0, 0]\n",
      "Example Decoding: 571 599\n",
      "\n",
      "['pressure over chest']\n",
      "Example Location: ['258 277']\n",
      "Example Token Label: [0, 0, 0, 0, 0, 0, 0, 0, 0, 0, 0, 0, 0, 0, 0, 0, 0, 0, 0, 0, 0, 0, 0, 0, 0, 0, 0, 0, 0, 0, 0, 0, 0, 0, 0, 0, 0, 0, 0, 0, 0, 0, 0, 0, 0, 0, 0, 0, 0, 0, 0, 0, 0, 0, 0, 0, 0, 0, 0, 0, 0, 0, 0, 0, 0, 0, 0, 1, 1, 1, 0, 0, 0, 0, 0, 0, 0, 0, 0, 0, 0, 0, 0, 0, 0, 0, 0, 0, 0, 0, 0, 0, 0, 0, 0, 0, 0, 0, 0, 0, 0, 0, 0, 0, 0, 0, 0, 0, 0, 0, 0, 0, 0, 0, 0, 0, 0, 0, 0, 0, 0, 0, 0, 0, 0, 0, 0, 0, 0, 0, 0, 0, 0, 0, 0, 0, 0, 0, 0, 0, 0, 0, 0, 0, 0, 0, 0, 0, 0, 0, 0, 0, 0, 0, 0, 0, 0, 0, 0, 0, 0, 0, 0, 0, 0, 0, 0, 0, 0, 0, 0, 0, 0, 0, 0, 0, 0, 0, 0, 0, 0, 0, 0, 0, 0, 0, 0, 0, 0, 0, 0, 0, 0, 0, 0, 0, 0, 0, 0]\n",
      "Example Decoding: 258 277\n",
      "\n",
      "['1-2 episodes']\n",
      "Example Location: ['149 161']\n",
      "Example Token Label: [0, 0, 0, 0, 0, 0, 0, 0, 0, 0, 0, 0, 0, 0, 0, 0, 0, 0, 0, 0, 0, 0, 0, 0, 0, 0, 0, 0, 0, 0, 0, 0, 0, 0, 0, 0, 0, 0, 0, 0, 0, 0, 0, 1, 1, 1, 1, 0, 0, 0, 0, 0, 0, 0, 0, 0, 0, 0, 0, 0, 0, 0, 0, 0, 0, 0, 0, 0, 0, 0, 0, 0, 0, 0, 0, 0, 0, 0, 0, 0, 0, 0, 0, 0, 0, 0, 0, 0, 0, 0, 0, 0, 0, 0, 0, 0, 0, 0, 0, 0, 0, 0, 0, 0, 0, 0, 0, 0, 0, 0, 0, 0, 0, 0, 0, 0, 0, 0, 0, 0, 0, 0, 0, 0, 0, 0, 0, 0, 0, 0, 0, 0, 0, 0, 0, 0, 0, 0, 0, 0, 0, 0, 0, 0, 0, 0, 0, 0, 0, 0, 0, 0, 0, 0, 0, 0, 0, 0, 0, 0, 0, 0, 0, 0, 0, 0, 0, 0, 0, 0, 0, 0, 0, 0, 0, 0, 0, 0, 0, 0, 0, 0, 0, 0, 0, 0, 0, 0, 0, 0, 0, 0, 0, 0, 0, 0, 0, 0, 0]\n",
      "Example Decoding: 149 161\n",
      "\n",
      "[]\n",
      "Example Location: []\n",
      "Example Token Label: [0, 0, 0, 0, 0, 0, 0, 0, 0, 0, 0, 0, 0, 0, 0, 0, 0, 0, 0, 0, 0, 0, 0, 0, 0, 0, 0, 0, 0, 0, 0, 0, 0, 0, 0, 0, 0, 0, 0, 0, 0, 0, 0, 0, 0, 0, 0, 0, 0, 0, 0, 0, 0, 0, 0, 0, 0, 0, 0, 0, 0, 0, 0, 0, 0, 0, 0, 0, 0, 0, 0, 0, 0, 0, 0, 0, 0, 0, 0, 0, 0, 0, 0, 0, 0, 0, 0, 0, 0, 0, 0, 0, 0, 0, 0, 0, 0, 0, 0, 0, 0, 0, 0, 0, 0, 0, 0, 0, 0, 0, 0, 0, 0, 0, 0, 0, 0, 0, 0, 0, 0, 0, 0, 0, 0, 0, 0, 0, 0, 0, 0, 0, 0, 0, 0, 0, 0, 0, 0, 0, 0, 0, 0, 0, 0, 0, 0, 0, 0, 0, 0, 0, 0, 0, 0, 0, 0, 0, 0, 0, 0, 0, 0, 0, 0, 0, 0, 0, 0, 0, 0, 0, 0, 0, 0, 0, 0, 0, 0, 0, 0, 0, 0, 0, 0, 0, 0, 0, 0, 0, 0, 0, 0, 0, 0, 0, 0, 0, 0]\n",
      "Example Decoding: \n",
      "\n"
     ]
    }
   ],
   "source": [
    "def idx2token_label(text, tokens, location):\n",
    "    \"\"\"Converts character indices('location') to token labels.\"\"\"\n",
    "    \n",
    "    token_len = len(tokens)\n",
    "    token_label = [0] * (token_len)\n",
    "    \n",
    "    pat = re.compile('\\d+ \\d+')\n",
    "    indices = pat.findall(location)\n",
    "    if not indices:\n",
    "        return token_label\n",
    "    indices = list(map(lambda s: s.split(), indices))\n",
    "    indices.append(['0', '0'])\n",
    "\n",
    "    s, e = list(map(int, indices.pop(0)))\n",
    "    char_idx, token_idx = 0, 0\n",
    "    text_len = len(text)\n",
    "    while char_idx < text_len and token_idx < token_len and indices:\n",
    "        if s <= char_idx < e:\n",
    "            while token_idx < token_len and s <= char_idx < e:\n",
    "#                 print(tokens[token_idx], char_idx)\n",
    "                token_label[token_idx] = 1\n",
    "                char_idx += len(re.sub('#', '', tokens[token_idx], flags=re.MULTILINE))\n",
    "                while char_idx < text_len and text[char_idx] in \" \\t\\n\\r\\f\\v\":\n",
    "                    char_idx += 1\n",
    "                token_idx += 1\n",
    "            s, e = list(map(int, indices.pop(0)))\n",
    "        else:\n",
    "            char_idx += len(re.sub('#', '', tokens[token_idx], flags=re.MULTILINE))\n",
    "            while char_idx < text_len and text[char_idx] in \" \\t\\n\\r\\f\\v\":\n",
    "                char_idx += 1\n",
    "            token_idx += 1\n",
    "    return token_label\n",
    "\n",
    "\n",
    "def token_label2idx(text, tokens, token_label):\n",
    "    \"\"\"Converts token labels back to character indices.\"\"\"\n",
    "    \n",
    "    char_indices = []\n",
    "\n",
    "    token_len = len(tokens)\n",
    "    text_len = len(text)\n",
    "    char_idx, token_idx = 0, 0\n",
    "    \n",
    "    while char_idx < text_len and token_idx < token_len:\n",
    "        if token_label[token_idx] == 1:\n",
    "            s = char_idx\n",
    "            while token_idx < token_len and token_label[token_idx] == 1:\n",
    "                flag = False\n",
    "                char_idx += len(re.sub('#', '', tokens[token_idx], flags=re.MULTILINE))\n",
    "                while char_idx < text_len and text[char_idx] in \" \\t\\n\\r\\f\\v\":\n",
    "                    char_idx += 1\n",
    "                    flag = True\n",
    "                token_idx += 1\n",
    "            e = char_idx - 1 if flag else char_idx\n",
    "            char_indices.append(' '.join((str(s), str(e))))\n",
    "        else:\n",
    "            char_idx += len(re.sub('#', '', tokens[token_idx], flags=re.MULTILINE))\n",
    "            while char_idx < text_len and text[char_idx] in \" \\t\\n\\r\\f\\v\":\n",
    "                char_idx += 1\n",
    "            token_idx += 1\n",
    "    \n",
    "    return ';'.join(char_indices)\n",
    "\n",
    "\n",
    "tmp = train.merge(pns, on='pn_num')\n",
    "for idx in range(50, 70):\n",
    "    print(tmp.iloc[idx].at['annotation'])\n",
    "    example_text = tmp.iloc[idx].at['pn_history']\n",
    "    example_idx = tmp.iloc[idx].at['location']\n",
    "    print(f'Example Location: {example_idx}')\n",
    "    ex_token_label = idx2token_label(example_text, tokenize(example_text), example_idx)\n",
    "    print(f'Example Token Label: {ex_token_label}')\n",
    "    print(f'Example Decoding: {token_label2idx(example_text, tokenize(example_text), ex_token_label)}\\n')\n",
    "del tmp"
   ]
  },
  {
   "cell_type": "markdown",
   "id": "d67f964f",
   "metadata": {
    "papermill": {
     "duration": 0.034264,
     "end_time": "2022-05-12T02:01:58.062893",
     "exception": false,
     "start_time": "2022-05-12T02:01:58.028629",
     "status": "completed"
    },
    "tags": []
   },
   "source": [
    "Prepare train dataset in DataFrame form."
   ]
  },
  {
   "cell_type": "code",
   "execution_count": 8,
   "id": "82724edf",
   "metadata": {
    "execution": {
     "iopub.execute_input": "2022-05-12T02:01:58.132949Z",
     "iopub.status.busy": "2022-05-12T02:01:58.132717Z",
     "iopub.status.idle": "2022-05-12T02:02:10.938444Z",
     "shell.execute_reply": "2022-05-12T02:02:10.937033Z"
    },
    "papermill": {
     "duration": 12.843757,
     "end_time": "2022-05-12T02:02:10.940943",
     "exception": false,
     "start_time": "2022-05-12T02:01:58.097186",
     "status": "completed"
    },
    "tags": []
   },
   "outputs": [
    {
     "name": "stdout",
     "output_type": "stream",
     "text": [
      "Length of Train data: 13871\n",
      "Length of Validation data: 430\n",
      "Length of Test data: 5\n"
     ]
    },
    {
     "data": {
      "text/html": [
       "<div>\n",
       "<style scoped>\n",
       "    .dataframe tbody tr th:only-of-type {\n",
       "        vertical-align: middle;\n",
       "    }\n",
       "\n",
       "    .dataframe tbody tr th {\n",
       "        vertical-align: top;\n",
       "    }\n",
       "\n",
       "    .dataframe thead th {\n",
       "        text-align: right;\n",
       "    }\n",
       "</style>\n",
       "<table border=\"1\" class=\"dataframe\">\n",
       "  <thead>\n",
       "    <tr style=\"text-align: right;\">\n",
       "      <th></th>\n",
       "      <th>id</th>\n",
       "      <th>features</th>\n",
       "      <th>text</th>\n",
       "      <th>tokens</th>\n",
       "      <th>tags</th>\n",
       "      <th>location</th>\n",
       "    </tr>\n",
       "  </thead>\n",
       "  <tbody>\n",
       "    <tr>\n",
       "      <th>429</th>\n",
       "      <td>94754_909</td>\n",
       "      <td>viral-symptoms-OR-rhinorrhea-OR-scratchy-throat</td>\n",
       "      <td>HPI:20yo c/o headach which started 1 day ago, ...</td>\n",
       "      <td>[viral-symptoms-OR-rhinorrhea-OR-scratchy-thro...</td>\n",
       "      <td>[0, 0, 0, 0, 0, 0, 0, 0, 0, 0, 0, 0, 0, 0, 0, ...</td>\n",
       "      <td>[]</td>\n",
       "    </tr>\n",
       "    <tr>\n",
       "      <th>430</th>\n",
       "      <td>92194_908</td>\n",
       "      <td>Nausea</td>\n",
       "      <td>20-year-old female, has come to the doctor's o...</td>\n",
       "      <td>[Nausea, 20, -, year, -, old, female, ,, has, ...</td>\n",
       "      <td>[0, 0, 0, 0, 0, 0, 0, 0, 0, 0, 0, 0, 0, 0, 0, ...</td>\n",
       "      <td>['283 290']</td>\n",
       "    </tr>\n",
       "    <tr>\n",
       "      <th>431</th>\n",
       "      <td>00810_012</td>\n",
       "      <td>Male</td>\n",
       "      <td>Dillon is a 17 yo M with no PMH c/o heart poun...</td>\n",
       "      <td>[Male, dillon, is, a, 17, yo, m, with, no, pm,...</td>\n",
       "      <td>[0, 0, 0, 0, 0, 0, 0, 1, 0, 0, 0, 0, 0, 0, 0, ...</td>\n",
       "      <td>['18 19']</td>\n",
       "    </tr>\n",
       "    <tr>\n",
       "      <th>432</th>\n",
       "      <td>00810_001</td>\n",
       "      <td>Family-history-of-thyroid-disorder</td>\n",
       "      <td>Dillon is a 17 yo M with no PMH c/o heart poun...</td>\n",
       "      <td>[Family-history-of-thyroid-disorder, dillon, i...</td>\n",
       "      <td>[0, 0, 0, 0, 0, 0, 0, 0, 0, 0, 0, 0, 0, 0, 0, ...</td>\n",
       "      <td>['543 565']</td>\n",
       "    </tr>\n",
       "    <tr>\n",
       "      <th>433</th>\n",
       "      <td>40923_401</td>\n",
       "      <td>anxious-OR-nervous</td>\n",
       "      <td>45 yo F. CC: nervousness x 3 weeks. Increased ...</td>\n",
       "      <td>[anxious-OR-nervous, 45, yo, f, ., cc, :, nerv...</td>\n",
       "      <td>[0, 0, 1, 1, 1, 1, 0, 0, 0, 0, 0, 0, 0, 0, 0, ...</td>\n",
       "      <td>['13 24', '454 465']</td>\n",
       "    </tr>\n",
       "    <tr>\n",
       "      <th>...</th>\n",
       "      <td>...</td>\n",
       "      <td>...</td>\n",
       "      <td>...</td>\n",
       "      <td>...</td>\n",
       "      <td>...</td>\n",
       "      <td>...</td>\n",
       "    </tr>\n",
       "    <tr>\n",
       "      <th>14295</th>\n",
       "      <td>21905_206</td>\n",
       "      <td>Recent-nausea-vomiting-OR-Recent-flulike-symptoms</td>\n",
       "      <td>44 yr old f w/ 3 yrs irregular menstrual bleed...</td>\n",
       "      <td>[Recent-nausea-vomiting-OR-Recent-flulike-symp...</td>\n",
       "      <td>[0, 0, 0, 0, 0, 0, 0, 0, 0, 0, 0, 0, 0, 0, 0, ...</td>\n",
       "      <td>[]</td>\n",
       "    </tr>\n",
       "    <tr>\n",
       "      <th>14296</th>\n",
       "      <td>01512_004</td>\n",
       "      <td>Lightheaded</td>\n",
       "      <td>17 yo male presents for 3-4 months of intermit...</td>\n",
       "      <td>[Lightheaded, 17, yo, male, presents, for, 3, ...</td>\n",
       "      <td>[0, 0, 0, 0, 0, 0, 0, 0, 0, 0, 0, 0, 0, 0, 0, ...</td>\n",
       "      <td>[]</td>\n",
       "    </tr>\n",
       "    <tr>\n",
       "      <th>14297</th>\n",
       "      <td>80493_811</td>\n",
       "      <td>Diminished-energy-OR-feeling-drained</td>\n",
       "      <td>67 yo female presents with new-onset trouble s...</td>\n",
       "      <td>[Diminished-energy-OR-feeling-drained, 67, yo,...</td>\n",
       "      <td>[0, 0, 0, 0, 0, 0, 0, 0, 0, 0, 0, 0, 0, 0, 0, ...</td>\n",
       "      <td>['184 197', '202 212', '303 313']</td>\n",
       "    </tr>\n",
       "    <tr>\n",
       "      <th>14298</th>\n",
       "      <td>31800_302</td>\n",
       "      <td>Darker-bowel-movements</td>\n",
       "      <td>HPI: Mr. Hamilton is a 35 year old male who pr...</td>\n",
       "      <td>[Darker-bowel-movements, hp, ##i, :, mr, ., ha...</td>\n",
       "      <td>[0, 0, 0, 0, 0, 0, 0, 0, 0, 0, 0, 0, 0, 0, 0, ...</td>\n",
       "      <td>['289 300']</td>\n",
       "    </tr>\n",
       "    <tr>\n",
       "      <th>14299</th>\n",
       "      <td>92688_913</td>\n",
       "      <td>Female</td>\n",
       "      <td>20 yo F complains of HA that started yesterday...</td>\n",
       "      <td>[Female, 20, yo, f, complain, ##s, of, ha, tha...</td>\n",
       "      <td>[0, 0, 1, 0, 0, 0, 0, 0, 0, 0, 0, 0, 0, 0, 0, ...</td>\n",
       "      <td>['6 7']</td>\n",
       "    </tr>\n",
       "  </tbody>\n",
       "</table>\n",
       "<p>13871 rows × 6 columns</p>\n",
       "</div>"
      ],
      "text/plain": [
       "              id                                           features  \\\n",
       "429    94754_909    viral-symptoms-OR-rhinorrhea-OR-scratchy-throat   \n",
       "430    92194_908                                             Nausea   \n",
       "431    00810_012                                               Male   \n",
       "432    00810_001                 Family-history-of-thyroid-disorder   \n",
       "433    40923_401                                 anxious-OR-nervous   \n",
       "...          ...                                                ...   \n",
       "14295  21905_206  Recent-nausea-vomiting-OR-Recent-flulike-symptoms   \n",
       "14296  01512_004                                        Lightheaded   \n",
       "14297  80493_811               Diminished-energy-OR-feeling-drained   \n",
       "14298  31800_302                             Darker-bowel-movements   \n",
       "14299  92688_913                                             Female   \n",
       "\n",
       "                                                    text  \\\n",
       "429    HPI:20yo c/o headach which started 1 day ago, ...   \n",
       "430    20-year-old female, has come to the doctor's o...   \n",
       "431    Dillon is a 17 yo M with no PMH c/o heart poun...   \n",
       "432    Dillon is a 17 yo M with no PMH c/o heart poun...   \n",
       "433    45 yo F. CC: nervousness x 3 weeks. Increased ...   \n",
       "...                                                  ...   \n",
       "14295  44 yr old f w/ 3 yrs irregular menstrual bleed...   \n",
       "14296  17 yo male presents for 3-4 months of intermit...   \n",
       "14297  67 yo female presents with new-onset trouble s...   \n",
       "14298  HPI: Mr. Hamilton is a 35 year old male who pr...   \n",
       "14299  20 yo F complains of HA that started yesterday...   \n",
       "\n",
       "                                                  tokens  \\\n",
       "429    [viral-symptoms-OR-rhinorrhea-OR-scratchy-thro...   \n",
       "430    [Nausea, 20, -, year, -, old, female, ,, has, ...   \n",
       "431    [Male, dillon, is, a, 17, yo, m, with, no, pm,...   \n",
       "432    [Family-history-of-thyroid-disorder, dillon, i...   \n",
       "433    [anxious-OR-nervous, 45, yo, f, ., cc, :, nerv...   \n",
       "...                                                  ...   \n",
       "14295  [Recent-nausea-vomiting-OR-Recent-flulike-symp...   \n",
       "14296  [Lightheaded, 17, yo, male, presents, for, 3, ...   \n",
       "14297  [Diminished-energy-OR-feeling-drained, 67, yo,...   \n",
       "14298  [Darker-bowel-movements, hp, ##i, :, mr, ., ha...   \n",
       "14299  [Female, 20, yo, f, complain, ##s, of, ha, tha...   \n",
       "\n",
       "                                                    tags  \\\n",
       "429    [0, 0, 0, 0, 0, 0, 0, 0, 0, 0, 0, 0, 0, 0, 0, ...   \n",
       "430    [0, 0, 0, 0, 0, 0, 0, 0, 0, 0, 0, 0, 0, 0, 0, ...   \n",
       "431    [0, 0, 0, 0, 0, 0, 0, 1, 0, 0, 0, 0, 0, 0, 0, ...   \n",
       "432    [0, 0, 0, 0, 0, 0, 0, 0, 0, 0, 0, 0, 0, 0, 0, ...   \n",
       "433    [0, 0, 1, 1, 1, 1, 0, 0, 0, 0, 0, 0, 0, 0, 0, ...   \n",
       "...                                                  ...   \n",
       "14295  [0, 0, 0, 0, 0, 0, 0, 0, 0, 0, 0, 0, 0, 0, 0, ...   \n",
       "14296  [0, 0, 0, 0, 0, 0, 0, 0, 0, 0, 0, 0, 0, 0, 0, ...   \n",
       "14297  [0, 0, 0, 0, 0, 0, 0, 0, 0, 0, 0, 0, 0, 0, 0, ...   \n",
       "14298  [0, 0, 0, 0, 0, 0, 0, 0, 0, 0, 0, 0, 0, 0, 0, ...   \n",
       "14299  [0, 0, 1, 0, 0, 0, 0, 0, 0, 0, 0, 0, 0, 0, 0, ...   \n",
       "\n",
       "                                location  \n",
       "429                                   []  \n",
       "430                          ['283 290']  \n",
       "431                            ['18 19']  \n",
       "432                          ['543 565']  \n",
       "433                 ['13 24', '454 465']  \n",
       "...                                  ...  \n",
       "14295                                 []  \n",
       "14296                                 []  \n",
       "14297  ['184 197', '202 212', '303 313']  \n",
       "14298                        ['289 300']  \n",
       "14299                            ['6 7']  \n",
       "\n",
       "[13871 rows x 6 columns]"
      ]
     },
     "metadata": {},
     "output_type": "display_data"
    }
   ],
   "source": [
    "def get_tokens_and_labels(df):\n",
    "    \"\"\"Get input and output of token classification model.\"\"\"\n",
    "    df = df.merge(pns, on='pn_num')\n",
    "    df = df.merge(features, on='feature_num')\n",
    "    df.rename(columns = {'feature_text':'features', 'pn_history':'text'}, inplace = True)\n",
    "    df['tokens'] = df['features'].apply(lambda s: [s]) + df['text'].apply(lambda s: tokenize(s))\n",
    "    if 'location' in df:\n",
    "        inputs = df[['text', 'tokens', 'location']]\n",
    "        df['tags'] = inputs.apply(lambda sr: [0] + idx2token_label(sr[0], sr[1], sr[2]), axis=1)\n",
    "        return df[['id', 'features', 'text', 'tokens', 'tags', 'location']]\n",
    "    return df[['id', 'features', 'text', 'tokens']]\n",
    "\n",
    "tag_train = get_tokens_and_labels(train)\n",
    "tag_test = get_tokens_and_labels(test)\n",
    "\n",
    "tag_train_shuffled = tag_train.sample(frac=1).reset_index(drop=True)\n",
    "tag_valid = tag_train_shuffled.loc[: len(tag_train) * 0.03]\n",
    "tag_train = tag_train_shuffled.loc[len(tag_train) * 0.03:]\n",
    "\n",
    "print(f'Length of Train data: {len(tag_train)}')\n",
    "print(f'Length of Validation data: {len(tag_valid)}')\n",
    "print(f'Length of Test data: {len(tag_test)}')\n",
    "display(tag_train)"
   ]
  },
  {
   "cell_type": "markdown",
   "id": "98d4ecba",
   "metadata": {
    "papermill": {
     "duration": 0.036116,
     "end_time": "2022-05-12T02:02:11.013189",
     "exception": false,
     "start_time": "2022-05-12T02:02:10.977073",
     "status": "completed"
    },
    "tags": []
   },
   "source": [
    "## 2. Task 1 - Sequence Classification"
   ]
  },
  {
   "cell_type": "code",
   "execution_count": 9,
   "id": "e59aacf1",
   "metadata": {
    "execution": {
     "iopub.execute_input": "2022-05-12T02:02:11.085334Z",
     "iopub.status.busy": "2022-05-12T02:02:11.084729Z",
     "iopub.status.idle": "2022-05-12T02:02:11.623919Z",
     "shell.execute_reply": "2022-05-12T02:02:11.623199Z"
    },
    "papermill": {
     "duration": 0.577575,
     "end_time": "2022-05-12T02:02:11.626056",
     "exception": false,
     "start_time": "2022-05-12T02:02:11.048481",
     "status": "completed"
    },
    "tags": []
   },
   "outputs": [],
   "source": [
    "# Encode pandas DataFrame into HuggingFace Dataset object.\n",
    "train_seq_dataset = Dataset.from_pandas(seq_train)\n",
    "valid_seq_dataset = Dataset.from_pandas(seq_valid)"
   ]
  },
  {
   "cell_type": "code",
   "execution_count": 10,
   "id": "0d7a8dcc",
   "metadata": {
    "execution": {
     "iopub.execute_input": "2022-05-12T02:02:11.698734Z",
     "iopub.status.busy": "2022-05-12T02:02:11.698142Z",
     "iopub.status.idle": "2022-05-12T02:02:22.332589Z",
     "shell.execute_reply": "2022-05-12T02:02:22.331834Z"
    },
    "papermill": {
     "duration": 10.673215,
     "end_time": "2022-05-12T02:02:22.335082",
     "exception": false,
     "start_time": "2022-05-12T02:02:11.661867",
     "status": "completed"
    },
    "tags": []
   },
   "outputs": [
    {
     "name": "stdout",
     "output_type": "stream",
     "text": [
      "Example input: \n",
      " ['mr', '.', 'h', '##nas', '##on', 'is', 'a', '35', 'year', 'old', 'male', 'who', 'presents', 'with', '2', 'months', 'of', 'pain', 'rated', 'at', '5', '/', '10', 'and', 'localized', 'to', 'the', 'mid', '-', 'abdomen', '.', 'pain', 'is', 'burning', 'in', 'nature', 'and', 'not', 'made', 'worse', ',', 'or', 'better', 'with', 'eating', '.', 'additionally', ',', 'patient', 'end', '##ors', '##es', 'a', 'sensation', 'of', 'na', '##ue', '##a', '.', 'nausea', 'and', 'pain', 'used', 'to', 'present', 'once', 'per', 'week', ',', 'but', 'is', 'now', 'present', '2', '-', '3', '##x', 'per', 'day', '.', 'he', 'initially', 'used', 'tu', '##ms', ',', 'which', 'provided', 'some', 'relief', ',', 'but', 'is', 'no', 'long', 'working', '.', 'pain', 'has', 'worsened', 'over', '2', 'months', '.', 'additionally', ',', 'pain', 'awake', '##ns', 'patient', 'from', 'sleep', '.', 'ro', '##s', ':', 'stool', 'appears', 'dark', ',', 'but', 'no', 'frank', 'blood', '.', 'no', 'other', 'positive', 'ro', '##s', 'pm', '##h', ':', 'back', 'ache', '##s', 'and', 'muscle', 'spa', '##sms', ',', 'control', '##ed', 'with', 'mo', '##tri', '##n', 'ps', '##h', ':', 'none', 'medications', ':', 'mo', '##tri', '##n', '.', 'no', 'supplements', ',', 'or', 'vitamin', '##s', 'all', '##er', '##gies', ':', 'none', 'fm', '##h', '##x', ':', 'uncle', 'with', 'bleeding', 'ul', '##cer', '.', 'm', '+', 'd', 'healthy', 'social', ':', 'high', 'elevation', 'construction', ',', 'lives', 'alone', ',', 'no', 'pets', ',', 'al', '##cho', '##l', ':', 'quit', '1', 'week', 'prior', ',', 'before', 'variable', 'number', '.', '1', '-', '1', '.', '5', 'packs', 'of', 'cigar', '##att', '##es', 'since', '15', '.']\n",
      "Example tokenized : \n",
      " [101, 2720, 1012, 1044, 1001, 1001, 17235, 1001, 1001, 2006, 2003, 1037, 3486, 2095, 2214, 3287, 2040, 7534, 2007, 1016, 2706, 1997, 3255, 6758, 2012, 1019, 1013, 2184, 1998, 22574, 2000, 1996, 3054, 1011, 13878, 1012, 3255, 2003, 5255, 1999, 3267, 1998, 2025, 2081, 4788, 1010, 2030, 2488, 2007, 5983, 1012, 5678, 1010, 5776, 2203, 1001, 1001, 2030, 2015, 1001, 1001, 9686, 1037, 8742, 1997, 6583, 1001, 1001, 1057, 2063, 1001, 1001, 1037, 1012, 19029, 1998, 3255, 2109, 2000, 2556, 2320, 2566, 2733, 1010, 2021, 2003, 2085, 2556, 1016, 1011, 1017, 1001, 1001, 1060, 2566, 2154, 1012, 2002, 3322, 2109, 10722, 1001, 1001, 5796, 1010, 2029, 3024, 2070, 4335, 1010, 2021, 2003, 2053, 2146, 2551, 1012, 3255, 2038, 27622, 2058, 1016, 2706, 1012, 5678, 1010, 3255, 8300, 1001, 1001, 24978, 5776, 2013, 3637, 1012, 20996, 1001, 1001, 1055, 1024, 14708, 3544, 2601, 1010, 2021, 2053, 3581, 2668, 1012, 2053, 2060, 3893, 20996, 1001, 1001, 1055, 7610, 1001, 1001, 1044, 1024, 2067, 12336, 1001, 1001, 1055, 1998, 6740, 12403, 1001, 1001, 22434, 1010, 2491, 1001, 1001, 3968, 2007, 9587, 1001, 1001, 13012, 1001, 1001, 1050, 8827, 1001, 1001, 1044, 1024, 3904, 20992, 1024, 9587, 1001, 1001, 13012, 1001, 1001, 1050, 1012, 2053, 25654, 1010, 2030, 17663, 1001, 1001, 1055, 2035, 1001, 1001, 9413, 1001, 1001, 21025, 2229, 1024, 3904, 4718, 1001, 1001, 1044, 1001, 1001, 1060, 1024, 4470, 2007, 9524, 17359, 1001, 1001, 8292, 2099, 1012, 1049, 1009, 1040, 7965, 2591, 1024, 2152, 6678, 2810, 1010, 3268, 2894, 1010, 2053, 18551, 1010, 2632, 1001, 1001, 16480, 1001, 1001, 1048, 1024, 8046, 1015, 2733, 3188, 1010, 2077, 8023, 2193, 1012, 1015, 1011, 1015, 1012, 1019, 15173, 1997, 19135, 1001, 1001, 2012, 2102, 1001, 1001, 9686, 2144, 2321, 1012, 102]\n"
     ]
    }
   ],
   "source": [
    "# Observe an example from train data\n",
    "example_input = train_seq_dataset['sequence'][0]\n",
    "example_tokenized = tokenizer(example_input, is_split_into_words=True)\n",
    "\n",
    "print(\"Example input: \\n\", example_input)\n",
    "print(\"Example tokenized : \\n\", example_tokenized.input_ids)"
   ]
  },
  {
   "cell_type": "code",
   "execution_count": 11,
   "id": "1c7f2a43",
   "metadata": {
    "execution": {
     "iopub.execute_input": "2022-05-12T02:02:22.410506Z",
     "iopub.status.busy": "2022-05-12T02:02:22.409111Z",
     "iopub.status.idle": "2022-05-12T02:03:29.979761Z",
     "shell.execute_reply": "2022-05-12T02:03:29.979103Z"
    },
    "papermill": {
     "duration": 67.609099,
     "end_time": "2022-05-12T02:03:29.981470",
     "exception": false,
     "start_time": "2022-05-12T02:02:22.372371",
     "status": "completed"
    },
    "tags": []
   },
   "outputs": [
    {
     "data": {
      "application/vnd.jupyter.widget-view+json": {
       "model_id": "e9a47cae2ca04b5a928eacf9f7be7e53",
       "version_major": 2,
       "version_minor": 0
      },
      "text/plain": [
       "  0%|          | 0/42 [00:00<?, ?ba/s]"
      ]
     },
     "metadata": {},
     "output_type": "display_data"
    },
    {
     "data": {
      "application/vnd.jupyter.widget-view+json": {
       "model_id": "80d08a7621634990b2d09541e13819ad",
       "version_major": 2,
       "version_minor": 0
      },
      "text/plain": [
       "  0%|          | 0/1 [00:00<?, ?ba/s]"
      ]
     },
     "metadata": {},
     "output_type": "display_data"
    }
   ],
   "source": [
    "# Tokenize Dataset for training\n",
    "def prepare_class_features(examples):\n",
    "    tokenized_data = tokenizer(examples[\"sequence\"],\n",
    "                               truncation=True,\n",
    "                               is_split_into_words=True)\n",
    "    tokenized_data['labels'] = examples['labels']\n",
    "    return tokenized_data\n",
    "\n",
    "tokenized_seq_train = train_seq_dataset.map(prepare_class_features, \n",
    "                                            batched=True, \n",
    "                                            remove_columns=train_seq_dataset.column_names)\n",
    "tokenized_seq_valid = valid_seq_dataset.map(prepare_class_features, \n",
    "                                            batched=True, \n",
    "                                            remove_columns=valid_seq_dataset.column_names)"
   ]
  },
  {
   "cell_type": "code",
   "execution_count": 12,
   "id": "909c1a1f",
   "metadata": {
    "execution": {
     "iopub.execute_input": "2022-05-12T02:03:30.058589Z",
     "iopub.status.busy": "2022-05-12T02:03:30.058010Z",
     "iopub.status.idle": "2022-05-12T02:03:39.426909Z",
     "shell.execute_reply": "2022-05-12T02:03:39.426114Z"
    },
    "papermill": {
     "duration": 9.409526,
     "end_time": "2022-05-12T02:03:39.428983",
     "exception": false,
     "start_time": "2022-05-12T02:03:30.019457",
     "status": "completed"
    },
    "tags": []
   },
   "outputs": [],
   "source": [
    "# Load Pretrained Model to current device\n",
    "seq_model = AutoModelForSequenceClassification.from_pretrained(\"../input/nbme-pre-trained-models/seq_model\", \n",
    "                                                              num_labels=num_labels).to(device)\n",
    "# Print model structure\n",
    "# seq_model"
   ]
  },
  {
   "cell_type": "code",
   "execution_count": 13,
   "id": "28d7eff2",
   "metadata": {
    "execution": {
     "iopub.execute_input": "2022-05-12T02:03:39.507908Z",
     "iopub.status.busy": "2022-05-12T02:03:39.507692Z",
     "iopub.status.idle": "2022-05-12T02:03:39.519946Z",
     "shell.execute_reply": "2022-05-12T02:03:39.519294Z"
    },
    "papermill": {
     "duration": 0.053903,
     "end_time": "2022-05-12T02:03:39.521686",
     "exception": false,
     "start_time": "2022-05-12T02:03:39.467783",
     "status": "completed"
    },
    "tags": []
   },
   "outputs": [
    {
     "name": "stderr",
     "output_type": "stream",
     "text": [
      "Using amp half precision backend\n"
     ]
    }
   ],
   "source": [
    "batch_size = 16\n",
    "epochs = 5\n",
    "\n",
    "args = TrainingArguments(\n",
    "    \"./train/nbme-case\",\n",
    "    evaluation_strategy=\"epoch\",\n",
    "    learning_rate=2e-5,\n",
    "    save_strategy=\"epoch\",\n",
    "    per_device_train_batch_size=batch_size,\n",
    "    per_device_eval_batch_size=batch_size,\n",
    "    num_train_epochs=epochs,\n",
    "    weight_decay=0.01,\n",
    "    report_to=\"none\",\n",
    "    fp16=True, # half precision\n",
    ")\n",
    "\n",
    "data_collator = DataCollatorWithPadding(tokenizer=tokenizer)\n",
    "\n",
    "trainer = Trainer(\n",
    "    seq_model,\n",
    "    args,\n",
    "    train_dataset=tokenized_seq_train,\n",
    "    eval_dataset=tokenized_seq_valid,\n",
    "    data_collator=data_collator,\n",
    "    tokenizer=tokenizer,\n",
    ")"
   ]
  },
  {
   "cell_type": "code",
   "execution_count": 14,
   "id": "88c3e490",
   "metadata": {
    "execution": {
     "iopub.execute_input": "2022-05-12T02:03:39.600459Z",
     "iopub.status.busy": "2022-05-12T02:03:39.600250Z",
     "iopub.status.idle": "2022-05-12T02:03:39.604283Z",
     "shell.execute_reply": "2022-05-12T02:03:39.603609Z"
    },
    "papermill": {
     "duration": 0.045225,
     "end_time": "2022-05-12T02:03:39.606148",
     "exception": false,
     "start_time": "2022-05-12T02:03:39.560923",
     "status": "completed"
    },
    "tags": []
   },
   "outputs": [],
   "source": [
    "def print_summary(result):\n",
    "    print(f\"Total Time: {result.metrics['train_runtime']:.2f}s\")\n",
    "    print(f\"Samples/second: {result.metrics['train_samples_per_second']:.2f}s\")"
   ]
  },
  {
   "cell_type": "code",
   "execution_count": 15,
   "id": "afd48b5e",
   "metadata": {
    "execution": {
     "iopub.execute_input": "2022-05-12T02:03:39.683637Z",
     "iopub.status.busy": "2022-05-12T02:03:39.683432Z",
     "iopub.status.idle": "2022-05-12T03:13:26.267521Z",
     "shell.execute_reply": "2022-05-12T03:13:26.266750Z"
    },
    "papermill": {
     "duration": 4186.624814,
     "end_time": "2022-05-12T03:13:26.269533",
     "exception": false,
     "start_time": "2022-05-12T02:03:39.644719",
     "status": "completed"
    },
    "tags": []
   },
   "outputs": [
    {
     "name": "stderr",
     "output_type": "stream",
     "text": [
      "/opt/conda/lib/python3.7/site-packages/transformers/optimization.py:309: FutureWarning: This implementation of AdamW is deprecated and will be removed in a future version. Use the PyTorch implementation torch.optim.AdamW instead, or set `no_deprecation_warning=True` to disable this warning\n",
      "  FutureWarning,\n",
      "***** Running training *****\n",
      "  Num examples = 41724\n",
      "  Num Epochs = 5\n",
      "  Instantaneous batch size per device = 16\n",
      "  Total train batch size (w. parallel, distributed & accumulation) = 16\n",
      "  Gradient Accumulation steps = 1\n",
      "  Total optimization steps = 13040\n"
     ]
    },
    {
     "data": {
      "text/html": [
       "\n",
       "    <div>\n",
       "      \n",
       "      <progress value='13040' max='13040' style='width:300px; height:20px; vertical-align: middle;'></progress>\n",
       "      [13040/13040 1:09:45, Epoch 5/5]\n",
       "    </div>\n",
       "    <table border=\"1\" class=\"dataframe\">\n",
       "  <thead>\n",
       " <tr style=\"text-align: left;\">\n",
       "      <th>Epoch</th>\n",
       "      <th>Training Loss</th>\n",
       "      <th>Validation Loss</th>\n",
       "    </tr>\n",
       "  </thead>\n",
       "  <tbody>\n",
       "    <tr>\n",
       "      <td>1</td>\n",
       "      <td>0.002100</td>\n",
       "      <td>0.000207</td>\n",
       "    </tr>\n",
       "    <tr>\n",
       "      <td>2</td>\n",
       "      <td>0.001700</td>\n",
       "      <td>0.000035</td>\n",
       "    </tr>\n",
       "    <tr>\n",
       "      <td>3</td>\n",
       "      <td>0.000000</td>\n",
       "      <td>0.000012</td>\n",
       "    </tr>\n",
       "    <tr>\n",
       "      <td>4</td>\n",
       "      <td>0.000000</td>\n",
       "      <td>0.000004</td>\n",
       "    </tr>\n",
       "    <tr>\n",
       "      <td>5</td>\n",
       "      <td>0.000000</td>\n",
       "      <td>0.000003</td>\n",
       "    </tr>\n",
       "  </tbody>\n",
       "</table><p>"
      ],
      "text/plain": [
       "<IPython.core.display.HTML object>"
      ]
     },
     "metadata": {},
     "output_type": "display_data"
    },
    {
     "name": "stderr",
     "output_type": "stream",
     "text": [
      "/opt/conda/lib/python3.7/site-packages/transformers/trainer.py:1467: FutureWarning: Non-finite norm encountered in torch.nn.utils.clip_grad_norm_; continuing anyway. Note that the default behavior will change in a future release to error out if a non-finite total norm is encountered. At that point, setting error_if_nonfinite=false will be required to retain the old behavior.\n",
      "  args.max_grad_norm,\n",
      "***** Running Evaluation *****\n",
      "  Num examples = 422\n",
      "  Batch size = 16\n",
      "Saving model checkpoint to ./train/nbme-case/checkpoint-2608\n",
      "Configuration saved in ./train/nbme-case/checkpoint-2608/config.json\n",
      "Model weights saved in ./train/nbme-case/checkpoint-2608/pytorch_model.bin\n",
      "tokenizer config file saved in ./train/nbme-case/checkpoint-2608/tokenizer_config.json\n",
      "Special tokens file saved in ./train/nbme-case/checkpoint-2608/special_tokens_map.json\n",
      "/opt/conda/lib/python3.7/site-packages/transformers/trainer.py:1467: FutureWarning: Non-finite norm encountered in torch.nn.utils.clip_grad_norm_; continuing anyway. Note that the default behavior will change in a future release to error out if a non-finite total norm is encountered. At that point, setting error_if_nonfinite=false will be required to retain the old behavior.\n",
      "  args.max_grad_norm,\n",
      "***** Running Evaluation *****\n",
      "  Num examples = 422\n",
      "  Batch size = 16\n",
      "Saving model checkpoint to ./train/nbme-case/checkpoint-5216\n",
      "Configuration saved in ./train/nbme-case/checkpoint-5216/config.json\n",
      "Model weights saved in ./train/nbme-case/checkpoint-5216/pytorch_model.bin\n",
      "tokenizer config file saved in ./train/nbme-case/checkpoint-5216/tokenizer_config.json\n",
      "Special tokens file saved in ./train/nbme-case/checkpoint-5216/special_tokens_map.json\n",
      "/opt/conda/lib/python3.7/site-packages/transformers/trainer.py:1467: FutureWarning: Non-finite norm encountered in torch.nn.utils.clip_grad_norm_; continuing anyway. Note that the default behavior will change in a future release to error out if a non-finite total norm is encountered. At that point, setting error_if_nonfinite=false will be required to retain the old behavior.\n",
      "  args.max_grad_norm,\n",
      "***** Running Evaluation *****\n",
      "  Num examples = 422\n",
      "  Batch size = 16\n",
      "Saving model checkpoint to ./train/nbme-case/checkpoint-7824\n",
      "Configuration saved in ./train/nbme-case/checkpoint-7824/config.json\n",
      "Model weights saved in ./train/nbme-case/checkpoint-7824/pytorch_model.bin\n",
      "tokenizer config file saved in ./train/nbme-case/checkpoint-7824/tokenizer_config.json\n",
      "Special tokens file saved in ./train/nbme-case/checkpoint-7824/special_tokens_map.json\n",
      "***** Running Evaluation *****\n",
      "  Num examples = 422\n",
      "  Batch size = 16\n",
      "Saving model checkpoint to ./train/nbme-case/checkpoint-10432\n",
      "Configuration saved in ./train/nbme-case/checkpoint-10432/config.json\n",
      "Model weights saved in ./train/nbme-case/checkpoint-10432/pytorch_model.bin\n",
      "tokenizer config file saved in ./train/nbme-case/checkpoint-10432/tokenizer_config.json\n",
      "Special tokens file saved in ./train/nbme-case/checkpoint-10432/special_tokens_map.json\n",
      "***** Running Evaluation *****\n",
      "  Num examples = 422\n",
      "  Batch size = 16\n",
      "Saving model checkpoint to ./train/nbme-case/checkpoint-13040\n",
      "Configuration saved in ./train/nbme-case/checkpoint-13040/config.json\n",
      "Model weights saved in ./train/nbme-case/checkpoint-13040/pytorch_model.bin\n",
      "tokenizer config file saved in ./train/nbme-case/checkpoint-13040/tokenizer_config.json\n",
      "Special tokens file saved in ./train/nbme-case/checkpoint-13040/special_tokens_map.json\n",
      "\n",
      "\n",
      "Training completed. Do not forget to share your model on huggingface.co/models =)\n",
      "\n",
      "\n"
     ]
    },
    {
     "name": "stdout",
     "output_type": "stream",
     "text": [
      "Total Time: 4186.56s\n",
      "Samples/second: 49.83s\n"
     ]
    }
   ],
   "source": [
    "result = trainer.train()\n",
    "print_summary(result)"
   ]
  },
  {
   "cell_type": "markdown",
   "id": "72636a99",
   "metadata": {
    "papermill": {
     "duration": 0.05342,
     "end_time": "2022-05-12T03:13:26.377048",
     "exception": false,
     "start_time": "2022-05-12T03:13:26.323628",
     "status": "completed"
    },
    "tags": []
   },
   "source": [
    "### 3. Task 2 - Token Tagging "
   ]
  },
  {
   "cell_type": "code",
   "execution_count": 16,
   "id": "b3ec61ee",
   "metadata": {
    "execution": {
     "iopub.execute_input": "2022-05-12T03:13:26.488557Z",
     "iopub.status.busy": "2022-05-12T03:13:26.488302Z",
     "iopub.status.idle": "2022-05-12T03:13:26.946147Z",
     "shell.execute_reply": "2022-05-12T03:13:26.945425Z"
    },
    "papermill": {
     "duration": 0.516385,
     "end_time": "2022-05-12T03:13:26.948716",
     "exception": false,
     "start_time": "2022-05-12T03:13:26.432331",
     "status": "completed"
    },
    "tags": []
   },
   "outputs": [],
   "source": [
    "# Encode pandas DataFrame into HuggingFace Dataset object.\n",
    "train_tag_dataset = Dataset.from_pandas(tag_train)\n",
    "valid_tag_dataset = Dataset.from_pandas(tag_valid)\n",
    "test_dataset = Dataset.from_pandas(tag_test)"
   ]
  },
  {
   "cell_type": "code",
   "execution_count": 17,
   "id": "42ee30ad",
   "metadata": {
    "execution": {
     "iopub.execute_input": "2022-05-12T03:13:27.058854Z",
     "iopub.status.busy": "2022-05-12T03:13:27.058643Z",
     "iopub.status.idle": "2022-05-12T03:13:31.812307Z",
     "shell.execute_reply": "2022-05-12T03:13:31.811560Z"
    },
    "papermill": {
     "duration": 4.81078,
     "end_time": "2022-05-12T03:13:31.814096",
     "exception": false,
     "start_time": "2022-05-12T03:13:27.003316",
     "status": "completed"
    },
    "tags": []
   },
   "outputs": [
    {
     "name": "stdout",
     "output_type": "stream",
     "text": [
      "Example text: \n",
      " HPI:20yo c/o headach which started 1 day ago, its all over the head, constant and progressively worsen, associated nausea, no vomitting. family hx of migraine. patient says these is the worse headach in her life.hx of OCP used. she is on Ibuprofen.\r\n",
      "ROS:as above\r\n",
      "ALLERGY:\r\n",
      "PMH:\r\n",
      "PSH:\r\n",
      "FH/SH:\r\n",
      "SH:\r\n",
      "\n",
      "\n",
      "Example input: \n",
      " ['viral-symptoms-OR-rhinorrhea-OR-scratchy-throat', 'hp', '##i', ':', '20', '##yo', 'c', '/', 'o', 'head', '##ach', 'which', 'started', '1', 'day', 'ago', ',', 'its', 'all', 'over', 'the', 'head', ',', 'constant', 'and', 'progressively', 'worse', '##n', ',', 'associated', 'nausea', ',', 'no', 'vomit', '##ting', '.', 'family', 'h', '##x', 'of', 'mig', '##raine', '.', 'patient', 'says', 'these', 'is', 'the', 'worse', 'head', '##ach', 'in', 'her', 'life', '.', 'h', '##x', 'of', 'o', '##cp', 'used', '.', 'she', 'is', 'on', 'ib', '##up', '##ro', '##fen', '.', 'ro', '##s', ':', 'as', 'above', 'all', '##ergy', ':', 'pm', '##h', ':', 'ps', '##h', ':', 'f', '##h', '/', 'sh', ':', 'sh', ':']\n",
      "\n",
      "Example tokenized : \n",
      " [101, 13434, 1011, 8030, 1011, 2030, 1011, 24091, 12171, 20192, 1011, 2030, 1011, 11969, 2100, 1011, 3759, 6522, 1001, 1001, 1045, 1024, 2322, 1001, 1001, 10930, 1039, 1013, 1051, 2132, 1001, 1001, 9353, 2232, 2029, 2318, 1015, 2154, 3283, 1010, 2049, 2035, 2058, 1996, 2132, 1010, 5377, 1998, 20519, 4788, 1001, 1001, 1050, 1010, 3378, 19029, 1010, 2053, 23251, 1001, 1001, 28642, 1012, 2155, 1044, 1001, 1001, 1060, 1997, 19117, 1001, 1001, 4542, 2063, 1012, 5776, 2758, 2122, 2003, 1996, 4788, 2132, 1001, 1001, 9353, 2232, 1999, 2014, 2166, 1012, 1044, 1001, 1001, 1060, 1997, 1051, 1001, 1001, 18133, 2109, 1012, 2016, 2003, 2006, 21307, 1001, 1001, 2039, 1001, 1001, 20996, 1001, 1001, 21713, 1012, 20996, 1001, 1001, 1055, 1024, 2004, 2682, 2035, 1001, 1001, 9413, 6292, 1024, 7610, 1001, 1001, 1044, 1024, 8827, 1001, 1001, 1044, 1024, 1042, 1001, 1001, 1044, 1013, 14021, 1024, 14021, 1024, 102]\n",
      "\n",
      "Example label: \n",
      " [0, 0, 0, 0, 0, 0, 0, 0, 0, 0, 0, 0, 0, 0, 0, 0, 0, 0, 0, 0, 0, 0, 0, 0, 0, 0, 0, 0, 0, 0, 0, 0, 0, 0, 0, 0, 0, 0, 0, 0, 0, 0, 0, 0, 0, 0, 0, 0, 0, 0, 0, 0, 0, 0, 0, 0, 0, 0, 0, 0, 0, 0, 0, 0, 0, 0, 0, 0, 0, 0, 0, 0, 0, 0, 0, 0, 0, 0, 0, 0, 0, 0, 0, 0, 0, 0, 0, 0, 0, 0, 0, 0]\n"
     ]
    }
   ],
   "source": [
    "# Observe an example from train dataset.\n",
    "example_input = train_tag_dataset['tokens'][0]\n",
    "example_tokenized = tokenizer(example_input, is_split_into_words=True)\n",
    "\n",
    "print(\"Example text: \\n\", train_tag_dataset['text'][0])\n",
    "print(\"\\nExample input: \\n\", example_input)\n",
    "print(\"\\nExample tokenized : \\n\", example_tokenized.input_ids)\n",
    "print(\"\\nExample label: \\n\", train_tag_dataset['tags'][0])"
   ]
  },
  {
   "cell_type": "code",
   "execution_count": 18,
   "id": "f166bfbd",
   "metadata": {
    "execution": {
     "iopub.execute_input": "2022-05-12T03:13:31.924680Z",
     "iopub.status.busy": "2022-05-12T03:13:31.924110Z",
     "iopub.status.idle": "2022-05-12T03:14:01.676887Z",
     "shell.execute_reply": "2022-05-12T03:14:01.676209Z"
    },
    "papermill": {
     "duration": 29.810233,
     "end_time": "2022-05-12T03:14:01.678833",
     "exception": false,
     "start_time": "2022-05-12T03:13:31.868600",
     "status": "completed"
    },
    "tags": []
   },
   "outputs": [
    {
     "data": {
      "application/vnd.jupyter.widget-view+json": {
       "model_id": "254a71811c594200b4555611e72abc1d",
       "version_major": 2,
       "version_minor": 0
      },
      "text/plain": [
       "  0%|          | 0/14 [00:00<?, ?ba/s]"
      ]
     },
     "metadata": {},
     "output_type": "display_data"
    },
    {
     "data": {
      "application/vnd.jupyter.widget-view+json": {
       "model_id": "62972d40695349cc827efb5da6d24d26",
       "version_major": 2,
       "version_minor": 0
      },
      "text/plain": [
       "  0%|          | 0/1 [00:00<?, ?ba/s]"
      ]
     },
     "metadata": {},
     "output_type": "display_data"
    }
   ],
   "source": [
    "# Prepare dataset for training.\n",
    "# For labels, convert it to a tokenized label form using word_idx of BatchEncode object.\n",
    "def prepare_tag_features(examples):\n",
    "    tokenized_inputs = tokenizer(\n",
    "        examples[\"tokens\"], \n",
    "        truncation=True, \n",
    "        padding=\"max_length\",\n",
    "        is_split_into_words=True)\n",
    "\n",
    "    labels = []\n",
    "    for i, label in enumerate(examples[\"tags\"]):\n",
    "        word_ids = tokenized_inputs.word_ids(batch_index=i)\n",
    "        previous_word_idx = None\n",
    "        label_ids = []\n",
    "        for word_idx in word_ids:\n",
    "            if word_idx is None:\n",
    "                label_ids.append(-100)\n",
    "            elif word_idx != previous_word_idx: \n",
    "                label_ids.append(label[word_idx])\n",
    "            else:\n",
    "                label_ids.append(-100)\n",
    "            previous_word_idx = word_idx\n",
    "        labels.append(label_ids)\n",
    "\n",
    "    tokenized_inputs[\"labels\"] = labels\n",
    "    return tokenized_inputs\n",
    "\n",
    "tokenized_tag_train = train_tag_dataset.map(prepare_tag_features, \n",
    "                                            batched=True, \n",
    "                                            remove_columns=train_tag_dataset.column_names)\n",
    "tokenized_tag_valid = valid_tag_dataset.map(prepare_tag_features, \n",
    "                                            batched=True, \n",
    "                                            remove_columns=valid_tag_dataset.column_names)"
   ]
  },
  {
   "cell_type": "code",
   "execution_count": 19,
   "id": "b683a1ab",
   "metadata": {
    "execution": {
     "iopub.execute_input": "2022-05-12T03:14:01.793208Z",
     "iopub.status.busy": "2022-05-12T03:14:01.792989Z",
     "iopub.status.idle": "2022-05-12T03:14:07.066666Z",
     "shell.execute_reply": "2022-05-12T03:14:07.065928Z"
    },
    "papermill": {
     "duration": 5.33333,
     "end_time": "2022-05-12T03:14:07.068599",
     "exception": false,
     "start_time": "2022-05-12T03:14:01.735269",
     "status": "completed"
    },
    "tags": []
   },
   "outputs": [
    {
     "name": "stderr",
     "output_type": "stream",
     "text": [
      "loading configuration file ../input/nbme-pre-trained-models/token_model/config.json\n",
      "Model config DistilBertConfig {\n",
      "  \"_name_or_path\": \"../input/nbme-pre-trained-models/token_model\",\n",
      "  \"activation\": \"gelu\",\n",
      "  \"architectures\": [\n",
      "    \"DistilBertForTokenClassification\"\n",
      "  ],\n",
      "  \"attention_dropout\": 0.1,\n",
      "  \"dim\": 768,\n",
      "  \"dropout\": 0.1,\n",
      "  \"hidden_dim\": 3072,\n",
      "  \"initializer_range\": 0.02,\n",
      "  \"max_position_embeddings\": 512,\n",
      "  \"model_type\": \"distilbert\",\n",
      "  \"n_heads\": 12,\n",
      "  \"n_layers\": 6,\n",
      "  \"pad_token_id\": 0,\n",
      "  \"qa_dropout\": 0.1,\n",
      "  \"seq_classif_dropout\": 0.2,\n",
      "  \"sinusoidal_pos_embds\": false,\n",
      "  \"tie_weights_\": true,\n",
      "  \"torch_dtype\": \"float32\",\n",
      "  \"transformers_version\": \"4.18.0\",\n",
      "  \"vocab_size\": 30522\n",
      "}\n",
      "\n",
      "loading weights file ../input/nbme-pre-trained-models/token_model/pytorch_model.bin\n",
      "All model checkpoint weights were used when initializing DistilBertForTokenClassification.\n",
      "\n",
      "All the weights of DistilBertForTokenClassification were initialized from the model checkpoint at ../input/nbme-pre-trained-models/token_model.\n",
      "If your task is similar to the task the model of the checkpoint was trained on, you can already use DistilBertForTokenClassification for predictions without further training.\n"
     ]
    }
   ],
   "source": [
    "# Load PreTrained Model Structure.\n",
    "token_model = AutoModelForTokenClassification.from_pretrained(\"../input/nbme-pre-trained-models/token_model\", \n",
    "                                                              num_labels=2).to(device)"
   ]
  },
  {
   "cell_type": "code",
   "execution_count": 20,
   "id": "766d8a4b",
   "metadata": {
    "execution": {
     "iopub.execute_input": "2022-05-12T03:14:07.239740Z",
     "iopub.status.busy": "2022-05-12T03:14:07.239410Z",
     "iopub.status.idle": "2022-05-12T03:14:07.267073Z",
     "shell.execute_reply": "2022-05-12T03:14:07.264279Z"
    },
    "papermill": {
     "duration": 0.14268,
     "end_time": "2022-05-12T03:14:07.269726",
     "exception": false,
     "start_time": "2022-05-12T03:14:07.127046",
     "status": "completed"
    },
    "tags": []
   },
   "outputs": [
    {
     "data": {
      "text/plain": [
       "_IncompatibleKeys(missing_keys=['classifier.weight', 'classifier.bias'], unexpected_keys=['pre_classifier.weight', 'pre_classifier.bias'])"
      ]
     },
     "execution_count": 20,
     "metadata": {},
     "output_type": "execute_result"
    }
   ],
   "source": [
    "# Load previous sequence model weight into token model.\n",
    "state_dict = seq_model.state_dict()\n",
    "state_dict.pop('classifier.weight')\n",
    "state_dict.pop('classifier.bias')\n",
    "\n",
    "token_model.load_state_dict(state_dict, strict=False)"
   ]
  },
  {
   "cell_type": "code",
   "execution_count": 21,
   "id": "a0b309ff",
   "metadata": {
    "execution": {
     "iopub.execute_input": "2022-05-12T03:14:07.468262Z",
     "iopub.status.busy": "2022-05-12T03:14:07.467857Z",
     "iopub.status.idle": "2022-05-12T03:14:07.476371Z",
     "shell.execute_reply": "2022-05-12T03:14:07.475686Z"
    },
    "papermill": {
     "duration": 0.108972,
     "end_time": "2022-05-12T03:14:07.478486",
     "exception": false,
     "start_time": "2022-05-12T03:14:07.369514",
     "status": "completed"
    },
    "tags": []
   },
   "outputs": [],
   "source": [
    "class NbmeTrainer(Trainer):\n",
    "    def compute_loss(self, model, inputs, return_outputs=False):\n",
    "        labels = inputs.get(\"labels\").to(device)\n",
    "        outputs = model(**inputs)\n",
    "        logits = outputs.get(\"logits\").to(device)\n",
    "        loss_fct = nn.CrossEntropyLoss().to(device)\n",
    "        loss = loss_fct(logits.view(-1, self.model.config.num_labels), labels.view(-1))\n",
    "        return (loss, outputs) if return_outputs else loss"
   ]
  },
  {
   "cell_type": "code",
   "execution_count": 22,
   "id": "36e67540",
   "metadata": {
    "execution": {
     "iopub.execute_input": "2022-05-12T03:14:07.674119Z",
     "iopub.status.busy": "2022-05-12T03:14:07.673708Z",
     "iopub.status.idle": "2022-05-12T03:14:07.691817Z",
     "shell.execute_reply": "2022-05-12T03:14:07.691170Z"
    },
    "papermill": {
     "duration": 0.119,
     "end_time": "2022-05-12T03:14:07.693868",
     "exception": false,
     "start_time": "2022-05-12T03:14:07.574868",
     "status": "completed"
    },
    "tags": []
   },
   "outputs": [
    {
     "name": "stderr",
     "output_type": "stream",
     "text": [
      "PyTorch: setting up devices\n",
      "Using amp half precision backend\n"
     ]
    }
   ],
   "source": [
    "batch_size = 16\n",
    "epochs = 7\n",
    "\n",
    "args = TrainingArguments(\n",
    "    \"./nbme-tag\",\n",
    "    evaluation_strategy=\"epoch\",\n",
    "    learning_rate=2e-5,\n",
    "    save_strategy=\"epoch\",\n",
    "    per_device_train_batch_size=batch_size,\n",
    "    per_device_eval_batch_size=batch_size,\n",
    "    num_train_epochs=epochs,\n",
    "    weight_decay=0.01,\n",
    "    report_to=\"none\",\n",
    "    fp16=True # half precision\n",
    ")\n",
    "\n",
    "data_collator = DataCollatorForTokenClassification(tokenizer=tokenizer)\n",
    "\n",
    "trainer = NbmeTrainer(\n",
    "    token_model,\n",
    "    args,\n",
    "    train_dataset=tokenized_tag_train,\n",
    "    eval_dataset=tokenized_tag_valid,\n",
    "    data_collator=data_collator,\n",
    "    tokenizer=tokenizer,\n",
    ")"
   ]
  },
  {
   "cell_type": "code",
   "execution_count": 23,
   "id": "28201bf7",
   "metadata": {
    "execution": {
     "iopub.execute_input": "2022-05-12T03:14:07.829671Z",
     "iopub.status.busy": "2022-05-12T03:14:07.829422Z",
     "iopub.status.idle": "2022-05-12T04:03:26.847533Z",
     "shell.execute_reply": "2022-05-12T04:03:26.846696Z"
    },
    "papermill": {
     "duration": 2959.07949,
     "end_time": "2022-05-12T04:03:26.849194",
     "exception": false,
     "start_time": "2022-05-12T03:14:07.769704",
     "status": "completed"
    },
    "tags": []
   },
   "outputs": [
    {
     "name": "stderr",
     "output_type": "stream",
     "text": [
      "/opt/conda/lib/python3.7/site-packages/transformers/optimization.py:309: FutureWarning: This implementation of AdamW is deprecated and will be removed in a future version. Use the PyTorch implementation torch.optim.AdamW instead, or set `no_deprecation_warning=True` to disable this warning\n",
      "  FutureWarning,\n",
      "***** Running training *****\n",
      "  Num examples = 13871\n",
      "  Num Epochs = 7\n",
      "  Instantaneous batch size per device = 16\n",
      "  Total train batch size (w. parallel, distributed & accumulation) = 16\n",
      "  Gradient Accumulation steps = 1\n",
      "  Total optimization steps = 6069\n"
     ]
    },
    {
     "data": {
      "text/html": [
       "\n",
       "    <div>\n",
       "      \n",
       "      <progress value='6069' max='6069' style='width:300px; height:20px; vertical-align: middle;'></progress>\n",
       "      [6069/6069 49:18, Epoch 7/7]\n",
       "    </div>\n",
       "    <table border=\"1\" class=\"dataframe\">\n",
       "  <thead>\n",
       " <tr style=\"text-align: left;\">\n",
       "      <th>Epoch</th>\n",
       "      <th>Training Loss</th>\n",
       "      <th>Validation Loss</th>\n",
       "    </tr>\n",
       "  </thead>\n",
       "  <tbody>\n",
       "    <tr>\n",
       "      <td>1</td>\n",
       "      <td>0.058300</td>\n",
       "      <td>0.032282</td>\n",
       "    </tr>\n",
       "    <tr>\n",
       "      <td>2</td>\n",
       "      <td>0.029800</td>\n",
       "      <td>0.026508</td>\n",
       "    </tr>\n",
       "    <tr>\n",
       "      <td>3</td>\n",
       "      <td>0.023700</td>\n",
       "      <td>0.025019</td>\n",
       "    </tr>\n",
       "    <tr>\n",
       "      <td>4</td>\n",
       "      <td>0.020600</td>\n",
       "      <td>0.022459</td>\n",
       "    </tr>\n",
       "    <tr>\n",
       "      <td>5</td>\n",
       "      <td>0.017200</td>\n",
       "      <td>0.021874</td>\n",
       "    </tr>\n",
       "    <tr>\n",
       "      <td>6</td>\n",
       "      <td>0.015100</td>\n",
       "      <td>0.022123</td>\n",
       "    </tr>\n",
       "    <tr>\n",
       "      <td>7</td>\n",
       "      <td>0.014000</td>\n",
       "      <td>0.022956</td>\n",
       "    </tr>\n",
       "  </tbody>\n",
       "</table><p>"
      ],
      "text/plain": [
       "<IPython.core.display.HTML object>"
      ]
     },
     "metadata": {},
     "output_type": "display_data"
    },
    {
     "name": "stderr",
     "output_type": "stream",
     "text": [
      "***** Running Evaluation *****\n",
      "  Num examples = 430\n",
      "  Batch size = 16\n",
      "Saving model checkpoint to ./nbme-tag/checkpoint-867\n",
      "Configuration saved in ./nbme-tag/checkpoint-867/config.json\n",
      "Model weights saved in ./nbme-tag/checkpoint-867/pytorch_model.bin\n",
      "tokenizer config file saved in ./nbme-tag/checkpoint-867/tokenizer_config.json\n",
      "Special tokens file saved in ./nbme-tag/checkpoint-867/special_tokens_map.json\n",
      "***** Running Evaluation *****\n",
      "  Num examples = 430\n",
      "  Batch size = 16\n",
      "Saving model checkpoint to ./nbme-tag/checkpoint-1734\n",
      "Configuration saved in ./nbme-tag/checkpoint-1734/config.json\n",
      "Model weights saved in ./nbme-tag/checkpoint-1734/pytorch_model.bin\n",
      "tokenizer config file saved in ./nbme-tag/checkpoint-1734/tokenizer_config.json\n",
      "Special tokens file saved in ./nbme-tag/checkpoint-1734/special_tokens_map.json\n",
      "***** Running Evaluation *****\n",
      "  Num examples = 430\n",
      "  Batch size = 16\n",
      "Saving model checkpoint to ./nbme-tag/checkpoint-2601\n",
      "Configuration saved in ./nbme-tag/checkpoint-2601/config.json\n",
      "Model weights saved in ./nbme-tag/checkpoint-2601/pytorch_model.bin\n",
      "tokenizer config file saved in ./nbme-tag/checkpoint-2601/tokenizer_config.json\n",
      "Special tokens file saved in ./nbme-tag/checkpoint-2601/special_tokens_map.json\n",
      "***** Running Evaluation *****\n",
      "  Num examples = 430\n",
      "  Batch size = 16\n",
      "Saving model checkpoint to ./nbme-tag/checkpoint-3468\n",
      "Configuration saved in ./nbme-tag/checkpoint-3468/config.json\n",
      "Model weights saved in ./nbme-tag/checkpoint-3468/pytorch_model.bin\n",
      "tokenizer config file saved in ./nbme-tag/checkpoint-3468/tokenizer_config.json\n",
      "Special tokens file saved in ./nbme-tag/checkpoint-3468/special_tokens_map.json\n",
      "***** Running Evaluation *****\n",
      "  Num examples = 430\n",
      "  Batch size = 16\n",
      "Saving model checkpoint to ./nbme-tag/checkpoint-4335\n",
      "Configuration saved in ./nbme-tag/checkpoint-4335/config.json\n",
      "Model weights saved in ./nbme-tag/checkpoint-4335/pytorch_model.bin\n",
      "tokenizer config file saved in ./nbme-tag/checkpoint-4335/tokenizer_config.json\n",
      "Special tokens file saved in ./nbme-tag/checkpoint-4335/special_tokens_map.json\n",
      "***** Running Evaluation *****\n",
      "  Num examples = 430\n",
      "  Batch size = 16\n",
      "Saving model checkpoint to ./nbme-tag/checkpoint-5202\n",
      "Configuration saved in ./nbme-tag/checkpoint-5202/config.json\n",
      "Model weights saved in ./nbme-tag/checkpoint-5202/pytorch_model.bin\n",
      "tokenizer config file saved in ./nbme-tag/checkpoint-5202/tokenizer_config.json\n",
      "Special tokens file saved in ./nbme-tag/checkpoint-5202/special_tokens_map.json\n",
      "***** Running Evaluation *****\n",
      "  Num examples = 430\n",
      "  Batch size = 16\n",
      "Saving model checkpoint to ./nbme-tag/checkpoint-6069\n",
      "Configuration saved in ./nbme-tag/checkpoint-6069/config.json\n",
      "Model weights saved in ./nbme-tag/checkpoint-6069/pytorch_model.bin\n",
      "tokenizer config file saved in ./nbme-tag/checkpoint-6069/tokenizer_config.json\n",
      "Special tokens file saved in ./nbme-tag/checkpoint-6069/special_tokens_map.json\n",
      "\n",
      "\n",
      "Training completed. Do not forget to share your model on huggingface.co/models =)\n",
      "\n",
      "\n"
     ]
    },
    {
     "name": "stdout",
     "output_type": "stream",
     "text": [
      "Total Time: 2959.00s\n",
      "Samples/second: 32.81s\n"
     ]
    }
   ],
   "source": [
    "result = trainer.train()\n",
    "print_summary(result)"
   ]
  },
  {
   "cell_type": "markdown",
   "id": "70b13940",
   "metadata": {
    "papermill": {
     "duration": 0.07836,
     "end_time": "2022-05-12T04:03:27.011392",
     "exception": false,
     "start_time": "2022-05-12T04:03:26.933032",
     "status": "completed"
    },
    "tags": []
   },
   "source": [
    "## 4. Evaluate Samples"
   ]
  },
  {
   "cell_type": "code",
   "execution_count": 24,
   "id": "f2a1b313",
   "metadata": {
    "execution": {
     "iopub.execute_input": "2022-05-12T04:03:27.177787Z",
     "iopub.status.busy": "2022-05-12T04:03:27.177536Z",
     "iopub.status.idle": "2022-05-12T04:03:32.027716Z",
     "shell.execute_reply": "2022-05-12T04:03:32.027047Z"
    },
    "papermill": {
     "duration": 4.939602,
     "end_time": "2022-05-12T04:03:32.029513",
     "exception": false,
     "start_time": "2022-05-12T04:03:27.089911",
     "status": "completed"
    },
    "tags": []
   },
   "outputs": [
    {
     "name": "stderr",
     "output_type": "stream",
     "text": [
      "***** Running Prediction *****\n",
      "  Num examples = 430\n",
      "  Batch size = 16\n"
     ]
    },
    {
     "data": {
      "text/html": [
       "\n",
       "    <div>\n",
       "      \n",
       "      <progress value='28' max='27' style='width:300px; height:20px; vertical-align: middle;'></progress>\n",
       "      [27/27 00:11]\n",
       "    </div>\n",
       "    "
      ],
      "text/plain": [
       "<IPython.core.display.HTML object>"
      ]
     },
     "metadata": {},
     "output_type": "display_data"
    }
   ],
   "source": [
    "# Get prediction values from the last model.\n",
    "eval_outputs = trainer.predict(tokenized_tag_valid)\n",
    "eval_pred = eval_outputs.predictions"
   ]
  },
  {
   "cell_type": "code",
   "execution_count": 25,
   "id": "9c968ab5",
   "metadata": {
    "execution": {
     "iopub.execute_input": "2022-05-12T04:03:32.193997Z",
     "iopub.status.busy": "2022-05-12T04:03:32.193232Z",
     "iopub.status.idle": "2022-05-12T04:03:37.466862Z",
     "shell.execute_reply": "2022-05-12T04:03:37.466164Z"
    },
    "papermill": {
     "duration": 5.357457,
     "end_time": "2022-05-12T04:03:37.469223",
     "exception": false,
     "start_time": "2022-05-12T04:03:32.111766",
     "status": "completed"
    },
    "tags": []
   },
   "outputs": [
    {
     "name": "stdout",
     "output_type": "stream",
     "text": [
      "Prediction: 0 0 / True value: []\n",
      "Prediction: 16 20 / True value: ['5 9']\n",
      "Prediction: 0 0 / True value: []\n",
      "Prediction: 217 220;223 302 / True value: ['169 216']\n",
      "Prediction: 99 122 / True value: ['51 73']\n",
      "Prediction: 101 122 / True value: ['72 89']\n",
      "Prediction: 0 0 / True value: []\n",
      "Prediction: 209 217 / True value: ['134 148']\n",
      "Prediction: 0 0 / True value: []\n",
      "Prediction: 519 521;625 647 / True value: ['351 355;362 374;378 383;424 452;453 459']\n",
      "Prediction: 301 304 / True value: ['220 223']\n",
      "Prediction: 10 12 / True value: ['0 6']\n",
      "Prediction: 343 345 / True value: ['221 227']\n",
      "Prediction: 335 348 / True value: ['187 190;220 248']\n",
      "Prediction: 0 0 / True value: []\n",
      "Prediction: 0 0 / True value: ['2 7']\n",
      "Prediction: 397 411 / True value: ['286 300']\n",
      "Prediction: 0 0 / True value: []\n",
      "Prediction: 879 904 / True value: ['664 670']\n",
      "Prediction: 0 0 / True value: ['588 614']\n",
      "Prediction: 0 0 / True value: []\n",
      "Prediction: 0 0 / True value: []\n",
      "Prediction: 348 365 / True value: ['294 310']\n",
      "Prediction: 505 508;510 527 / True value: ['638 644;650 659', '646 659']\n",
      "Prediction: 0 0 / True value: ['178 183', '184 192']\n",
      "Prediction: 0 0 / True value: ['276 295', '276 290;299 308']\n",
      "Prediction: 0 0 / True value: []\n",
      "Prediction: 0 0 / True value: []\n",
      "Prediction: 55 92 / True value: ['31 45', '251 265']\n",
      "Prediction: 311 340 / True value: ['163 194']\n",
      "Prediction: 0 0 / True value: ['346 360', '346 348;362 374', '346 348;411 427', '809 814;826 833;768 770']\n",
      "Prediction: 103 128;783 799 / True value: ['59 83', '603 627']\n",
      "Prediction: 26 36;52 54 / True value: ['19 23']\n",
      "Prediction: 244 270 / True value: ['120 161']\n",
      "Prediction: 32 41 / True value: ['18 20']\n",
      "Prediction: 0 0 / True value: []\n",
      "Prediction: 299 311 / True value: ['229 245']\n",
      "Prediction: 0 0 / True value: []\n",
      "Prediction: 17 19 / True value: ['5 6']\n",
      "Prediction: 0 0 / True value: []\n",
      "Prediction: 559 589 / True value: ['386 413']\n",
      "Prediction: 0 0 / True value: []\n",
      "Prediction: 14 23 / True value: ['0 2']\n",
      "Prediction: 88 91;94 105;121 137;144 186;191 196;302 318 / True value: ['45 58', '100 136']\n",
      "Prediction: 471 479 / True value: ['419 437']\n",
      "Prediction: 734 753 / True value: ['545 555']\n",
      "Prediction: 450 458 / True value: ['304 328', '304 318;332 339']\n",
      "Prediction: 36 40 / True value: ['27 33']\n",
      "Prediction: 566 595 / True value: ['457 472', '848 863']\n",
      "Prediction: 646 655 / True value: []\n"
     ]
    }
   ],
   "source": [
    "# Print index many examples from the evaluation data.\n",
    "index = 50\n",
    "\n",
    "for idx in range(index):\n",
    "    eval_text = valid_tag_dataset['text'][idx]\n",
    "    eval_tokens = valid_tag_dataset['tokens'][idx]\n",
    "    eval_labels = np.argmax(eval_pred[idx], axis=-1)\n",
    "\n",
    "    eval_indices = token_label2idx(eval_text, eval_tokens, eval_labels)\n",
    "    result = eval_indices if eval_indices else \"0 0\"\n",
    "    eval_true = valid_tag_dataset['location'][idx]\n",
    "\n",
    "    print(f\"Prediction: {result} / True value: {eval_true}\")"
   ]
  },
  {
   "cell_type": "markdown",
   "id": "783af050",
   "metadata": {
    "papermill": {
     "duration": 0.859692,
     "end_time": "2022-05-12T04:03:38.482881",
     "exception": false,
     "start_time": "2022-05-12T04:03:37.623189",
     "status": "completed"
    },
    "tags": []
   },
   "source": [
    "## 5. Predict on Test Dataset"
   ]
  },
  {
   "cell_type": "code",
   "execution_count": 26,
   "id": "e8ac03fa",
   "metadata": {
    "execution": {
     "iopub.execute_input": "2022-05-12T04:03:38.655222Z",
     "iopub.status.busy": "2022-05-12T04:03:38.654976Z",
     "iopub.status.idle": "2022-05-12T04:03:38.715171Z",
     "shell.execute_reply": "2022-05-12T04:03:38.714484Z"
    },
    "papermill": {
     "duration": 0.148029,
     "end_time": "2022-05-12T04:03:38.716766",
     "exception": false,
     "start_time": "2022-05-12T04:03:38.568737",
     "status": "completed"
    },
    "tags": []
   },
   "outputs": [
    {
     "data": {
      "application/vnd.jupyter.widget-view+json": {
       "model_id": "86e32cac485743ac8b44d36ad4d1b992",
       "version_major": 2,
       "version_minor": 0
      },
      "text/plain": [
       "  0%|          | 0/1 [00:00<?, ?ba/s]"
      ]
     },
     "metadata": {},
     "output_type": "display_data"
    }
   ],
   "source": [
    "# Prepare dataset for prediction.\n",
    "def prepare_test_features(examples):\n",
    "    return tokenizer(\n",
    "        examples[\"tokens\"], \n",
    "        truncation=True, \n",
    "        padding=\"max_length\",\n",
    "        is_split_into_words=True)\n",
    "\n",
    "tokenized_test_dataset = test_dataset.map(prepare_test_features, \n",
    "                                          batched=True, \n",
    "                                          remove_columns=test_dataset.column_names)"
   ]
  },
  {
   "cell_type": "code",
   "execution_count": 27,
   "id": "b40506e6",
   "metadata": {
    "execution": {
     "iopub.execute_input": "2022-05-12T04:03:38.888972Z",
     "iopub.status.busy": "2022-05-12T04:03:38.888717Z",
     "iopub.status.idle": "2022-05-12T04:03:38.965771Z",
     "shell.execute_reply": "2022-05-12T04:03:38.965054Z"
    },
    "papermill": {
     "duration": 0.165211,
     "end_time": "2022-05-12T04:03:38.967476",
     "exception": false,
     "start_time": "2022-05-12T04:03:38.802265",
     "status": "completed"
    },
    "tags": []
   },
   "outputs": [
    {
     "name": "stderr",
     "output_type": "stream",
     "text": [
      "***** Running Prediction *****\n",
      "  Num examples = 5\n",
      "  Batch size = 16\n"
     ]
    }
   ],
   "source": [
    "test_output = trainer.predict(tokenized_test_dataset)\n",
    "test_pred = test_output.predictions"
   ]
  },
  {
   "cell_type": "code",
   "execution_count": 28,
   "id": "183772e5",
   "metadata": {
    "execution": {
     "iopub.execute_input": "2022-05-12T04:03:39.142095Z",
     "iopub.status.busy": "2022-05-12T04:03:39.141564Z",
     "iopub.status.idle": "2022-05-12T04:03:39.159180Z",
     "shell.execute_reply": "2022-05-12T04:03:39.158545Z"
    },
    "papermill": {
     "duration": 0.106495,
     "end_time": "2022-05-12T04:03:39.160966",
     "exception": false,
     "start_time": "2022-05-12T04:03:39.054471",
     "status": "completed"
    },
    "tags": []
   },
   "outputs": [],
   "source": [
    "predictions = []\n",
    "\n",
    "for idx in range(len(test_pred)):\n",
    "    test_text = test_dataset['text'][idx]\n",
    "    test_tokens = test_dataset['tokens'][idx]\n",
    "    test_labels = np.argmax(test_pred[idx], axis=-1)\n",
    "    \n",
    "    test_indices = token_label2idx(test_text, test_tokens, test_labels)\n",
    "    predictions.append(test_indices)"
   ]
  },
  {
   "cell_type": "code",
   "execution_count": 29,
   "id": "95573ecd",
   "metadata": {
    "execution": {
     "iopub.execute_input": "2022-05-12T04:03:39.335172Z",
     "iopub.status.busy": "2022-05-12T04:03:39.334920Z",
     "iopub.status.idle": "2022-05-12T04:03:39.350859Z",
     "shell.execute_reply": "2022-05-12T04:03:39.350051Z"
    },
    "papermill": {
     "duration": 0.105569,
     "end_time": "2022-05-12T04:03:39.352813",
     "exception": false,
     "start_time": "2022-05-12T04:03:39.247244",
     "status": "completed"
    },
    "tags": []
   },
   "outputs": [
    {
     "data": {
      "text/html": [
       "<div>\n",
       "<style scoped>\n",
       "    .dataframe tbody tr th:only-of-type {\n",
       "        vertical-align: middle;\n",
       "    }\n",
       "\n",
       "    .dataframe tbody tr th {\n",
       "        vertical-align: top;\n",
       "    }\n",
       "\n",
       "    .dataframe thead th {\n",
       "        text-align: right;\n",
       "    }\n",
       "</style>\n",
       "<table border=\"1\" class=\"dataframe\">\n",
       "  <thead>\n",
       "    <tr style=\"text-align: right;\">\n",
       "      <th></th>\n",
       "      <th>id</th>\n",
       "      <th>location</th>\n",
       "    </tr>\n",
       "  </thead>\n",
       "  <tbody>\n",
       "    <tr>\n",
       "      <th>0</th>\n",
       "      <td>00016_000</td>\n",
       "      <td></td>\n",
       "    </tr>\n",
       "    <tr>\n",
       "      <th>1</th>\n",
       "      <td>00016_001</td>\n",
       "      <td></td>\n",
       "    </tr>\n",
       "    <tr>\n",
       "      <th>2</th>\n",
       "      <td>00016_002</td>\n",
       "      <td>260 267</td>\n",
       "    </tr>\n",
       "    <tr>\n",
       "      <th>3</th>\n",
       "      <td>00016_003</td>\n",
       "      <td>120 145</td>\n",
       "    </tr>\n",
       "    <tr>\n",
       "      <th>4</th>\n",
       "      <td>00016_004</td>\n",
       "      <td>286 290;296 307</td>\n",
       "    </tr>\n",
       "  </tbody>\n",
       "</table>\n",
       "</div>"
      ],
      "text/plain": [
       "          id         location\n",
       "0  00016_000                 \n",
       "1  00016_001                 \n",
       "2  00016_002          260 267\n",
       "3  00016_003          120 145\n",
       "4  00016_004  286 290;296 307"
      ]
     },
     "metadata": {},
     "output_type": "display_data"
    }
   ],
   "source": [
    "submission['location'] = predictions\n",
    "submission.to_csv('submission.csv', index=False)\n",
    "display(submission)"
   ]
  }
 ],
 "metadata": {
  "kernelspec": {
   "display_name": "Python 3",
   "language": "python",
   "name": "python3"
  },
  "language_info": {
   "codemirror_mode": {
    "name": "ipython",
    "version": 3
   },
   "file_extension": ".py",
   "mimetype": "text/x-python",
   "name": "python",
   "nbconvert_exporter": "python",
   "pygments_lexer": "ipython3",
   "version": "3.7.12"
  },
  "papermill": {
   "default_parameters": {},
   "duration": 7363.86375,
   "end_time": "2022-05-12T04:03:42.594889",
   "environment_variables": {},
   "exception": null,
   "input_path": "__notebook__.ipynb",
   "output_path": "__notebook__.ipynb",
   "parameters": {},
   "start_time": "2022-05-12T02:00:58.731139",
   "version": "2.3.4"
  },
  "widgets": {
   "application/vnd.jupyter.widget-state+json": {
    "state": {
     "0174cbc0e5cc4f989dcb6972fd26df94": {
      "model_module": "@jupyter-widgets/controls",
      "model_module_version": "1.5.0",
      "model_name": "HTMLModel",
      "state": {
       "_dom_classes": [],
       "_model_module": "@jupyter-widgets/controls",
       "_model_module_version": "1.5.0",
       "_model_name": "HTMLModel",
       "_view_count": null,
       "_view_module": "@jupyter-widgets/controls",
       "_view_module_version": "1.5.0",
       "_view_name": "HTMLView",
       "description": "",
       "description_tooltip": null,
       "layout": "IPY_MODEL_9c837829d79c49f288f5e67cfcf5f323",
       "placeholder": "​",
       "style": "IPY_MODEL_7a224270bd1f446695c3df5fcdcae47b",
       "value": " 1/1 [00:00&lt;00:00,  1.51ba/s]"
      }
     },
     "025b861bb11f4613bb2cd9dce89a9cb6": {
      "model_module": "@jupyter-widgets/controls",
      "model_module_version": "1.5.0",
      "model_name": "ProgressStyleModel",
      "state": {
       "_model_module": "@jupyter-widgets/controls",
       "_model_module_version": "1.5.0",
       "_model_name": "ProgressStyleModel",
       "_view_count": null,
       "_view_module": "@jupyter-widgets/base",
       "_view_module_version": "1.2.0",
       "_view_name": "StyleView",
       "bar_color": null,
       "description_width": ""
      }
     },
     "1425bbdacd6340fba0dc72400ae689a2": {
      "model_module": "@jupyter-widgets/controls",
      "model_module_version": "1.5.0",
      "model_name": "HTMLModel",
      "state": {
       "_dom_classes": [],
       "_model_module": "@jupyter-widgets/controls",
       "_model_module_version": "1.5.0",
       "_model_name": "HTMLModel",
       "_view_count": null,
       "_view_module": "@jupyter-widgets/controls",
       "_view_module_version": "1.5.0",
       "_view_name": "HTMLView",
       "description": "",
       "description_tooltip": null,
       "layout": "IPY_MODEL_a96d0605eccf467cbb55f41dd06597c7",
       "placeholder": "​",
       "style": "IPY_MODEL_a35555917f8d43ac8836cc573b3541ff",
       "value": " 1/1 [00:00&lt;00:00, 25.06ba/s]"
      }
     },
     "15b670b698ef45c7976a6d617601fe32": {
      "model_module": "@jupyter-widgets/base",
      "model_module_version": "1.2.0",
      "model_name": "LayoutModel",
      "state": {
       "_model_module": "@jupyter-widgets/base",
       "_model_module_version": "1.2.0",
       "_model_name": "LayoutModel",
       "_view_count": null,
       "_view_module": "@jupyter-widgets/base",
       "_view_module_version": "1.2.0",
       "_view_name": "LayoutView",
       "align_content": null,
       "align_items": null,
       "align_self": null,
       "border": null,
       "bottom": null,
       "display": null,
       "flex": null,
       "flex_flow": null,
       "grid_area": null,
       "grid_auto_columns": null,
       "grid_auto_flow": null,
       "grid_auto_rows": null,
       "grid_column": null,
       "grid_gap": null,
       "grid_row": null,
       "grid_template_areas": null,
       "grid_template_columns": null,
       "grid_template_rows": null,
       "height": null,
       "justify_content": null,
       "justify_items": null,
       "left": null,
       "margin": null,
       "max_height": null,
       "max_width": null,
       "min_height": null,
       "min_width": null,
       "object_fit": null,
       "object_position": null,
       "order": null,
       "overflow": null,
       "overflow_x": null,
       "overflow_y": null,
       "padding": null,
       "right": null,
       "top": null,
       "visibility": null,
       "width": null
      }
     },
     "18af05f15fd9450da7f005fe625a670e": {
      "model_module": "@jupyter-widgets/controls",
      "model_module_version": "1.5.0",
      "model_name": "HTMLModel",
      "state": {
       "_dom_classes": [],
       "_model_module": "@jupyter-widgets/controls",
       "_model_module_version": "1.5.0",
       "_model_name": "HTMLModel",
       "_view_count": null,
       "_view_module": "@jupyter-widgets/controls",
       "_view_module_version": "1.5.0",
       "_view_name": "HTMLView",
       "description": "",
       "description_tooltip": null,
       "layout": "IPY_MODEL_ceb1d4f9905e4941894b1c936e24bc74",
       "placeholder": "​",
       "style": "IPY_MODEL_44a351588ff14ea89143b8be15934a0c",
       "value": "100%"
      }
     },
     "1bf888496fc94eb0800d64c3061c295a": {
      "model_module": "@jupyter-widgets/controls",
      "model_module_version": "1.5.0",
      "model_name": "DescriptionStyleModel",
      "state": {
       "_model_module": "@jupyter-widgets/controls",
       "_model_module_version": "1.5.0",
       "_model_name": "DescriptionStyleModel",
       "_view_count": null,
       "_view_module": "@jupyter-widgets/base",
       "_view_module_version": "1.2.0",
       "_view_name": "StyleView",
       "description_width": ""
      }
     },
     "254a71811c594200b4555611e72abc1d": {
      "model_module": "@jupyter-widgets/controls",
      "model_module_version": "1.5.0",
      "model_name": "HBoxModel",
      "state": {
       "_dom_classes": [],
       "_model_module": "@jupyter-widgets/controls",
       "_model_module_version": "1.5.0",
       "_model_name": "HBoxModel",
       "_view_count": null,
       "_view_module": "@jupyter-widgets/controls",
       "_view_module_version": "1.5.0",
       "_view_name": "HBoxView",
       "box_style": "",
       "children": [
        "IPY_MODEL_ce2529d59031447f9d13adfb804faa58",
        "IPY_MODEL_4de6af84df874972ab8282507899329b",
        "IPY_MODEL_508765e575df4be9a5e4a3e7df746911"
       ],
       "layout": "IPY_MODEL_27c327b0f30f449b962608583dc6172f"
      }
     },
     "27c327b0f30f449b962608583dc6172f": {
      "model_module": "@jupyter-widgets/base",
      "model_module_version": "1.2.0",
      "model_name": "LayoutModel",
      "state": {
       "_model_module": "@jupyter-widgets/base",
       "_model_module_version": "1.2.0",
       "_model_name": "LayoutModel",
       "_view_count": null,
       "_view_module": "@jupyter-widgets/base",
       "_view_module_version": "1.2.0",
       "_view_name": "LayoutView",
       "align_content": null,
       "align_items": null,
       "align_self": null,
       "border": null,
       "bottom": null,
       "display": null,
       "flex": null,
       "flex_flow": null,
       "grid_area": null,
       "grid_auto_columns": null,
       "grid_auto_flow": null,
       "grid_auto_rows": null,
       "grid_column": null,
       "grid_gap": null,
       "grid_row": null,
       "grid_template_areas": null,
       "grid_template_columns": null,
       "grid_template_rows": null,
       "height": null,
       "justify_content": null,
       "justify_items": null,
       "left": null,
       "margin": null,
       "max_height": null,
       "max_width": null,
       "min_height": null,
       "min_width": null,
       "object_fit": null,
       "object_position": null,
       "order": null,
       "overflow": null,
       "overflow_x": null,
       "overflow_y": null,
       "padding": null,
       "right": null,
       "top": null,
       "visibility": null,
       "width": null
      }
     },
     "2b00c714155c45f0bed0313ccddc2ece": {
      "model_module": "@jupyter-widgets/base",
      "model_module_version": "1.2.0",
      "model_name": "LayoutModel",
      "state": {
       "_model_module": "@jupyter-widgets/base",
       "_model_module_version": "1.2.0",
       "_model_name": "LayoutModel",
       "_view_count": null,
       "_view_module": "@jupyter-widgets/base",
       "_view_module_version": "1.2.0",
       "_view_name": "LayoutView",
       "align_content": null,
       "align_items": null,
       "align_self": null,
       "border": null,
       "bottom": null,
       "display": null,
       "flex": null,
       "flex_flow": null,
       "grid_area": null,
       "grid_auto_columns": null,
       "grid_auto_flow": null,
       "grid_auto_rows": null,
       "grid_column": null,
       "grid_gap": null,
       "grid_row": null,
       "grid_template_areas": null,
       "grid_template_columns": null,
       "grid_template_rows": null,
       "height": null,
       "justify_content": null,
       "justify_items": null,
       "left": null,
       "margin": null,
       "max_height": null,
       "max_width": null,
       "min_height": null,
       "min_width": null,
       "object_fit": null,
       "object_position": null,
       "order": null,
       "overflow": null,
       "overflow_x": null,
       "overflow_y": null,
       "padding": null,
       "right": null,
       "top": null,
       "visibility": null,
       "width": null
      }
     },
     "2e5e2451222247cc86383ef2cbe5b558": {
      "model_module": "@jupyter-widgets/controls",
      "model_module_version": "1.5.0",
      "model_name": "ProgressStyleModel",
      "state": {
       "_model_module": "@jupyter-widgets/controls",
       "_model_module_version": "1.5.0",
       "_model_name": "ProgressStyleModel",
       "_view_count": null,
       "_view_module": "@jupyter-widgets/base",
       "_view_module_version": "1.2.0",
       "_view_name": "StyleView",
       "bar_color": null,
       "description_width": ""
      }
     },
     "43040f3cf3dc44b7976384ec0afbab96": {
      "model_module": "@jupyter-widgets/controls",
      "model_module_version": "1.5.0",
      "model_name": "HTMLModel",
      "state": {
       "_dom_classes": [],
       "_model_module": "@jupyter-widgets/controls",
       "_model_module_version": "1.5.0",
       "_model_name": "HTMLModel",
       "_view_count": null,
       "_view_module": "@jupyter-widgets/controls",
       "_view_module_version": "1.5.0",
       "_view_name": "HTMLView",
       "description": "",
       "description_tooltip": null,
       "layout": "IPY_MODEL_2b00c714155c45f0bed0313ccddc2ece",
       "placeholder": "​",
       "style": "IPY_MODEL_676dddf2ef274306abe3ce0ba85b7ff5",
       "value": "100%"
      }
     },
     "44a351588ff14ea89143b8be15934a0c": {
      "model_module": "@jupyter-widgets/controls",
      "model_module_version": "1.5.0",
      "model_name": "DescriptionStyleModel",
      "state": {
       "_model_module": "@jupyter-widgets/controls",
       "_model_module_version": "1.5.0",
       "_model_name": "DescriptionStyleModel",
       "_view_count": null,
       "_view_module": "@jupyter-widgets/base",
       "_view_module_version": "1.2.0",
       "_view_name": "StyleView",
       "description_width": ""
      }
     },
     "4bbab7269d7d41a099ce773f7e171e67": {
      "model_module": "@jupyter-widgets/controls",
      "model_module_version": "1.5.0",
      "model_name": "DescriptionStyleModel",
      "state": {
       "_model_module": "@jupyter-widgets/controls",
       "_model_module_version": "1.5.0",
       "_model_name": "DescriptionStyleModel",
       "_view_count": null,
       "_view_module": "@jupyter-widgets/base",
       "_view_module_version": "1.2.0",
       "_view_name": "StyleView",
       "description_width": ""
      }
     },
     "4cee790e6dfc480cb396e400083051a3": {
      "model_module": "@jupyter-widgets/base",
      "model_module_version": "1.2.0",
      "model_name": "LayoutModel",
      "state": {
       "_model_module": "@jupyter-widgets/base",
       "_model_module_version": "1.2.0",
       "_model_name": "LayoutModel",
       "_view_count": null,
       "_view_module": "@jupyter-widgets/base",
       "_view_module_version": "1.2.0",
       "_view_name": "LayoutView",
       "align_content": null,
       "align_items": null,
       "align_self": null,
       "border": null,
       "bottom": null,
       "display": null,
       "flex": null,
       "flex_flow": null,
       "grid_area": null,
       "grid_auto_columns": null,
       "grid_auto_flow": null,
       "grid_auto_rows": null,
       "grid_column": null,
       "grid_gap": null,
       "grid_row": null,
       "grid_template_areas": null,
       "grid_template_columns": null,
       "grid_template_rows": null,
       "height": null,
       "justify_content": null,
       "justify_items": null,
       "left": null,
       "margin": null,
       "max_height": null,
       "max_width": null,
       "min_height": null,
       "min_width": null,
       "object_fit": null,
       "object_position": null,
       "order": null,
       "overflow": null,
       "overflow_x": null,
       "overflow_y": null,
       "padding": null,
       "right": null,
       "top": null,
       "visibility": null,
       "width": null
      }
     },
     "4de6af84df874972ab8282507899329b": {
      "model_module": "@jupyter-widgets/controls",
      "model_module_version": "1.5.0",
      "model_name": "FloatProgressModel",
      "state": {
       "_dom_classes": [],
       "_model_module": "@jupyter-widgets/controls",
       "_model_module_version": "1.5.0",
       "_model_name": "FloatProgressModel",
       "_view_count": null,
       "_view_module": "@jupyter-widgets/controls",
       "_view_module_version": "1.5.0",
       "_view_name": "ProgressView",
       "bar_style": "success",
       "description": "",
       "description_tooltip": null,
       "layout": "IPY_MODEL_daf15aa9db364e8c84efe607e600843d",
       "max": 14.0,
       "min": 0.0,
       "orientation": "horizontal",
       "style": "IPY_MODEL_d3f677220be74b9191b9081baacb4bb7",
       "value": 14.0
      }
     },
     "508765e575df4be9a5e4a3e7df746911": {
      "model_module": "@jupyter-widgets/controls",
      "model_module_version": "1.5.0",
      "model_name": "HTMLModel",
      "state": {
       "_dom_classes": [],
       "_model_module": "@jupyter-widgets/controls",
       "_model_module_version": "1.5.0",
       "_model_name": "HTMLModel",
       "_view_count": null,
       "_view_module": "@jupyter-widgets/controls",
       "_view_module_version": "1.5.0",
       "_view_name": "HTMLView",
       "description": "",
       "description_tooltip": null,
       "layout": "IPY_MODEL_9dca5ea3733742a1834ca29e0a9d9850",
       "placeholder": "​",
       "style": "IPY_MODEL_e05109c77f6140038c9cca116998e3b2",
       "value": " 14/14 [00:28&lt;00:00,  1.91s/ba]"
      }
     },
     "5527d375a2b745a9a13d831d1c745977": {
      "model_module": "@jupyter-widgets/controls",
      "model_module_version": "1.5.0",
      "model_name": "FloatProgressModel",
      "state": {
       "_dom_classes": [],
       "_model_module": "@jupyter-widgets/controls",
       "_model_module_version": "1.5.0",
       "_model_name": "FloatProgressModel",
       "_view_count": null,
       "_view_module": "@jupyter-widgets/controls",
       "_view_module_version": "1.5.0",
       "_view_name": "ProgressView",
       "bar_style": "success",
       "description": "",
       "description_tooltip": null,
       "layout": "IPY_MODEL_ade7e39ca86c42549097f60116f0c5fb",
       "max": 1.0,
       "min": 0.0,
       "orientation": "horizontal",
       "style": "IPY_MODEL_2e5e2451222247cc86383ef2cbe5b558",
       "value": 1.0
      }
     },
     "561677877ada4c8aa687fc38c1561dc0": {
      "model_module": "@jupyter-widgets/base",
      "model_module_version": "1.2.0",
      "model_name": "LayoutModel",
      "state": {
       "_model_module": "@jupyter-widgets/base",
       "_model_module_version": "1.2.0",
       "_model_name": "LayoutModel",
       "_view_count": null,
       "_view_module": "@jupyter-widgets/base",
       "_view_module_version": "1.2.0",
       "_view_name": "LayoutView",
       "align_content": null,
       "align_items": null,
       "align_self": null,
       "border": null,
       "bottom": null,
       "display": null,
       "flex": null,
       "flex_flow": null,
       "grid_area": null,
       "grid_auto_columns": null,
       "grid_auto_flow": null,
       "grid_auto_rows": null,
       "grid_column": null,
       "grid_gap": null,
       "grid_row": null,
       "grid_template_areas": null,
       "grid_template_columns": null,
       "grid_template_rows": null,
       "height": null,
       "justify_content": null,
       "justify_items": null,
       "left": null,
       "margin": null,
       "max_height": null,
       "max_width": null,
       "min_height": null,
       "min_width": null,
       "object_fit": null,
       "object_position": null,
       "order": null,
       "overflow": null,
       "overflow_x": null,
       "overflow_y": null,
       "padding": null,
       "right": null,
       "top": null,
       "visibility": null,
       "width": null
      }
     },
     "57cc9a4f182140bab07ccee619bf1265": {
      "model_module": "@jupyter-widgets/controls",
      "model_module_version": "1.5.0",
      "model_name": "FloatProgressModel",
      "state": {
       "_dom_classes": [],
       "_model_module": "@jupyter-widgets/controls",
       "_model_module_version": "1.5.0",
       "_model_name": "FloatProgressModel",
       "_view_count": null,
       "_view_module": "@jupyter-widgets/controls",
       "_view_module_version": "1.5.0",
       "_view_name": "ProgressView",
       "bar_style": "success",
       "description": "",
       "description_tooltip": null,
       "layout": "IPY_MODEL_561677877ada4c8aa687fc38c1561dc0",
       "max": 1.0,
       "min": 0.0,
       "orientation": "horizontal",
       "style": "IPY_MODEL_025b861bb11f4613bb2cd9dce89a9cb6",
       "value": 1.0
      }
     },
     "5e3f71935a9143fb8adbc9e81fc65843": {
      "model_module": "@jupyter-widgets/base",
      "model_module_version": "1.2.0",
      "model_name": "LayoutModel",
      "state": {
       "_model_module": "@jupyter-widgets/base",
       "_model_module_version": "1.2.0",
       "_model_name": "LayoutModel",
       "_view_count": null,
       "_view_module": "@jupyter-widgets/base",
       "_view_module_version": "1.2.0",
       "_view_name": "LayoutView",
       "align_content": null,
       "align_items": null,
       "align_self": null,
       "border": null,
       "bottom": null,
       "display": null,
       "flex": null,
       "flex_flow": null,
       "grid_area": null,
       "grid_auto_columns": null,
       "grid_auto_flow": null,
       "grid_auto_rows": null,
       "grid_column": null,
       "grid_gap": null,
       "grid_row": null,
       "grid_template_areas": null,
       "grid_template_columns": null,
       "grid_template_rows": null,
       "height": null,
       "justify_content": null,
       "justify_items": null,
       "left": null,
       "margin": null,
       "max_height": null,
       "max_width": null,
       "min_height": null,
       "min_width": null,
       "object_fit": null,
       "object_position": null,
       "order": null,
       "overflow": null,
       "overflow_x": null,
       "overflow_y": null,
       "padding": null,
       "right": null,
       "top": null,
       "visibility": null,
       "width": null
      }
     },
     "5e9f90cda16a433485078e812cb86fd4": {
      "model_module": "@jupyter-widgets/controls",
      "model_module_version": "1.5.0",
      "model_name": "FloatProgressModel",
      "state": {
       "_dom_classes": [],
       "_model_module": "@jupyter-widgets/controls",
       "_model_module_version": "1.5.0",
       "_model_name": "FloatProgressModel",
       "_view_count": null,
       "_view_module": "@jupyter-widgets/controls",
       "_view_module_version": "1.5.0",
       "_view_name": "ProgressView",
       "bar_style": "success",
       "description": "",
       "description_tooltip": null,
       "layout": "IPY_MODEL_b6ebe9c6524a43149d2b6d00c489deea",
       "max": 1.0,
       "min": 0.0,
       "orientation": "horizontal",
       "style": "IPY_MODEL_808a9c7825fe460ead65865bf54dc309",
       "value": 1.0
      }
     },
     "61ee9e0c9e124211b3bd0fae26b5c2c9": {
      "model_module": "@jupyter-widgets/controls",
      "model_module_version": "1.5.0",
      "model_name": "HTMLModel",
      "state": {
       "_dom_classes": [],
       "_model_module": "@jupyter-widgets/controls",
       "_model_module_version": "1.5.0",
       "_model_name": "HTMLModel",
       "_view_count": null,
       "_view_module": "@jupyter-widgets/controls",
       "_view_module_version": "1.5.0",
       "_view_name": "HTMLView",
       "description": "",
       "description_tooltip": null,
       "layout": "IPY_MODEL_5e3f71935a9143fb8adbc9e81fc65843",
       "placeholder": "​",
       "style": "IPY_MODEL_1bf888496fc94eb0800d64c3061c295a",
       "value": "100%"
      }
     },
     "62972d40695349cc827efb5da6d24d26": {
      "model_module": "@jupyter-widgets/controls",
      "model_module_version": "1.5.0",
      "model_name": "HBoxModel",
      "state": {
       "_dom_classes": [],
       "_model_module": "@jupyter-widgets/controls",
       "_model_module_version": "1.5.0",
       "_model_name": "HBoxModel",
       "_view_count": null,
       "_view_module": "@jupyter-widgets/controls",
       "_view_module_version": "1.5.0",
       "_view_name": "HBoxView",
       "box_style": "",
       "children": [
        "IPY_MODEL_43040f3cf3dc44b7976384ec0afbab96",
        "IPY_MODEL_5527d375a2b745a9a13d831d1c745977",
        "IPY_MODEL_b636f8584fa04a2dbe093a447ca167dd"
       ],
       "layout": "IPY_MODEL_15b670b698ef45c7976a6d617601fe32"
      }
     },
     "6365b4d47b684d03879a0acd742a68a5": {
      "model_module": "@jupyter-widgets/controls",
      "model_module_version": "1.5.0",
      "model_name": "DescriptionStyleModel",
      "state": {
       "_model_module": "@jupyter-widgets/controls",
       "_model_module_version": "1.5.0",
       "_model_name": "DescriptionStyleModel",
       "_view_count": null,
       "_view_module": "@jupyter-widgets/base",
       "_view_module_version": "1.2.0",
       "_view_name": "StyleView",
       "description_width": ""
      }
     },
     "676dddf2ef274306abe3ce0ba85b7ff5": {
      "model_module": "@jupyter-widgets/controls",
      "model_module_version": "1.5.0",
      "model_name": "DescriptionStyleModel",
      "state": {
       "_model_module": "@jupyter-widgets/controls",
       "_model_module_version": "1.5.0",
       "_model_name": "DescriptionStyleModel",
       "_view_count": null,
       "_view_module": "@jupyter-widgets/base",
       "_view_module_version": "1.2.0",
       "_view_name": "StyleView",
       "description_width": ""
      }
     },
     "68457940a1054aadaeee1a2e86f38875": {
      "model_module": "@jupyter-widgets/base",
      "model_module_version": "1.2.0",
      "model_name": "LayoutModel",
      "state": {
       "_model_module": "@jupyter-widgets/base",
       "_model_module_version": "1.2.0",
       "_model_name": "LayoutModel",
       "_view_count": null,
       "_view_module": "@jupyter-widgets/base",
       "_view_module_version": "1.2.0",
       "_view_name": "LayoutView",
       "align_content": null,
       "align_items": null,
       "align_self": null,
       "border": null,
       "bottom": null,
       "display": null,
       "flex": null,
       "flex_flow": null,
       "grid_area": null,
       "grid_auto_columns": null,
       "grid_auto_flow": null,
       "grid_auto_rows": null,
       "grid_column": null,
       "grid_gap": null,
       "grid_row": null,
       "grid_template_areas": null,
       "grid_template_columns": null,
       "grid_template_rows": null,
       "height": null,
       "justify_content": null,
       "justify_items": null,
       "left": null,
       "margin": null,
       "max_height": null,
       "max_width": null,
       "min_height": null,
       "min_width": null,
       "object_fit": null,
       "object_position": null,
       "order": null,
       "overflow": null,
       "overflow_x": null,
       "overflow_y": null,
       "padding": null,
       "right": null,
       "top": null,
       "visibility": null,
       "width": null
      }
     },
     "698c6e4abada4d41810219f858bcc506": {
      "model_module": "@jupyter-widgets/base",
      "model_module_version": "1.2.0",
      "model_name": "LayoutModel",
      "state": {
       "_model_module": "@jupyter-widgets/base",
       "_model_module_version": "1.2.0",
       "_model_name": "LayoutModel",
       "_view_count": null,
       "_view_module": "@jupyter-widgets/base",
       "_view_module_version": "1.2.0",
       "_view_name": "LayoutView",
       "align_content": null,
       "align_items": null,
       "align_self": null,
       "border": null,
       "bottom": null,
       "display": null,
       "flex": null,
       "flex_flow": null,
       "grid_area": null,
       "grid_auto_columns": null,
       "grid_auto_flow": null,
       "grid_auto_rows": null,
       "grid_column": null,
       "grid_gap": null,
       "grid_row": null,
       "grid_template_areas": null,
       "grid_template_columns": null,
       "grid_template_rows": null,
       "height": null,
       "justify_content": null,
       "justify_items": null,
       "left": null,
       "margin": null,
       "max_height": null,
       "max_width": null,
       "min_height": null,
       "min_width": null,
       "object_fit": null,
       "object_position": null,
       "order": null,
       "overflow": null,
       "overflow_x": null,
       "overflow_y": null,
       "padding": null,
       "right": null,
       "top": null,
       "visibility": null,
       "width": null
      }
     },
     "7a224270bd1f446695c3df5fcdcae47b": {
      "model_module": "@jupyter-widgets/controls",
      "model_module_version": "1.5.0",
      "model_name": "DescriptionStyleModel",
      "state": {
       "_model_module": "@jupyter-widgets/controls",
       "_model_module_version": "1.5.0",
       "_model_name": "DescriptionStyleModel",
       "_view_count": null,
       "_view_module": "@jupyter-widgets/base",
       "_view_module_version": "1.2.0",
       "_view_name": "StyleView",
       "description_width": ""
      }
     },
     "808a9c7825fe460ead65865bf54dc309": {
      "model_module": "@jupyter-widgets/controls",
      "model_module_version": "1.5.0",
      "model_name": "ProgressStyleModel",
      "state": {
       "_model_module": "@jupyter-widgets/controls",
       "_model_module_version": "1.5.0",
       "_model_name": "ProgressStyleModel",
       "_view_count": null,
       "_view_module": "@jupyter-widgets/base",
       "_view_module_version": "1.2.0",
       "_view_name": "StyleView",
       "bar_color": null,
       "description_width": ""
      }
     },
     "80d08a7621634990b2d09541e13819ad": {
      "model_module": "@jupyter-widgets/controls",
      "model_module_version": "1.5.0",
      "model_name": "HBoxModel",
      "state": {
       "_dom_classes": [],
       "_model_module": "@jupyter-widgets/controls",
       "_model_module_version": "1.5.0",
       "_model_name": "HBoxModel",
       "_view_count": null,
       "_view_module": "@jupyter-widgets/controls",
       "_view_module_version": "1.5.0",
       "_view_name": "HBoxView",
       "box_style": "",
       "children": [
        "IPY_MODEL_61ee9e0c9e124211b3bd0fae26b5c2c9",
        "IPY_MODEL_57cc9a4f182140bab07ccee619bf1265",
        "IPY_MODEL_0174cbc0e5cc4f989dcb6972fd26df94"
       ],
       "layout": "IPY_MODEL_efb8319ea11c4215a3b5694d5656adba"
      }
     },
     "86e32cac485743ac8b44d36ad4d1b992": {
      "model_module": "@jupyter-widgets/controls",
      "model_module_version": "1.5.0",
      "model_name": "HBoxModel",
      "state": {
       "_dom_classes": [],
       "_model_module": "@jupyter-widgets/controls",
       "_model_module_version": "1.5.0",
       "_model_name": "HBoxModel",
       "_view_count": null,
       "_view_module": "@jupyter-widgets/controls",
       "_view_module_version": "1.5.0",
       "_view_name": "HBoxView",
       "box_style": "",
       "children": [
        "IPY_MODEL_18af05f15fd9450da7f005fe625a670e",
        "IPY_MODEL_5e9f90cda16a433485078e812cb86fd4",
        "IPY_MODEL_1425bbdacd6340fba0dc72400ae689a2"
       ],
       "layout": "IPY_MODEL_68457940a1054aadaeee1a2e86f38875"
      }
     },
     "89083fd6893f4cca9b5c2791ff9efac8": {
      "model_module": "@jupyter-widgets/controls",
      "model_module_version": "1.5.0",
      "model_name": "HTMLModel",
      "state": {
       "_dom_classes": [],
       "_model_module": "@jupyter-widgets/controls",
       "_model_module_version": "1.5.0",
       "_model_name": "HTMLModel",
       "_view_count": null,
       "_view_module": "@jupyter-widgets/controls",
       "_view_module_version": "1.5.0",
       "_view_name": "HTMLView",
       "description": "",
       "description_tooltip": null,
       "layout": "IPY_MODEL_cff101f0c44f40c4b7e5aa8947d0fcfa",
       "placeholder": "​",
       "style": "IPY_MODEL_4bbab7269d7d41a099ce773f7e171e67",
       "value": "100%"
      }
     },
     "8bcabab1645d4f1a8f61ea3525b41f2f": {
      "model_module": "@jupyter-widgets/controls",
      "model_module_version": "1.5.0",
      "model_name": "ProgressStyleModel",
      "state": {
       "_model_module": "@jupyter-widgets/controls",
       "_model_module_version": "1.5.0",
       "_model_name": "ProgressStyleModel",
       "_view_count": null,
       "_view_module": "@jupyter-widgets/base",
       "_view_module_version": "1.2.0",
       "_view_name": "StyleView",
       "bar_color": null,
       "description_width": ""
      }
     },
     "9c837829d79c49f288f5e67cfcf5f323": {
      "model_module": "@jupyter-widgets/base",
      "model_module_version": "1.2.0",
      "model_name": "LayoutModel",
      "state": {
       "_model_module": "@jupyter-widgets/base",
       "_model_module_version": "1.2.0",
       "_model_name": "LayoutModel",
       "_view_count": null,
       "_view_module": "@jupyter-widgets/base",
       "_view_module_version": "1.2.0",
       "_view_name": "LayoutView",
       "align_content": null,
       "align_items": null,
       "align_self": null,
       "border": null,
       "bottom": null,
       "display": null,
       "flex": null,
       "flex_flow": null,
       "grid_area": null,
       "grid_auto_columns": null,
       "grid_auto_flow": null,
       "grid_auto_rows": null,
       "grid_column": null,
       "grid_gap": null,
       "grid_row": null,
       "grid_template_areas": null,
       "grid_template_columns": null,
       "grid_template_rows": null,
       "height": null,
       "justify_content": null,
       "justify_items": null,
       "left": null,
       "margin": null,
       "max_height": null,
       "max_width": null,
       "min_height": null,
       "min_width": null,
       "object_fit": null,
       "object_position": null,
       "order": null,
       "overflow": null,
       "overflow_x": null,
       "overflow_y": null,
       "padding": null,
       "right": null,
       "top": null,
       "visibility": null,
       "width": null
      }
     },
     "9dca5ea3733742a1834ca29e0a9d9850": {
      "model_module": "@jupyter-widgets/base",
      "model_module_version": "1.2.0",
      "model_name": "LayoutModel",
      "state": {
       "_model_module": "@jupyter-widgets/base",
       "_model_module_version": "1.2.0",
       "_model_name": "LayoutModel",
       "_view_count": null,
       "_view_module": "@jupyter-widgets/base",
       "_view_module_version": "1.2.0",
       "_view_name": "LayoutView",
       "align_content": null,
       "align_items": null,
       "align_self": null,
       "border": null,
       "bottom": null,
       "display": null,
       "flex": null,
       "flex_flow": null,
       "grid_area": null,
       "grid_auto_columns": null,
       "grid_auto_flow": null,
       "grid_auto_rows": null,
       "grid_column": null,
       "grid_gap": null,
       "grid_row": null,
       "grid_template_areas": null,
       "grid_template_columns": null,
       "grid_template_rows": null,
       "height": null,
       "justify_content": null,
       "justify_items": null,
       "left": null,
       "margin": null,
       "max_height": null,
       "max_width": null,
       "min_height": null,
       "min_width": null,
       "object_fit": null,
       "object_position": null,
       "order": null,
       "overflow": null,
       "overflow_x": null,
       "overflow_y": null,
       "padding": null,
       "right": null,
       "top": null,
       "visibility": null,
       "width": null
      }
     },
     "a35555917f8d43ac8836cc573b3541ff": {
      "model_module": "@jupyter-widgets/controls",
      "model_module_version": "1.5.0",
      "model_name": "DescriptionStyleModel",
      "state": {
       "_model_module": "@jupyter-widgets/controls",
       "_model_module_version": "1.5.0",
       "_model_name": "DescriptionStyleModel",
       "_view_count": null,
       "_view_module": "@jupyter-widgets/base",
       "_view_module_version": "1.2.0",
       "_view_name": "StyleView",
       "description_width": ""
      }
     },
     "a96d0605eccf467cbb55f41dd06597c7": {
      "model_module": "@jupyter-widgets/base",
      "model_module_version": "1.2.0",
      "model_name": "LayoutModel",
      "state": {
       "_model_module": "@jupyter-widgets/base",
       "_model_module_version": "1.2.0",
       "_model_name": "LayoutModel",
       "_view_count": null,
       "_view_module": "@jupyter-widgets/base",
       "_view_module_version": "1.2.0",
       "_view_name": "LayoutView",
       "align_content": null,
       "align_items": null,
       "align_self": null,
       "border": null,
       "bottom": null,
       "display": null,
       "flex": null,
       "flex_flow": null,
       "grid_area": null,
       "grid_auto_columns": null,
       "grid_auto_flow": null,
       "grid_auto_rows": null,
       "grid_column": null,
       "grid_gap": null,
       "grid_row": null,
       "grid_template_areas": null,
       "grid_template_columns": null,
       "grid_template_rows": null,
       "height": null,
       "justify_content": null,
       "justify_items": null,
       "left": null,
       "margin": null,
       "max_height": null,
       "max_width": null,
       "min_height": null,
       "min_width": null,
       "object_fit": null,
       "object_position": null,
       "order": null,
       "overflow": null,
       "overflow_x": null,
       "overflow_y": null,
       "padding": null,
       "right": null,
       "top": null,
       "visibility": null,
       "width": null
      }
     },
     "aa295249f49642f7a48cd0f370d8de8e": {
      "model_module": "@jupyter-widgets/base",
      "model_module_version": "1.2.0",
      "model_name": "LayoutModel",
      "state": {
       "_model_module": "@jupyter-widgets/base",
       "_model_module_version": "1.2.0",
       "_model_name": "LayoutModel",
       "_view_count": null,
       "_view_module": "@jupyter-widgets/base",
       "_view_module_version": "1.2.0",
       "_view_name": "LayoutView",
       "align_content": null,
       "align_items": null,
       "align_self": null,
       "border": null,
       "bottom": null,
       "display": null,
       "flex": null,
       "flex_flow": null,
       "grid_area": null,
       "grid_auto_columns": null,
       "grid_auto_flow": null,
       "grid_auto_rows": null,
       "grid_column": null,
       "grid_gap": null,
       "grid_row": null,
       "grid_template_areas": null,
       "grid_template_columns": null,
       "grid_template_rows": null,
       "height": null,
       "justify_content": null,
       "justify_items": null,
       "left": null,
       "margin": null,
       "max_height": null,
       "max_width": null,
       "min_height": null,
       "min_width": null,
       "object_fit": null,
       "object_position": null,
       "order": null,
       "overflow": null,
       "overflow_x": null,
       "overflow_y": null,
       "padding": null,
       "right": null,
       "top": null,
       "visibility": null,
       "width": null
      }
     },
     "ade7e39ca86c42549097f60116f0c5fb": {
      "model_module": "@jupyter-widgets/base",
      "model_module_version": "1.2.0",
      "model_name": "LayoutModel",
      "state": {
       "_model_module": "@jupyter-widgets/base",
       "_model_module_version": "1.2.0",
       "_model_name": "LayoutModel",
       "_view_count": null,
       "_view_module": "@jupyter-widgets/base",
       "_view_module_version": "1.2.0",
       "_view_name": "LayoutView",
       "align_content": null,
       "align_items": null,
       "align_self": null,
       "border": null,
       "bottom": null,
       "display": null,
       "flex": null,
       "flex_flow": null,
       "grid_area": null,
       "grid_auto_columns": null,
       "grid_auto_flow": null,
       "grid_auto_rows": null,
       "grid_column": null,
       "grid_gap": null,
       "grid_row": null,
       "grid_template_areas": null,
       "grid_template_columns": null,
       "grid_template_rows": null,
       "height": null,
       "justify_content": null,
       "justify_items": null,
       "left": null,
       "margin": null,
       "max_height": null,
       "max_width": null,
       "min_height": null,
       "min_width": null,
       "object_fit": null,
       "object_position": null,
       "order": null,
       "overflow": null,
       "overflow_x": null,
       "overflow_y": null,
       "padding": null,
       "right": null,
       "top": null,
       "visibility": null,
       "width": null
      }
     },
     "b4776af7599e407992bd36a95ce1985b": {
      "model_module": "@jupyter-widgets/base",
      "model_module_version": "1.2.0",
      "model_name": "LayoutModel",
      "state": {
       "_model_module": "@jupyter-widgets/base",
       "_model_module_version": "1.2.0",
       "_model_name": "LayoutModel",
       "_view_count": null,
       "_view_module": "@jupyter-widgets/base",
       "_view_module_version": "1.2.0",
       "_view_name": "LayoutView",
       "align_content": null,
       "align_items": null,
       "align_self": null,
       "border": null,
       "bottom": null,
       "display": null,
       "flex": null,
       "flex_flow": null,
       "grid_area": null,
       "grid_auto_columns": null,
       "grid_auto_flow": null,
       "grid_auto_rows": null,
       "grid_column": null,
       "grid_gap": null,
       "grid_row": null,
       "grid_template_areas": null,
       "grid_template_columns": null,
       "grid_template_rows": null,
       "height": null,
       "justify_content": null,
       "justify_items": null,
       "left": null,
       "margin": null,
       "max_height": null,
       "max_width": null,
       "min_height": null,
       "min_width": null,
       "object_fit": null,
       "object_position": null,
       "order": null,
       "overflow": null,
       "overflow_x": null,
       "overflow_y": null,
       "padding": null,
       "right": null,
       "top": null,
       "visibility": null,
       "width": null
      }
     },
     "b636f8584fa04a2dbe093a447ca167dd": {
      "model_module": "@jupyter-widgets/controls",
      "model_module_version": "1.5.0",
      "model_name": "HTMLModel",
      "state": {
       "_dom_classes": [],
       "_model_module": "@jupyter-widgets/controls",
       "_model_module_version": "1.5.0",
       "_model_name": "HTMLModel",
       "_view_count": null,
       "_view_module": "@jupyter-widgets/controls",
       "_view_module_version": "1.5.0",
       "_view_name": "HTMLView",
       "description": "",
       "description_tooltip": null,
       "layout": "IPY_MODEL_c4780efec1634cc7a25d7b34c29ad00d",
       "placeholder": "​",
       "style": "IPY_MODEL_6365b4d47b684d03879a0acd742a68a5",
       "value": " 1/1 [00:00&lt;00:00,  1.19ba/s]"
      }
     },
     "b6ebe9c6524a43149d2b6d00c489deea": {
      "model_module": "@jupyter-widgets/base",
      "model_module_version": "1.2.0",
      "model_name": "LayoutModel",
      "state": {
       "_model_module": "@jupyter-widgets/base",
       "_model_module_version": "1.2.0",
       "_model_name": "LayoutModel",
       "_view_count": null,
       "_view_module": "@jupyter-widgets/base",
       "_view_module_version": "1.2.0",
       "_view_name": "LayoutView",
       "align_content": null,
       "align_items": null,
       "align_self": null,
       "border": null,
       "bottom": null,
       "display": null,
       "flex": null,
       "flex_flow": null,
       "grid_area": null,
       "grid_auto_columns": null,
       "grid_auto_flow": null,
       "grid_auto_rows": null,
       "grid_column": null,
       "grid_gap": null,
       "grid_row": null,
       "grid_template_areas": null,
       "grid_template_columns": null,
       "grid_template_rows": null,
       "height": null,
       "justify_content": null,
       "justify_items": null,
       "left": null,
       "margin": null,
       "max_height": null,
       "max_width": null,
       "min_height": null,
       "min_width": null,
       "object_fit": null,
       "object_position": null,
       "order": null,
       "overflow": null,
       "overflow_x": null,
       "overflow_y": null,
       "padding": null,
       "right": null,
       "top": null,
       "visibility": null,
       "width": null
      }
     },
     "c4780efec1634cc7a25d7b34c29ad00d": {
      "model_module": "@jupyter-widgets/base",
      "model_module_version": "1.2.0",
      "model_name": "LayoutModel",
      "state": {
       "_model_module": "@jupyter-widgets/base",
       "_model_module_version": "1.2.0",
       "_model_name": "LayoutModel",
       "_view_count": null,
       "_view_module": "@jupyter-widgets/base",
       "_view_module_version": "1.2.0",
       "_view_name": "LayoutView",
       "align_content": null,
       "align_items": null,
       "align_self": null,
       "border": null,
       "bottom": null,
       "display": null,
       "flex": null,
       "flex_flow": null,
       "grid_area": null,
       "grid_auto_columns": null,
       "grid_auto_flow": null,
       "grid_auto_rows": null,
       "grid_column": null,
       "grid_gap": null,
       "grid_row": null,
       "grid_template_areas": null,
       "grid_template_columns": null,
       "grid_template_rows": null,
       "height": null,
       "justify_content": null,
       "justify_items": null,
       "left": null,
       "margin": null,
       "max_height": null,
       "max_width": null,
       "min_height": null,
       "min_width": null,
       "object_fit": null,
       "object_position": null,
       "order": null,
       "overflow": null,
       "overflow_x": null,
       "overflow_y": null,
       "padding": null,
       "right": null,
       "top": null,
       "visibility": null,
       "width": null
      }
     },
     "c4fc5699735245afa20e2061aa111d1a": {
      "model_module": "@jupyter-widgets/controls",
      "model_module_version": "1.5.0",
      "model_name": "HTMLModel",
      "state": {
       "_dom_classes": [],
       "_model_module": "@jupyter-widgets/controls",
       "_model_module_version": "1.5.0",
       "_model_name": "HTMLModel",
       "_view_count": null,
       "_view_module": "@jupyter-widgets/controls",
       "_view_module_version": "1.5.0",
       "_view_name": "HTMLView",
       "description": "",
       "description_tooltip": null,
       "layout": "IPY_MODEL_4cee790e6dfc480cb396e400083051a3",
       "placeholder": "​",
       "style": "IPY_MODEL_cdc9dbdbb2c942258a85e534fe266426",
       "value": " 42/42 [01:06&lt;00:00,  1.53s/ba]"
      }
     },
     "cdc9dbdbb2c942258a85e534fe266426": {
      "model_module": "@jupyter-widgets/controls",
      "model_module_version": "1.5.0",
      "model_name": "DescriptionStyleModel",
      "state": {
       "_model_module": "@jupyter-widgets/controls",
       "_model_module_version": "1.5.0",
       "_model_name": "DescriptionStyleModel",
       "_view_count": null,
       "_view_module": "@jupyter-widgets/base",
       "_view_module_version": "1.2.0",
       "_view_name": "StyleView",
       "description_width": ""
      }
     },
     "ce2529d59031447f9d13adfb804faa58": {
      "model_module": "@jupyter-widgets/controls",
      "model_module_version": "1.5.0",
      "model_name": "HTMLModel",
      "state": {
       "_dom_classes": [],
       "_model_module": "@jupyter-widgets/controls",
       "_model_module_version": "1.5.0",
       "_model_name": "HTMLModel",
       "_view_count": null,
       "_view_module": "@jupyter-widgets/controls",
       "_view_module_version": "1.5.0",
       "_view_name": "HTMLView",
       "description": "",
       "description_tooltip": null,
       "layout": "IPY_MODEL_aa295249f49642f7a48cd0f370d8de8e",
       "placeholder": "​",
       "style": "IPY_MODEL_e1a9496a15734f76869c1db5a25c644b",
       "value": "100%"
      }
     },
     "ceb1d4f9905e4941894b1c936e24bc74": {
      "model_module": "@jupyter-widgets/base",
      "model_module_version": "1.2.0",
      "model_name": "LayoutModel",
      "state": {
       "_model_module": "@jupyter-widgets/base",
       "_model_module_version": "1.2.0",
       "_model_name": "LayoutModel",
       "_view_count": null,
       "_view_module": "@jupyter-widgets/base",
       "_view_module_version": "1.2.0",
       "_view_name": "LayoutView",
       "align_content": null,
       "align_items": null,
       "align_self": null,
       "border": null,
       "bottom": null,
       "display": null,
       "flex": null,
       "flex_flow": null,
       "grid_area": null,
       "grid_auto_columns": null,
       "grid_auto_flow": null,
       "grid_auto_rows": null,
       "grid_column": null,
       "grid_gap": null,
       "grid_row": null,
       "grid_template_areas": null,
       "grid_template_columns": null,
       "grid_template_rows": null,
       "height": null,
       "justify_content": null,
       "justify_items": null,
       "left": null,
       "margin": null,
       "max_height": null,
       "max_width": null,
       "min_height": null,
       "min_width": null,
       "object_fit": null,
       "object_position": null,
       "order": null,
       "overflow": null,
       "overflow_x": null,
       "overflow_y": null,
       "padding": null,
       "right": null,
       "top": null,
       "visibility": null,
       "width": null
      }
     },
     "cff101f0c44f40c4b7e5aa8947d0fcfa": {
      "model_module": "@jupyter-widgets/base",
      "model_module_version": "1.2.0",
      "model_name": "LayoutModel",
      "state": {
       "_model_module": "@jupyter-widgets/base",
       "_model_module_version": "1.2.0",
       "_model_name": "LayoutModel",
       "_view_count": null,
       "_view_module": "@jupyter-widgets/base",
       "_view_module_version": "1.2.0",
       "_view_name": "LayoutView",
       "align_content": null,
       "align_items": null,
       "align_self": null,
       "border": null,
       "bottom": null,
       "display": null,
       "flex": null,
       "flex_flow": null,
       "grid_area": null,
       "grid_auto_columns": null,
       "grid_auto_flow": null,
       "grid_auto_rows": null,
       "grid_column": null,
       "grid_gap": null,
       "grid_row": null,
       "grid_template_areas": null,
       "grid_template_columns": null,
       "grid_template_rows": null,
       "height": null,
       "justify_content": null,
       "justify_items": null,
       "left": null,
       "margin": null,
       "max_height": null,
       "max_width": null,
       "min_height": null,
       "min_width": null,
       "object_fit": null,
       "object_position": null,
       "order": null,
       "overflow": null,
       "overflow_x": null,
       "overflow_y": null,
       "padding": null,
       "right": null,
       "top": null,
       "visibility": null,
       "width": null
      }
     },
     "d3f677220be74b9191b9081baacb4bb7": {
      "model_module": "@jupyter-widgets/controls",
      "model_module_version": "1.5.0",
      "model_name": "ProgressStyleModel",
      "state": {
       "_model_module": "@jupyter-widgets/controls",
       "_model_module_version": "1.5.0",
       "_model_name": "ProgressStyleModel",
       "_view_count": null,
       "_view_module": "@jupyter-widgets/base",
       "_view_module_version": "1.2.0",
       "_view_name": "StyleView",
       "bar_color": null,
       "description_width": ""
      }
     },
     "daf15aa9db364e8c84efe607e600843d": {
      "model_module": "@jupyter-widgets/base",
      "model_module_version": "1.2.0",
      "model_name": "LayoutModel",
      "state": {
       "_model_module": "@jupyter-widgets/base",
       "_model_module_version": "1.2.0",
       "_model_name": "LayoutModel",
       "_view_count": null,
       "_view_module": "@jupyter-widgets/base",
       "_view_module_version": "1.2.0",
       "_view_name": "LayoutView",
       "align_content": null,
       "align_items": null,
       "align_self": null,
       "border": null,
       "bottom": null,
       "display": null,
       "flex": null,
       "flex_flow": null,
       "grid_area": null,
       "grid_auto_columns": null,
       "grid_auto_flow": null,
       "grid_auto_rows": null,
       "grid_column": null,
       "grid_gap": null,
       "grid_row": null,
       "grid_template_areas": null,
       "grid_template_columns": null,
       "grid_template_rows": null,
       "height": null,
       "justify_content": null,
       "justify_items": null,
       "left": null,
       "margin": null,
       "max_height": null,
       "max_width": null,
       "min_height": null,
       "min_width": null,
       "object_fit": null,
       "object_position": null,
       "order": null,
       "overflow": null,
       "overflow_x": null,
       "overflow_y": null,
       "padding": null,
       "right": null,
       "top": null,
       "visibility": null,
       "width": null
      }
     },
     "e05109c77f6140038c9cca116998e3b2": {
      "model_module": "@jupyter-widgets/controls",
      "model_module_version": "1.5.0",
      "model_name": "DescriptionStyleModel",
      "state": {
       "_model_module": "@jupyter-widgets/controls",
       "_model_module_version": "1.5.0",
       "_model_name": "DescriptionStyleModel",
       "_view_count": null,
       "_view_module": "@jupyter-widgets/base",
       "_view_module_version": "1.2.0",
       "_view_name": "StyleView",
       "description_width": ""
      }
     },
     "e1a9496a15734f76869c1db5a25c644b": {
      "model_module": "@jupyter-widgets/controls",
      "model_module_version": "1.5.0",
      "model_name": "DescriptionStyleModel",
      "state": {
       "_model_module": "@jupyter-widgets/controls",
       "_model_module_version": "1.5.0",
       "_model_name": "DescriptionStyleModel",
       "_view_count": null,
       "_view_module": "@jupyter-widgets/base",
       "_view_module_version": "1.2.0",
       "_view_name": "StyleView",
       "description_width": ""
      }
     },
     "e63cbd535a014c7a9d20e28152f9afa4": {
      "model_module": "@jupyter-widgets/controls",
      "model_module_version": "1.5.0",
      "model_name": "FloatProgressModel",
      "state": {
       "_dom_classes": [],
       "_model_module": "@jupyter-widgets/controls",
       "_model_module_version": "1.5.0",
       "_model_name": "FloatProgressModel",
       "_view_count": null,
       "_view_module": "@jupyter-widgets/controls",
       "_view_module_version": "1.5.0",
       "_view_name": "ProgressView",
       "bar_style": "success",
       "description": "",
       "description_tooltip": null,
       "layout": "IPY_MODEL_b4776af7599e407992bd36a95ce1985b",
       "max": 42.0,
       "min": 0.0,
       "orientation": "horizontal",
       "style": "IPY_MODEL_8bcabab1645d4f1a8f61ea3525b41f2f",
       "value": 42.0
      }
     },
     "e9a47cae2ca04b5a928eacf9f7be7e53": {
      "model_module": "@jupyter-widgets/controls",
      "model_module_version": "1.5.0",
      "model_name": "HBoxModel",
      "state": {
       "_dom_classes": [],
       "_model_module": "@jupyter-widgets/controls",
       "_model_module_version": "1.5.0",
       "_model_name": "HBoxModel",
       "_view_count": null,
       "_view_module": "@jupyter-widgets/controls",
       "_view_module_version": "1.5.0",
       "_view_name": "HBoxView",
       "box_style": "",
       "children": [
        "IPY_MODEL_89083fd6893f4cca9b5c2791ff9efac8",
        "IPY_MODEL_e63cbd535a014c7a9d20e28152f9afa4",
        "IPY_MODEL_c4fc5699735245afa20e2061aa111d1a"
       ],
       "layout": "IPY_MODEL_698c6e4abada4d41810219f858bcc506"
      }
     },
     "efb8319ea11c4215a3b5694d5656adba": {
      "model_module": "@jupyter-widgets/base",
      "model_module_version": "1.2.0",
      "model_name": "LayoutModel",
      "state": {
       "_model_module": "@jupyter-widgets/base",
       "_model_module_version": "1.2.0",
       "_model_name": "LayoutModel",
       "_view_count": null,
       "_view_module": "@jupyter-widgets/base",
       "_view_module_version": "1.2.0",
       "_view_name": "LayoutView",
       "align_content": null,
       "align_items": null,
       "align_self": null,
       "border": null,
       "bottom": null,
       "display": null,
       "flex": null,
       "flex_flow": null,
       "grid_area": null,
       "grid_auto_columns": null,
       "grid_auto_flow": null,
       "grid_auto_rows": null,
       "grid_column": null,
       "grid_gap": null,
       "grid_row": null,
       "grid_template_areas": null,
       "grid_template_columns": null,
       "grid_template_rows": null,
       "height": null,
       "justify_content": null,
       "justify_items": null,
       "left": null,
       "margin": null,
       "max_height": null,
       "max_width": null,
       "min_height": null,
       "min_width": null,
       "object_fit": null,
       "object_position": null,
       "order": null,
       "overflow": null,
       "overflow_x": null,
       "overflow_y": null,
       "padding": null,
       "right": null,
       "top": null,
       "visibility": null,
       "width": null
      }
     }
    },
    "version_major": 2,
    "version_minor": 0
   }
  }
 },
 "nbformat": 4,
 "nbformat_minor": 5
}
